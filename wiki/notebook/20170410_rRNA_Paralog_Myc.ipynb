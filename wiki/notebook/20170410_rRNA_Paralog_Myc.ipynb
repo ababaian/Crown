{
 "cells": [
  {
   "cell_type": "markdown",
   "metadata": {},
   "source": [
    "# rRNA Paralog - Myc\n",
    "```\n",
    "pi:ababaian\n",
    "files: ~/Crown/data/myc\n",
    "start: 2017 04 03\n",
    "complete : YYYY MM DD\n",
    "```\n",
    "## Introduction\n",
    "\n",
    "One of the central conjectures of rRNA variant paper is that the abundant / prevelant variants in the 107 genomes are paralogs of RNA45S, with distinct intra-cellular functions.\n",
    "\n",
    "If that is assumed to be true then it follows that under conditions of global translational differences that the paralogs would be differentially expressed as the 'class' of translation shifts.\n",
    "\n",
    "\n",
    "* Senescence\n",
    "* Transformation\n",
    "* Myc Activation\n",
    "* Interferon Treatment\n",
    "* ...\n",
    "\n",
    "( I've completed working on the 'Myc' and 'IFNg' data without taking detailed notes (sorry), developing the pipeline, this will be the write-up of the method and a generalized workflow is available [here](./20170410_rRNA_Paralog_workflow) )\n",
    "\n",
    "### Hypothesis\n",
    "\n",
    "* Upon cMyc overexpression and the associated increase in cell proliferation, a 'workhorse' rRNA paralog will increase in relative expression.\n",
    "\n",
    "* Upon si-cMyc and slowed cell proliferation, the 'workhorse' rRNA will decrease in relative expression.\n"
   ]
  },
  {
   "cell_type": "markdown",
   "metadata": {
    "collapsed": true
   },
   "source": [
    "## Objective\n",
    "\n",
    "Develop a work-flow to rapidly assess an RNA-seq experiment and look for differences in expressed rRNA variants.\n",
    "\n",
    "Identify which variants are the 'Myc-induced Workhorse rRNA' variants."
   ]
  },
  {
   "cell_type": "markdown",
   "metadata": {},
   "source": [
    "## Materials and Methods\n",
    "\n",
    "This experiment is broken down into three sub-parts; siMyc, indMyc and indMyc2(siRNA knockdown of Myc, and inducible Myc system).\n",
    "\n",
    "[Data from Jaenicke et al., 2015](https://www.ncbi.nlm.nih.gov/pubmed/26687678)\n",
    "\n",
    "[rRNA Paralog -- Workflow](./20170410_rRNA_Paralog_workflow.ipynb)\n",
    "\n",
    "Each sub-part has it's own folder and the associated scripts to generate that data is within the folder.\n"
   ]
  },
  {
   "cell_type": "markdown",
   "metadata": {},
   "source": [
    "### siMyc_data.txt\n",
    "```\n",
    "siCtrl_1\tIMEC\tSRS1171731\tinVitro\tSRR2939550.fastq.gz\n",
    "siCtrl_1B\tIMEC\tSRS1171730\tinVitro\tSRR2939551.fastq.gz\n",
    "siMYC_1\tIMEC\tSRS1171729\tinVitro\tSRR2939552.fastq.gz\n",
    "siCtrl_2\tIMEC\tSRS1171727\tinVitro\tSRR2939554.fastq.gz\n",
    "siMYC_2\tIMEC\tSRS1171726\tinVitro\tSRR2939555.fastq.gz\n",
    "```\n",
    "\n",
    "### indMyc1.txt\n",
    "```\n",
    "mt-dox_1\tIMEC\tSRS965185\tinVitro\tSRR2069978.fastq.gz \n",
    "mt-dox_2\tIMEC\tSRS965180\tinVitro\tSRR2069983.fastq.gz \n",
    "myc-etoh_1\tIMEC\tSRS965183\tinVitro\tSRR2069980.fastq.gz \n",
    "myc-etoh_2\tIMEC\tSRS965178\tinVitro\tSRR2069985.fastq.gz\n",
    "myc-dox_1\tIMEC\tSRS965184\tinVitro\tSRR2069979.fastq.gz \n",
    "myc-dox_2\tIMEC\tSRS965179\tinVitro\tSRR2069984.fastq.gz\n",
    "```\n",
    "\n",
    "### indMyc2.txt\n",
    "```\n",
    "myc-etoh_1\tIMEC\tSRS1171734\tinVitro\tSRR2939547.fastq.gz\n",
    "myc-etoh_2\tIMEC\tSRS1171740\tinVitro\tSRR2939541.fastq.gz\n",
    "myc-dox_1\tIMEC\tSRS1171744\tinVitro\tSRR2939537.fastq.gz\n",
    "myc-dox_1b\tIMEC\tSRS1171743\tinVitro\tSRR2939538.fastq.gz\n",
    "myc-dox_1c\tIMEC\tSRS1171733\tinVitro\tSRR2939548.fastq.gz\n",
    "myc-dox_2\tIMEC\tSRS1171739\tinVitro\tSRR2939542.fastq.gz\n",
    "```\n"
   ]
  },
  {
   "cell_type": "code",
   "execution_count": null,
   "metadata": {
    "collapsed": true
   },
   "outputs": [],
   "source": []
  },
  {
   "cell_type": "markdown",
   "metadata": {},
   "source": [
    "## Results\n"
   ]
  },
  {
   "cell_type": "markdown",
   "metadata": {},
   "source": [
    "## Discussion\n"
   ]
  }
 ],
 "metadata": {
  "kernelspec": {
   "display_name": "Bash",
   "language": "bash",
   "name": "bash"
  },
  "language_info": {
   "codemirror_mode": "shell",
   "file_extension": ".sh",
   "mimetype": "text/x-sh",
   "name": "bash"
  }
 },
 "nbformat": 4,
 "nbformat_minor": 0
}
