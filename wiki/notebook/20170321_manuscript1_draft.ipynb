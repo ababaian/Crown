{
 "cells": [
  {
   "cell_type": "markdown",
   "metadata": {},
   "source": [
    "# Intra- and Inter-individual genetic variation in human ribosomal RNA\n",
    "```\n",
    "pi:ababaian\n",
    "start: 2017 02 11\n",
    "complete : 2017 03 21\n",
    "```\n",
    "\n",
    "## Manuscript online at Biorxiv\n",
    "\n",
    "['Intra- and Inter-individual genetic variation in human ribosomal RNAs'](http://biorxiv.org/content/early/2017/03/21/118760)\n"
   ]
  },
  {
   "cell_type": "markdown",
   "metadata": {},
   "source": [
    "## Abstract\n",
    "\n",
    "The ribosome is an RNA-protein complex essential to all life. This ancient complex translates genetic information into protein. In humans, a mature ribosome contains four structural and catalytic ribosomal RNAs (rRNAs): 5S, 18S, 5.8S and 28S. The genes encoding rRNA, *RNA5S* and *RNA45S* are present in highly repetitive arrays composing the p-arms of the acrocentric chromosomes. The long-standing hypothesis is that the rRNA genes undergo sequence 'homogenization' and thus are largely uniform. \n",
    "\n",
    "Here I present the intra- and inter-individual genetic variation in the rRNA genes and promoters. Using state of the art high-coverage, PCR-free whole genome sequencing, I define 194.6 intra-genomic variants per individual (n = 3, 8448x coverage). Just over half (56.5% +- 2.8%) of variants are at a low (0.02 - 0.10) intra-genomic variant allele frequency (iVAF), but a sub-set of variants such as 28S.59A>G are abundant amongst the rDNA copies. Further, 28S.59A>G shows near equal bi-allelic expression in every RNA-sequencing dataset investigated to date (n = 39), including in a total-RNA sequencing experiment.\n",
    "\n",
    "To measure rRNA genetic variation between humans, 104 genomes from 26 populations were analyzed to reveal 926 high-confidence variant positions. There is an interesting relationship between intra-genomic (iVAF) and population variant allele frequency (pVAF). Altogether I describe 24 variants which are abundant within the genome (iVAF: 0.33 - 0.66) and across humans (pVAF: 0.5-1.0). The expressed variant, 28S.59A>G is found in every genome.\n",
    "\n",
    "The concept that ribosomes are homogenous complexes is becoming increasingly challenged. So called ribosomal heterogeneity has been demonstrated at the protein subunit and RNA-modification levels. This study presents compelling evidence that rRNA are heterogeneous, or even paralogous, at the primary sequence level and that the variation is common to all humans.\n",
    "\n",
    "Since the ribosome is centrally critical to the conversion of genetic information into proteins and phenotype, intra-individual and inter-individual variation in rDNA raises the fundamental question: do ribosomes from distinct individuals interpret and express the same genetic information in an identical manner or not?\n"
   ]
  },
  {
   "cell_type": "markdown",
   "metadata": {},
   "source": [
    "## Introduction\n",
    "\n",
    "The ribosome is an RNA-protein complex essential to all life. This ancient complex translates genetic information into protein. In humans, a mature ribosome (80S) contains four structural and catalytic RNA molecules: 18S in the small subunit and 5S, 5.8S and 28S in the large subunit.\n",
    "\n",
    "Ribosomes are highly abundant in cells with ribosomal RNA (rRNA) making up >80% of the RNA in a human cells. To be transcribed to such a high level the DNA encoding for rRNA (rDNA) is present at ~300 copies. The  RNA45S gene encodes the 45S pre-rRNA, which is processed and modified into 18S, 5.8S and 28S. The 13.5 kb RNA45S sits within a 43 kb rDNA repeat, which in turn are arranged in tandem arrays making up the acrocentric arms of chromosomes 13, 14, 15, 21 and 22. The 5S rRNA gene, RNA5S, is found on a tandem-repeated locus at chromosome 1p42.13. [ref](https://www.ncbi.nlm.nih.gov/pmc/articles/PMC2134781/)\n",
    "\n",
    "In the initial human genome sequencing project rDNA-containg BACmids were systematically depleted since sequencing was expensive and these repetative sequences are thought to 'homogenize' into a uniform sequence [ref](http://www.nature.com/nature/journal/v431/n7011/full/nature03001.html), [ref](https://mobilednajournal.biomedcentral.com/articles/10.1186/1759-8753-3-10). Yet notably, the original research yeilding the reference human rDNA [Kuo and collegues](https://www.ncbi.nlm.nih.gov/pubmed/8972871) [ref](https://www.ncbi.nlm.nih.gov/pubmed/8464736) repeatedly cloned and sequenced variants both within and between individuals. The variation in these clones localized to 'variable loop regions' and at the time it would have been challenging to distinguish these variants from pseudogenized rDNA. Recently with improvements in sequencing technology, rDNA variation has been increasingly characterized in a diverse collection of species [ref](https://www.ncbi.nlm.nih.gov/pubmed/19341395), [ref](http://journals.plos.org/plosone/article?id=10.1371/journal.pone.0078230), [ref](https://www.ncbi.nlm.nih.gov/pmc/articles/PMC3563450/), [ref](https://www.ncbi.nlm.nih.gov/pmc/articles/PMC5023732/), [ref](https://www.ncbi.nlm.nih.gov/pmc/articles/PMC4477887/), [ref](https://www.ncbi.nlm.nih.gov/pubmed/19341395) so rRNA/rDNA may not be as homogenous as previously thought.\n",
    "\n",
    "Originally I hypothesized that a transposable element could exist within human rDNA (similar to the *Drosophila* R1 and R2 elements [ref](https://mobilednajournal.biomedcentral.com/articles/10.1186/1759-8753-3-10)) yet would be undetected by standard variant analysis of the human genome. I interrogated human rDNA using next-generation sequencing technology and 're-discovered' massive intra- and inter-individual sequence heterogenity in human rRNA, including expressed variants of 18S and 28S.\n"
   ]
  },
  {
   "cell_type": "markdown",
   "metadata": {},
   "source": [
    "## Results\n",
    "\n",
    "### Intra-individual variation in rDNA\n",
    "To measure the intra-individual variation in rDNA, high coverage PCR-free whole genome sequencing data [ref](http://genome.cshlp.org/content/27/1/157) (DNAseq) from the Utah CEPH-1463 trio (daughter, NA12878; father, NA12891; mother, NA12892) was aligned to the reference human rDNA sequence `hgr1` (Figure 1A and materials and methods).\n",
    "\n",
    "`Hgr1` was covered to an average depth of 8853x (Figure 1B). There are an average of 192.7 (+-14.3) variants per individual at an intra-genomic variant allele frequency (iVAF) greater than 2%. At a 10% iVAF, there are 85.3 (+- 4.2) variants per individual (Figure 1C). The distribution of the variants is uneven over the different regions of rDNA (Figure 1D). Excluding 5S and 5.8S which were invariable, the density of variation was lower in 18S and 28S at 9.7 variants per kilobase compared to the other transcribed regions at 15.8 variants per kilobase, a trend consistent with rDNA variation in other species[nematode,].\n",
    "\n",
    "{ evolutionary conservation}\n",
    "\n",
    "To test if the variants in the mature rRNA are expressed, poly-A selected RNA sequencing (RNAseq) from the GM12878 lymphoblastoid cell line (derived from NA12878) was analyzed [ref](https://www.ncbi.nlm.nih.gov/pubmed/22955616). Variants at positions of moderate GC-content could be analyzed such as 28S.59G>A which shows bi-allelic expression.  To interrogate a purer rRNA library, K562 total RNAseq (not poly-A selected, not rRNA-depleted) was analyzed with 70.3% of all reads mapping to rDNA, and here too 28S.59G>A has bi-allelic expression. (Figure 1F)\n",
    "\n",
    "While inspecting RNAseq libraries, one variant was recurrently observed at the highly conserved 18S.1248T, yet was absent from DNAseq. In the reference RNA, this base is a uradine, but in the mature 18S rRNA, this base is hyper-modified to 1-methyl-3-(a-amino-a-carboxyl-propyl) Pseudouridine (Figure 1E) for it's function in the catalyitic core of the ribosome's P-site. This hyper-modification hinders reverse transcriptase function [ref] thus the variation likely is an error profile specific to this modified nucleotide. Besides being interesting, these findings mean that most standard poly-A selected RNAseq libraries can be used to measure variant rRNA expression in future studies.\n",
    "\n",
    "### Inter-individual variation in rDNA\n",
    "To measure if there is rDNA variation between individuals, 104 genomes (four genomes from each of 26 populations) [ref](http://www.nature.com/nature/journal/v526/n7571/full/nature15393.html) were aligned to the `hgr1`.\n",
    "\n",
    "Combined variant discovery (see materials and methods) from all 107 genomes yeilded 947 variants at 926 distinct positions passing quality control (p < 0.001) (Figure 2A, Supplementary File 1). 78% of variants are single nucleotide substitutions favoring strong base changes and the remaining near-equally divided between insertions and deletions (Figure 2B). \n",
    "\n",
    "The density of variation across *RNA45S* largely matches the CEPH-1436 trio distribution but offers better resolution of regions absent of variation, notably 5S and 5.8S, and regions of 18S and 28S. It's important to note that regions of extreme GC-content had lower sequencing coverage across the DNAseq libraries, and more 'no data' points then moderage-GC regions, somethign which can be addressed with deeper sequencing libraries in the future.\n",
    "\n",
    "Reasoning that biologically relevant variants, with respect to cell- or tissue-heterogenous ribosomes, would be maintained in humans, I quantitatively assessed the distribution of the variants in the population (Figure 2C). There is a cluster of variants which are both prevelant in the majority of individuals, and abundant within individuals (iVAF 0.33 - 0.66). Alternatively these variants could have had a higher iVAF in human ancestors, that too could explain their prevelance and abundance. To truely measure balancing selection in rDNA, a more complete understanding of their heredity is neccesary but the candidates variants identified warrant further, biochemical and molecular analysis (Table 1).\n",
    "\n",
    "Surprisingly, by organizing the 26 human populations into their five super-populations, blocks of called variants or even possibly alternative haplotypes emerged (yellow arrows, Figure 2A). These uncommon, abundant variants have a higher iVAF and low pVAF in Figure 2C. This lends support to the idea that besides intra-individual heterogeneity, there is population-level hetereogenetity in rRNA. \n",
    "\n",
    "Altogether, there is substantial intra- and inter-individual variation in human rDNA, and these exciting findings raise far more questions then they answer.\n"
   ]
  },
  {
   "cell_type": "markdown",
   "metadata": {},
   "source": [
    "## Discussion\n",
    "\n",
    "The idea that ribosomes are homogenous is increasingly being challenged [ref](https://www.ncbi.nlm.nih.gov/pubmed/?term=26764228) [ref](http://www.annualreviews.org/doi/full/10.1146/annurev-cellbio-100814-125346?url_ver=Z39.88-2003&rfr_id=ori%3Arid%3Acrossref.org&rfr_dat=cr_pub%3Dpubmed). In a land-mark study, knock-out of the murine large sub-unit ribosomal protein (RP), RPL38 resulted in the specific loss of translation of a set of internal ribosomal entry site-dependent HOX genes, but not in global translation [ref](https://www.ncbi.nlm.nih.gov/pubmed/21529712). [ref](http://www.nature.com/nature/journal/v517/n7532/full/nature14010.html)\n",
    "\n",
    "In a biochemical analysis of RPs in mouse embryonic stem cells, the stoichiometry of the different RPs varies between isolated monosomes and polysomes [ref](https://www.ncbi.nlm.nih.gov/pmc/articles/PMC4644233/). At the transcriptomic level, the relative RP mRNA in yeast varies with growth conditions, and humans RP mRNA vary across tissues,[ref](http://journals.plos.org/plosone/article?id=10.1371/journal.pone.0166021), and between normal and malignant cells [ref](https://www.ncbi.nlm.nih.gov/pmc/articles/PMC5123215/).\n",
    "\n",
    "These studies have interrogated ribosomal variation at the protein subunit and post-transcriptional modification levels, in contrast the intra-individual genetic variation, especially variants present in all of the population such as 28S.59G>A, offers an enticing new dimension to intra-cellular or intra-individual ribosomal heterogeneity. Since the 'backbone' and catalytic core of the ribosome is the rRNA, it's tempting to speculate that differences in the RP-composition and rRNA modifications arise from distinct paralogs of rRNA. \n",
    "\n",
    "The central role of the ribosome all translation implies that even small changes to translational efficiency or regulation may have large phenotypic consequences. The paramount significance of these genes is underscored by how little we know about their variation in humans or other mammals.\n",
    "\n",
    "It's relatively easy to include rDNA analysis to existing high-throuput DNA and RNA sequencing as demonstrated, but further elucidation of how to meaningfully interpret these variants from a population and evolutionary perspective is neccesary.\n",
    "\n",
    "In particular there is a broad class of human genetic diseases called ribosomeopathies, such as Diamond-Blackfan anemia and X-linked dyskeratosis congenita, caused by mutation to ribosomal protein or ribosomal biogenesis factors  (reviewed by [Nakhoul et al.,](https://www.ncbi.nlm.nih.gov/pmc/articles/PMC4251057/)). Notably, there are no known genetic diseases caused by mutation or variants in nuclear rRNA, but this may be due to the previous perceived difficulty in studying rRNA genes. It's worth noting that one form of inherited aminoglycodside-induced deafness is caused by mutation to the the 12S mitochondrial rRNA, [MTRNR1](http://www.nature.com/ng/journal/v4/n3/abs/ng0793-289.html)."
   ]
  },
  {
   "cell_type": "markdown",
   "metadata": {},
   "source": [
    "## Conclusions\n",
    "\n",
    "Intra- and inter-individual heterogeneity of human ribosomal RNA raises fundamental questions about translational variation at three levels; differences amongst individuals or populations in a species; differences between tissues; and differences between each individual ribosome within cells. The (re-)discovery of rDNA variation and evidence that a sub-set of them are shared and at a high intra-genomic allele frequency hints that at least a sub-set of them may represent distinct paralogs of human rRNA. Ultimately, I merely scratch the surface of what needs to be studied but to facilitate a rapid and open exploration of the consequences of these findings, my laboratory notebooks, data and scripts are unrestrictedly available online (http://rRNA.ca). I invite interested scientists to cooperate in understanding the full implications of the variation in rRNA. \n",
    "\n",
    "To date I haven't found evidence for a human rDNA-specific transposable element such as R1- or R2."
   ]
  },
  {
   "cell_type": "markdown",
   "metadata": {},
   "source": [
    "## Materials and Methods\n",
    "An eletronic laboratory notebook is available [online](www.github.com/ababaian/Crown/) with line-by-line annotated scripts and methods to replicate these experiments in their entirety.\n",
    "\n",
    "\n",
    "### Reference Genomes and rDNA repeats\n",
    "The 43 kb reference rDNA repeat, U13369.1 was downloaded from NCBI. The first nt of this sequence is the transcription start site (+1) of the 13.5 kb 45S pre-rRNA, and the last 1 kb is the rDNA upstream promoter region. Initial analyses were hindered by the sequence complexity of the inter-genic spacer, so this study focuses on the genic portion of rDNA. PCR-Free WGS data from CEPH-1463 was aligned to *RNA45S* and it's promoter as well as a single copy of the 5S locus from hg38 (chr1:228,744,112-228,746,352). The sequences were manually edited to match the consensus supported by the data, with the reasoning that this represents the common rDNA sequence at each position. Three difficult to align regions which masked with 'N' nucleotides, an AluY element and low complexity sequence in the 5S locus and a simple-repeat sequence in the ITS 1. The resulting sequence, `hgr1`, was used in subsequent analysis {Sequence Accession Pending}.\n",
    "\n",
    "### Datasets\n",
    "A complete list of sequencing libraries used in this study is available in Supplementary Table 1. Four genomes from each of the 26 human populations were choosen randomly from the 1000 genomes project data. I required paired-end Illumina sequencing with a minimum of 20 million sequenced fragments per library. On average the libraries had 67.8 million sequenced fragments.\n",
    "\n",
    "###  Alignment\n",
    "Initial alignment parameters were selected to maximize sensitivity. DNAseq alignment was performed with bowtie2 [bt2](http://www.nature.com/nmeth/journal/v9/n4/full/nmeth.1923.html) using the command `bowtie2 --very-sensitive-local -x hgr1 -1 <read1.fq.gz> -2 <read2.fq.gz>`.The majority of the alignments were ran on Amazon EC2 using an C4.2xlarge instance. A publically available instance image with the neccesary software and reference genomes is available: 'crown-161229'.\n",
    "\n",
    "### Variant Discovery\n",
    "The purpose of this study was to define the major, high frequency variants in rDNA. Pseudogenized rDNA is potential source of error in this study, but I reasoned that pseudo-rDNA mutations at identical positions between copies would be rare relative to total rDNA copy number. For variant-discovery, the 107 `hgr1`-aligned bam files were analyzed with the GATK (v.3.6) HaplotypeCaller [gatk](https://www.ncbi.nlm.nih.gov/pubmed?term=20644199) using standard parameters. HaplotypeCaller performs local de-novo assembly over variant positions which makes it well suited for genotyping rDNA variants. The 926 called variants had an alternative allele quality score >30 PHRED (p < 0.001) and 849 of those variants had a score >100 PHRED (p < 10^-10). The type of substitutions and indel size distribution was plotted with vcfPlot [ref].\n",
    "\n",
    "This analysis should be interpreted as a conservative, lower bound on rDNA variation. With a larger data-set and more importantly, deeper and less PCR-bias genome sequencing, multi-ploidy variant analysis should yield a more complete set of variants at lower intra-genomic variant allele frequencies. \n",
    "\n",
    "\n",
    "### Measurements of Variant Allele Frequencies\n",
    "For the interrogated variant positions, intra-individual reference allele frequency was calculated by the number reference genotype read coverage, divided by the total read coverage used in genotyping. The inverse of the reference allele frequency was defined as the intra-individual variant allele frequency (iVAF). I calculated iVAF in this way to account for positions with mulitple variant alleles and to measaure iVAF in genomes where that variant allele may not have been called by the software, yet variant reads were present. The mean intra-genomic variant allele frequency is simply the average value of iVAF for each genome in which a variant was present.\n",
    "\n",
    "Inter-individual, or population variant allele frequency (pVAF) is how many individuals in the population have a variant at particular position (iVAF > 0.02), divided by the total number of individuals in which that position was sequenced. This normalizes for uneven sequencing coverage in the genomes, especially at high-GC regions.\n",
    "\n",
    "The product of iVAF and pVAF therefore is variant allele frequency in the classical sense, taking into account the pool of all rDNA alleles. Although, this makes the assumption that rDNA copy number is the same in each individual which may not be true [rDNA copy number ref]. As such I have refrained from terming any of the variation polymorphisms even though a sub-set (Table 1) are very like to polymorphisms.\n"
   ]
  },
  {
   "cell_type": "markdown",
   "metadata": {},
   "source": [
    "### Figure Legends\n",
    "\n",
    "#### Figure 1: Intra- and Inter-individual variation at the rDNA locus\n",
    "\n",
    "A) Map of the `hgr1` reference sequence used in this study. It includes a single repeat of the entire RNA5S locus and RNA45S with adjacent sequences. In each locus a simple-repeat sequences were N-masked and the Alu-element immediatly downstream from RNA5S was masked. RNA45S can be subdivided into the 5' and 3' external transcribed spacer (ETS), internal transcribed spacer (ITS) 1 and 2, and the mature rRNAs. Downstream of each RNA45S is a 29.6kb intergenic spacer (IGS) which was not included in this study. B) Log-scaled coverage across `hgr1` in the CEPH-1463 trio. C) The cumulative distribution of intra-individual variant allele frequency of the 926 variant positions (see materials and methods) for each member of the trio. The yellow vertical line at iVAF = 0.02 is the threshold at which a variant was called as 'present' in an individual. D) The average distribution of variants (iVAF > 0.02) in each region of `hgr1`. E) {XXXXXXXXX} F) Detailed coverage of NA12878 DNA- and poly-A selected RNA-seq, as well as K562 total RNA-seq at 28S.59G and 18S.1248T. The read coverage matching the reference sequence is colored in gray and mis-matching sequences are colored by the alternative base. E) The structure of i) uradine and ii) the hyper-modified nucleotide 1-methyl-3-(a-amino-a-carboxyl-propyl) Psuedouridine.\n",
    "\n",
    "\n",
    "#### Figure 2: Inter-individual variation at *RNA45S*\n",
    "A) Visualization of the high-quality variants from 107 individuals from 26 world populations. Vertical blue lines are sequences in which a variant genotype was called in at least one genome, with heterozygous (iVAF: 0.02 - 0.98) and homozougous (iVAF > 0.98) in red and magenta respectively. Invariable positions are clear columns across the whole graph. Particular libraries in which there was no quality converage at a variant is gray. Sequence GC% is shown at the bottom in 30, 50 and 70 bp sliding windows. F) Transition vs. transversion nucleotide substitution in the 722 single-nucleotide variants.  E) Size distribution of the 225 indel variants. D) Inter- vs. Intra-individual variant allele frequency (VAF) scaled by the number of distinct genomes in which the variant allele was measured (to account for regions of uneven read coverage in the data). Red highlighted variants have an average intra-individual allele frequency between 0.33 - 0.66 and are found in at least half of the genomes interrogated (Table 1)."
   ]
  }
 ],
 "metadata": {
  "kernelspec": {
   "display_name": "Bash",
   "language": "bash",
   "name": "bash"
  },
  "language_info": {
   "codemirror_mode": "shell",
   "file_extension": ".sh",
   "mimetype": "text/x-sh",
   "name": "bash"
  }
 },
 "nbformat": 4,
 "nbformat_minor": 0
}
