{
 "cells": [
  {
   "cell_type": "markdown",
   "metadata": {},
   "source": [
    "# Estimating rDNA Copy Number\n",
    "```\n",
    "pi:ababaian\n",
    "start: 2016 10 20\n",
    "complete : 2016 11 21\n",
    "\n",
    "re-start: 2016 12 08\n",
    "complete: ...\n",
    "```\n",
    "## Introduction\n",
    "\n",
    "In the literature most estimates for rDNA copy number range from ~150 - 300 copies in tandem repeats on the acrocentric arms (chr 13, 14, 15, 21, 22).\n",
    "\n",
    "It's likely (and I think I may have read a paper on this) that the rDNA CNV are different amongst different individuals. To extend this; if there is variation in copy number, this is likely to be inherited in a poly-locus fashion. With enough samples one could even measure and model rDNA copy number in a trio as a complex additive trait.\n",
    "\n",
    "The simple model (this has to be worked out in more detail, it's likely not this simple) is that rDNA copy number of a child will be a normal distribution around the mean parent copy number. This becomes more interesting in cases where parents are heterozygous for high/low CNVs and the children could potentially reach 'dangerously/phenotypically' low levels of rDNA repeats.\n",
    "\n",
    "[see: http://www.nature.com/articles/ncomms5850 / https://www.ncbi.nlm.nih.gov/pmc/articles/PMC4345604/ ]\n",
    "\n",
    "Gibbons uses a strange 'Single Copy Number Exon' as his normalization for rDNA CN variation analysis. I don't doubt that it gives a nice consistant signal in reference genomes to normalize against but I'm not convinced that this adaquetly accounts for GC content for a contig which is GC-biased (both rDNA and mtDNA).\n",
    "\n",
    "I've found a package [hmmcopy](http://compbio.bccrc.ca/software/hmmcopy/)  from downstairs which may be able to do this well and I'll give it a try and compare results with Gibbons."
   ]
  },
  {
   "cell_type": "markdown",
   "metadata": {
    "collapsed": true
   },
   "source": [
    "## Objective\n",
    "\n",
    "- Accurently measure rDNA and mtDNA copy number. Possibly extend this to measuring viral (HSV) episomal copy number."
   ]
  },
  {
   "cell_type": "markdown",
   "metadata": {},
   "source": [
    "## Materials and Methods\n",
    "\n",
    "#### HMMcopy\n",
    "\n",
    "1. Downloaded HMMcopy from above link (had to request access)\n",
    "2. Installed HMMcopy into Rstudio and will write/develop a script to quickly measure rDNA CNV\n",
    "3. Set-up configeration files for hg38r\n",
    "\n",
    "##### hg38r Mappability (75bp track)\n",
    "\n",
    "- Using HMMcopy scripts to make mappability track\n",
    "- (Using AWS m4.2xlarge with 200 gb SSD)\n",
    "\n",
    "```\n",
    "internal/fastaToRead -w 75 hg38r.fa |\n",
    "bowtie hg38r -p 8 -v 0 -f - |\n",
    "perl internal/readToMap.pl -m 10 renameChr.pl > hg38r.m75.wig\n",
    "\n",
    "./wigToBigWig hg38r.m75.wig hg38r.sizes hg38r.m75.bw\n",
    "```\n"
   ]
  },
  {
   "cell_type": "markdown",
   "metadata": {},
   "source": [
    "## Results and Discussion\n",
    "\n",
    "#### 2016 10 31\n",
    "The first iteration of hg38r.m75.bw shows that there was an error on chr13.fa in both hg38 and hg38r. Genomes had to be re-downloaded and regenerated.\n",
    "\n",
    "This also brought up a larger issue of many rRNA-LSU and rRNA-SSU sequences across the genome. This includes positions on the acrocentric arms (as expected) but also a locus on chromsome 16 (chr16:34149892-34163968) and others. It may be a bit moot to try and make a functional hg38r genome or I should consider fully masking rRNA from the genome and then adding a repeat to chr13. This would most likely yeild the \"best\" way to align everything in one genome and do a direct comparison.\n",
    "\n",
    "An alternative approach would be to do hg38 alignments using uniquely mapped reads and compare the coverage at mappable positions (i.e. Mappability track = 1) to hgr alignment coverage for the rDNA repeat.\n",
    "\n",
    "For now remove hg38r.2bit from the git repository to allow for prune/clean-up of the LFS server. There may not be 'significant' gains to be made to try and continue making a usable single-genome hg38r.\n",
    "\n",
    "\n",
    "#### 2016 12 08\n",
    "\n",
    "I can't shake that I'd like to measure CNVs of rDNA especially in light of a bit of recent literature I've read in yeast where rDNA arrays vary in copy number in response to TOR signalling. I think the variation previously seen may simply be reading out CNV variations instead of actual constitutional differences. Having a method to measure CNV from a genome will be handy.\n",
    "\n",
    "I went downstairs and talked with Daniel Lai in the Shah lab, who maintains HMMcopy and he's willing to set-up and generate the pre-req files for hg38r and provide the code to run HMMcopy on custom genomes which will save me time (days) of trouble-shooting the set-up. It's worth the effort.\n",
    "\n",
    "- [Kobayashi, 2011](https://www.ncbi.nlm.nih.gov/pubmed/21207101)\n",
    "- [Jack, 2015](https://www.ncbi.nlm.nih.gov/pubmed/?term=regulation+of+ribosomal+DNA+amplification+by+the+TOR)\n",
    "- [Janssens, 2016](https://www.ncbi.nlm.nih.gov/pubmed/?term=Natural+Variation+in+Lifespans+of+Single+Yeast+Cells+is+Related)\n",
    "\n"
   ]
  }
 ],
 "metadata": {
  "kernelspec": {
   "display_name": "Bash",
   "language": "bash",
   "name": "bash"
  },
  "language_info": {
   "codemirror_mode": "shell",
   "file_extension": ".sh",
   "mimetype": "text/x-sh",
   "name": "bash"
  }
 },
 "nbformat": 4,
 "nbformat_minor": 0
}
