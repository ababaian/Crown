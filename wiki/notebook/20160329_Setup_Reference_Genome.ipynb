{
 "cells": [
  {
   "cell_type": "markdown",
   "metadata": {},
   "source": [
    "# Set-up Reference Genomes\n",
    "```\n",
    "pi:ababaian\n",
    "start: 2016 03 29 \n",
    "complete : 2016 06 02\n",
    "```\n",
    "## Objective\n",
    "Set-up reference genomes for the Crown Project\n",
    "\n",
    "* hg38: Human Reference Genome\n",
    "* hgr: Human Ribosomal Unit inserted on masked chr13\n",
    "* hg38r: Human Reference Genome with ribosome unit injection\n",
    "* chrM: Human Mitochondrial Genome\n",
    "\n",
    "## Methods"
   ]
  },
  {
   "cell_type": "code",
   "execution_count": 1,
   "metadata": {
    "collapsed": false
   },
   "outputs": [
    {
     "name": "stdout",
     "output_type": "stream",
     "text": []
    }
   ],
   "source": [
    "# Navigate to Reference Directory\n",
    "#\n",
    "CROWN='/home/artem/Crown'\n",
    "\n",
    "cd $CROWN/resources\n",
    "\n",
    "# Initialize Directories\n",
    "mkdir -p hg38\n",
    "mkdir -p hgr\n",
    "mkdir -p hg38r\n",
    "mkdir -p chrM\n"
   ]
  },
  {
   "cell_type": "code",
   "execution_count": null,
   "metadata": {
    "collapsed": false,
    "scrolled": true
   },
   "outputs": [],
   "source": [
    "#!/bin/bash\n",
    "# hg38Get.sh\n",
    "\n",
    "# Move to hg38 Directory\n",
    "cd $CROWN/resources/hg38\n",
    "\n",
    "# UCSC Download Genome\n",
    "wget http://hgdownload.soe.ucsc.edu/goldenPath/hg38/bigZips/hg38.fa.gz\n",
    "\n",
    "# Unzip archive\n",
    "gzip -d hg38.fa.gz\n",
    "\n",
    "# Index fasta file with samtools\n",
    "samtools faidx hg38.fa\n",
    "\n",
    "# Creates hg38.fa.fai file"
   ]
  },
  {
   "cell_type": "markdown",
   "metadata": {},
   "source": [
    "### Download human Ribosomal Sequence\n",
    "\n",
    "On the NCBI nucleotide website, human ribosomal DNA sequence repeat downloaded\n",
    "\n",
    "* [GenBank: U13369.1](http://www.ncbi.nlm.nih.gov/nuccore/555853)\n",
    "\n",
    "Both Genbank (.gb) and Fasta formats (.fa) Downloaded.\n",
    "Fasta header was changed to `>rDNA`\n",
    "\n",
    "File names are `rDNA.gb` and `rDNA.fa` respectively\n",
    "\n",
    "#### Notes on rDNA.fa :\n",
    "- rDNA.fa is 42,999 bp long\n",
    "- 70 bp per line for 614 lines\n",
    "- 19 bp on line 615\n",
    "\n",
    "( These resources are in $CROWN/resources/rDNA )"
   ]
  },
  {
   "cell_type": "code",
   "execution_count": 2,
   "metadata": {
    "collapsed": false
   },
   "outputs": [
    {
     "name": "stdout",
     "output_type": "stream",
     "text": [
      "rDNA.fa  rDNA.gb\r\n"
     ]
    }
   ],
   "source": [
    "cd $CROWN/resources/hgr\n",
    "cp ../rDNA/rDNA.fa rDNA.fa\n",
    "cp ../rDNA/rRNA.gb rDNA.gb\n",
    "ls"
   ]
  },
  {
   "cell_type": "code",
   "execution_count": 3,
   "metadata": {
    "collapsed": false
   },
   "outputs": [
    {
     "name": "stdout",
     "output_type": "stream",
     "text": [
      "rDNA.fa  rDNA.gb\r\n"
     ]
    }
   ],
   "source": [
    "# Transform fasta file from 70 bp-base to 50 bp-base\n",
    "# since the rest of the hg38.fa genome uses 50 bp per line\n",
    "\n",
    "# Buffer the fasta file into one line with no header\n",
    "# Fold it into \n",
    "\n",
    "tail -n +2 rDNA.fa |\n",
    "tr '\\n' ' ' |\n",
    "sed 's/ //g' - |\n",
    "fold -w 50 - > 50fa.tmp\n",
    "\n",
    "# Add back header\n",
    "echo '>rDNA' > head.tmp\n",
    "\n",
    "# Add back fasta sequence\n",
    "cat 50fa.tmp >> head.tmp\n",
    "\n",
    "# Ugly/specific code to add one last 'N'\n",
    "# to the end of the sequence to round it out\n",
    "sed -i 's/CGGGTTATAT/CGGGTTATATN/g' head.tmp\n",
    "\n",
    "mv head.tmp rDNA.fa\n",
    "rm *.tmp\n",
    "ls"
   ]
  },
  {
   "cell_type": "code",
   "execution_count": 4,
   "metadata": {
    "collapsed": false
   },
   "outputs": [
    {
     "name": "stdout",
     "output_type": "stream",
     "text": [
      "f3e692ec2beea5d9fd3f6b3ded273c2e  rDNA.fa\r\n"
     ]
    }
   ],
   "source": [
    "# rDNA.fa\n",
    "md5sum rDNA.fa # f3e692ec2beea5d9fd3f6b3ded273c2e"
   ]
  },
  {
   "cell_type": "code",
   "execution_count": 5,
   "metadata": {
    "collapsed": false
   },
   "outputs": [
    {
     "name": "stdout",
     "output_type": "stream",
     "text": [
      "335cf2769014e9968cc791034f40e18a  chr13.tmp\r\n",
      "acf3ab8b9360aaca24aac608148ef8b3  hgr.fa\r\n"
     ]
    }
   ],
   "source": [
    "#!/bin/bash\n",
    "# hgrMake.sh\n",
    "#\n",
    "# Combine rDNA.fa and the headers from hg38.fa\n",
    "# A single U13369 ribosomal DNA unit will be artifically\n",
    "# inserted into an empty all \"N\" chromosome on the\n",
    "# acrocentric arm of Chromosome 13\n",
    "#\n",
    "# chr13:1,000,000-1,042,999\n",
    "#\n",
    "cd $CROWN/resources/hgr\n",
    "\n",
    "# Initialize file\n",
    "grep \">\" ../hg38/hg38.fa > hgr.fa\n",
    "\n",
    "# Initialize an all \"N\" Chr13:1-1,000,000\n",
    "echo \">chr13\" > chr13.tmp\n",
    "\n",
    "# Print 1m \"N\"s and fold them to 50 characters per line\n",
    "printf 'N%.0s' {1..1000000} | fold -w 50 - >> chr13.tmp\n",
    "\n",
    "# and add terminal newline\n",
    "echo -e '\\n' >> chr13.tmp\n",
    "\n",
    "# Append the rDNA sequence to acrocentric arm of chr13\n",
    "tail -n +2 rDNA.fa >> chr13.tmp\n",
    "echo -e '\\n' >> chr13.tmp\n",
    "\n",
    "# Add some buffers \"N\"s (10k)\n",
    "printf 'N%.0s' {1..10000} | fold -w 50 - >> chr13.tmp\n",
    "\n",
    "sed -i '/^\\s*$/d' chr13.tmp # removes empty lines\n",
    "\n",
    "echo -e '\\n' >> chr13.tmp # add terminal newline\n",
    "\n",
    "md5sum chr13.tmp # 335cf2769014e9968cc791034f40e18a\n",
    "md5sum hgr.fa # acf3ab8b9360aaca24aac608148ef8b3"
   ]
  },
  {
   "cell_type": "code",
   "execution_count": 8,
   "metadata": {
    "collapsed": false
   },
   "outputs": [
    {
     "name": "stdout",
     "output_type": "stream",
     "text": [
      "6b36e847dcffdb5be8b094f402fa8038  hgr_main.fa\r\n"
     ]
    }
   ],
   "source": [
    "# hgr_main.fa\n",
    "# Delete rDNA array after position 13,500\n",
    "# (after 28S, before polyT/TCT simple repeat)\n",
    "\n",
    "sed '20277,20866d' hgr.fa > hgr_main.fa\n",
    "samtools faidx hgr_main.fa\n",
    "\n",
    "md5sum hgr_main.fa # 6b36e847dcffdb5be8b094f402fa8038"
   ]
  },
  {
   "cell_type": "code",
   "execution_count": 6,
   "metadata": {
    "collapsed": false
   },
   "outputs": [
    {
     "name": "stdout",
     "output_type": "stream",
     "text": [
      "8744076592c47fcb7f2c04238ccbc924  hgr.fa\r\n"
     ]
    }
   ],
   "source": [
    "# Replace hgr.fa \"chr13\" which is empty with the chr13.tmp\n",
    "CHR13=$(grep -n \">chr13$\" hgr.fa | cut -f1 -d':' -  ) # =6\n",
    "    ABOVE=$(expr $CHR13 - 1) # 5\n",
    "    BELOW=$(expr $CHR13 + 1) # 6\n",
    "END=$(wc -l hgr.fa | cut -f1 -d' ' -)\n",
    "\n",
    "\n",
    "# All entries starting above chr13\n",
    "sed -n \"1,$ABOVE\"p hgr.fa > hgr.start\n",
    "\n",
    "# All entries below chr13\n",
    "sed -n \"$BELOW,$END\"p hgr.fa > hgr.end\n",
    "\n",
    "cat hgr.start chr13.tmp hgr.end > hgr_2.fa\n",
    "\n",
    "sed '/^$/d' hgr_2.fa > hgr.fa\n",
    "\n",
    "rm hgr.start hgr.end hgr_2.fa\n",
    "\n",
    "md5sum hgr.fa # 8744076592c47fcb7f2c04238ccbc924"
   ]
  },
  {
   "cell_type": "code",
   "execution_count": null,
   "metadata": {
    "collapsed": false
   },
   "outputs": [],
   "source": [
    "#!/bin/bash\n",
    "# hg38rMake.sh\n",
    "\n",
    "# Extract and explode each chromosome from hg38\n",
    "\n",
    "mkdir 38; cd 38\n",
    "fastaexplode -f ../../hg38/hg38.fa\n",
    "cd ..\n",
    "\n",
    "mkdir hgr; cd hgr\n",
    "fastaexplode -f ../../hgr/hgr.fa\n",
    "cd ..\n"
   ]
  },
  {
   "cell_type": "code",
   "execution_count": null,
   "metadata": {
    "collapsed": false
   },
   "outputs": [],
   "source": [
    "# Inject hgr.fa (chr13) into hg38 (chr13) at the beginning of chr13\n",
    "\n",
    "# Reformat both fasta files so that htey are the same (width wise)\n",
    "fastareformat chr13.tmp > chr13.r.tmp\n",
    "fastareformat 38/chr13.fa > chr13.38.tmp\n",
    "\n",
    "# Oddly specific line to remove last line from chr13.r.tmp\n",
    "# so it's formatted correctly (full N line)\n",
    "# tail may be more elegant here\n",
    "sed -i '/^NNNNNNNNNNNNNNNNNNNNNNNNNNNNNNNNNNNNNNNNNNNNNNNNNNNNNNNNNNNN$/d' chr13.r.tmp\n",
    "\n",
    "# Post-rDNA end of chr13\n",
    "RLEN=$(wc -l chr13.r.tmp | cut -f1 -d' ' -)\n",
    "sed \"1,$RLEN\"d chr13.38.tmp > chr13.end\n",
    "\n",
    "# Append rDNA insert and post-rDNA end of chr13\n",
    "cat chr13.r.tmp chr13.end > chr13.fa\n",
    "sed -i '/^$/d' chr13.fa\n",
    "\n",
    "rm chr13.38.tmp chr13.end chr13.r.tmp chr13.tmp\n",
    "\n",
    "wc chr13.fa\n",
    "wc chr13.38.tmp\n",
    "\n",
    "mv chr13.fa 38/"
   ]
  },
  {
   "cell_type": "code",
   "execution_count": null,
   "metadata": {
    "collapsed": false
   },
   "outputs": [],
   "source": [
    "# chrUn_GL000220v1\n",
    "# This unplaced contig contains an rDNA sequence\n",
    "# but it is not very high quality but enough that it would\n",
    "# cause substantial mapping problems with the rDNA insertion on 13\n",
    "#\n",
    "# Mask this chromosome to N's\n",
    "\n",
    "sed -i 's/[atgcATGC]/N/g' 38/chrUn_GL000220v1.fa "
   ]
  },
  {
   "cell_type": "code",
   "execution_count": null,
   "metadata": {
    "collapsed": false
   },
   "outputs": [],
   "source": [
    "# Copy Mitochondrial chromosome to its own folder too\n",
    "cp 38/chrM.fa ../chrM/\n"
   ]
  },
  {
   "cell_type": "code",
   "execution_count": null,
   "metadata": {
    "collapsed": false
   },
   "outputs": [],
   "source": [
    "# Recompile hg38r genome\n",
    "cut -f1 ../hg38/hg38.fa.fai | sed -e 's/$/.fa/g' - > hg38.chrList\n",
    "cd 38\n",
    "cat $(cat ../hg38.chrList) > hg38r.FULL\n",
    "cd ..\n",
    "\n",
    "\n",
    "mv 38/hg38r.FULL ../hg38r/hg38r.fa\n"
   ]
  },
  {
   "cell_type": "code",
   "execution_count": null,
   "metadata": {
    "collapsed": false
   },
   "outputs": [],
   "source": [
    "# Superficial QC for hg38r\n",
    "cd $CROWN/resources/hg38r\n",
    "\n",
    "# I don't remember where I got fastacompositoin but it's useful here\n",
    "fastacomposition ../hg38/hg38.fa\n",
    "fastacomposition hg38r.fa\n",
    "\n",
    "md5sum hg38r.fa # 665e94ddf08da4d4a3a168e0f427b5f5"
   ]
  },
  {
   "cell_type": "code",
   "execution_count": null,
   "metadata": {
    "collapsed": false
   },
   "outputs": [],
   "source": [
    "#Clean up directory\n",
    "cd $CROWN/resources/hgr\n",
    "\n",
    "rm 38/* hgr/*\n",
    "rmdir 38 hgr\n",
    "\n",
    "rm hg38.chrList rDNA.fa rDNA.gb"
   ]
  },
  {
   "cell_type": "code",
   "execution_count": null,
   "metadata": {
    "collapsed": false
   },
   "outputs": [],
   "source": [
    "# Go to Crown Directory\n",
    "cd $CROWN/resources\n",
    "\n",
    "# Index the genomes with samtools\n",
    "cd hg38\n",
    "samtools faidx hg38.fa\n",
    "\n",
    "cd ../hg38r\n",
    "samtools faidx hg38r.fa\n",
    "\n",
    "cd ../hgr\n",
    "samtools faidx hgr.fa\n",
    "\n",
    "cd ../chrM\n",
    "samtools faidx chrM.fa\n",
    "\n",
    "cd .."
   ]
  },
  {
   "cell_type": "code",
   "execution_count": null,
   "metadata": {
    "collapsed": false
   },
   "outputs": [],
   "source": [
    "# Twobit conversion\n",
    "cd $CROWN/resources/hg38r\n",
    "\n",
    "faToTwoBit hg38r.fa hg38r.2bit\n"
   ]
  },
  {
   "cell_type": "code",
   "execution_count": null,
   "metadata": {
    "collapsed": false
   },
   "outputs": [],
   "source": [
    "md5sum hg38r.2bit # c3bf4b0d9e35b352b7489726224e5aab"
   ]
  },
  {
   "cell_type": "markdown",
   "metadata": {},
   "source": [
    "# Addendum\n",
    "This generated the final outputs I need to base the project off of\n",
    "\n",
    "One issue that arose is that git-lfs (github really) doesn't like files greater then 2 Gb (like hg38.fa and hg38r.fa)\n",
    "\n",
    "To get around this I will upload these genomes as .2bit files. Meaning\n",
    "\n",
    "```\n",
    "faToTwobit hg38[r].fa hg38[r].2bit\n",
    "```\n",
    "\n",
    "was run and the 2bit files will be stored in the repository through git-lfs.\n",
    "\n",
    "To accomodate this, these files were added to .gitignore\n",
    "\n",
    "```\n",
    "resources/hg38/hg38.fa\n",
    "resources/hg38r/hg38r.fa\n",
    "```\n",
    "\n",
    "(When downloading the repository make sure to unpack the 2bit files)\n",
    "\n",
    "Finally the 2bit files were added to a local ignore list and deleted locally to save space\n",
    "\n",
    "```\n",
    "git update-index --assume-unchanged resources/hg38/hg38.2bit\n",
    "git update-index --assume-unchanged resources/hg38r/hg38r.2bit\n",
    "```\n",
    "\n",
    "\n",
    "#QED"
   ]
  },
  {
   "cell_type": "markdown",
   "metadata": {},
   "source": [
    "## Addendum II - 2016 10 20\n",
    "\n",
    "For CNV analysis I'd like to do some genome-wide alignments along with rDNA alignments (i.e. with hg38r).\n",
    "\n",
    "The hg38r which I currently have (Oct 20th) contains rDNA contig. This contig is now converted to 'N's\n",
    "\n",
    "## Addendum III -  2016 10 31\n",
    "\n",
    "Whoops, accidently didn't put the rDNA onto chr13 in hg38r but it's OK in hgr so the files made didn't have rDNA in it. Have to re-generate all resources.\n",
    "\n",
    "Also all of chr13 in hg38 (original) was somewhere turned into \"N\"s and I had to re-download. Lots of fixing -_-'\n",
    "\n",
    "For now don't worry about hg38r genome. Focus on doing variant/structural variation identification. Remove hg38r.2bit from git repo.\n",
    "\n",
    "## Addendum IV - 2016 11 06\n",
    "\n",
    "Some of the hgr genome I've used is a bit wonky. There was a second copy of rDNA unit at position 2 million of chr13. The mappability\n",
    "plot therefore has a second wiggle (identical to the first).\n",
    "\n",
    "Regenerating hgr.fa. Confirmed it's correct. Moved other hgr.fa to $CROWN/resources/hgr/hr_DoubleError.\n",
    "\n",
    "Also for alignment purposes; made hgr_main.fa (which is a 18 / 5.8 / 28S + little bit of flanking sequence)."
   ]
  }
 ],
 "metadata": {
  "kernelspec": {
   "display_name": "Bash",
   "language": "bash",
   "name": "bash"
  },
  "language_info": {
   "codemirror_mode": "shell",
   "file_extension": ".sh",
   "mimetype": "text/x-sh",
   "name": "bash"
  }
 },
 "nbformat": 4,
 "nbformat_minor": 0
}
