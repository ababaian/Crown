{
 "cells": [
  {
   "cell_type": "markdown",
   "metadata": {},
   "source": [
    "# Experimental Title\n",
    "```\n",
    "pi:ababaian\n",
    "start: 2016 04 14\n",
    "complete : YYYY MM DD\n",
    "```"
   ]
  },
  {
   "cell_type": "markdown",
   "metadata": {
    "collapsed": true
   },
   "source": [
    "## Intro / Objective\n",
    "\n",
    "Using the hg38r (or hgr) genomes rDNA is inserted into chr13:1,000,000.\n",
    "\n",
    "* Create a rDNA annotation describing the features: rRNA, transcribed spacers, promoters, variable regions etc...\n"
   ]
  },
  {
   "cell_type": "markdown",
   "metadata": {},
   "source": [
    "## Materials and Methods\n",
    "\n",
    "##### Accessions\n",
    "(Downloads of these files can be found in `~/Crown/resources/rDNA`)\n",
    "- rDNA.fa \\> U13369.1\n",
    "- 18S rRNA \\> K03432.1\n",
    "- 5.8S rRNA \\> J01866.1 \n",
    "- 28S rRNA \\> M11167.1\n",
    "\n",
    "- a second 5.8S rRNA \\>NR_003285.2\n",
    "\n",
    "\n",
    "#### rRNA Alignment\n",
    "```\n",
    "cat rDNA.fa 18S.fa 5-8S.fa 28S.fa | clustalo -i - -o rDNA.mfa\n",
    "```\n",
    "\n",
    "Additionally a few bases were moved to make the alignment \"fit\" better in JalView\n",
    "\n",
    "    18S,  3514, 5772\n",
    "    5.8S, 6623, 6779\n",
    "    28S,  7935, 12969\n",
    "    \n",
    "(rRNA relative to rDNA)\n",
    "\n",
    "Note: Even amongst these 'reference' sequences, there is variation present.\n",
    "\n",
    "#### GTF Annotation\n",
    "```\n",
    "# rDNA annotation for hgr\n",
    "13\tgencode\trRNA\t1000001\t1042999\t.\t+\t.\tgene_name \"rRNA\"; gene_source \"U13369.1\"\n",
    "13\tgencode\t18S\t1003514\t1005772\t.\t+\t.\tgene_name \"18S rRNA\"; gene_source \"K03432.1\"\n",
    "13\tgencode\t5-8S\t1006623\t1006779\t.\t+\t.\tgene_name \"5.8S rRNA\"; gene_source \"J01866.1\"\n",
    "13\tgencode\t28S\t1007935\t1012969\t.\t+\t.\tgene_name \"28S rRNA\"; gene_source \"M11167.1\"\n",
    "```"
   ]
  },
  {
   "cell_type": "markdown",
   "metadata": {},
   "source": [
    "## Results\n"
   ]
  },
  {
   "cell_type": "markdown",
   "metadata": {},
   "source": [
    "## Discussion\n"
   ]
  }
 ],
 "metadata": {
  "kernelspec": {
   "display_name": "Bash",
   "language": "bash",
   "name": "bash"
  },
  "language_info": {
   "codemirror_mode": "shell",
   "file_extension": ".sh",
   "mimetype": "text/x-sh",
   "name": "bash"
  }
 },
 "nbformat": 4,
 "nbformat_minor": 0
}
