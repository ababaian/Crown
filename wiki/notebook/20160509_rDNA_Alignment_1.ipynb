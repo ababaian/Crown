{
 "cells": [
  {
   "cell_type": "markdown",
   "metadata": {},
   "source": [
    "# Primary rDNA Alignment\n",
    "```\n",
    "pi:ababaian\n",
    "start: 2016 05 09\n",
    "complete : 2016 07 06\n",
    "```\n",
    "## Introduction\n",
    "\n",
    "In the RNA-seq data (Variant Analysis 1) a few notable and recurrant variants were identified. Most importantly, 18S[U1248C/-] at chr13:1,004,904.\n",
    "\n",
    "This hyper-modified base is likely 'variable' due to errors by the RT reaction. To test this hypothesis I will align gDNA to hgr and see if there is a T/C/- polymorphism present at the rDNA level. If it's absent completely then it stands to reason that the base is modified to C or deletion, or more likely, it's an RT error.\n",
    "\n",
    "Note: If this modification is absent at the DNA level completely (at background) this will be really informative since it means that the RNAseq data from poly-A selected sequencing also has true rRNA and not contaminating pseudo-rRNA."
   ]
  },
  {
   "cell_type": "markdown",
   "metadata": {
    "collapsed": true
   },
   "source": [
    "## Objective\n",
    "\n",
    "* Align human genome sequencing data to hgr and test if there exists polymorphic U1248C or if this is a RNA-specific phenominon.\n",
    "\n",
    "*  Measure the level of ribosomal RNA sequence variation at the level of rDNA."
   ]
  },
  {
   "cell_type": "markdown",
   "metadata": {},
   "source": [
    "## Materials and Methods\n",
    "\n",
    "\n",
    "### Data Aquisition\n",
    "\n",
    "The easiest way to aquire DNA sequence is from the [1000 genomes project](www.1000genomes.org). First pass will be using a normal whole-genome sequence run.\n",
    "\n",
    "\n",
    "#### [NA19240](http://www.1000genomes.org/data-portal/sample/NA19240)\n",
    "\n",
    "Yoruba (YOR) Female. Mother: NA19238 and Father: NA19239\n",
    "\n",
    "[Data Description Index](ftp://ftp.1000genomes.ebi.ac.uk/vol1/ftp/phase3/20130502.phase3.sequence.index). [FTP Master Directory](ftp://ftp.1000genomes.ebi.ac.uk/vol1/ftp/phase3/)\n",
    "\n",
    "[ INSERT DATA DESCRIPTION HERE ]\n",
    "\n",
    "```\n",
    "wget ftp://ftp.1000genomes.ebi.ac.uk/vol1/ftp/phase3/data/NA19240/sequence_read/SRR794330_1.filt.fastq.gz\n",
    "wget ftp://ftp.1000genomes.ebi.ac.uk/vol1/ftp/phase3/data/NA19240/sequence_read/SRR794330_2.filt.fastq.gz\n",
    "```\n",
    "Data moved to `~/data/1kgenomes/` \n",
    "\n",
    "Added to .gitignore\n",
    "```\n",
    "data/1kgenomes/*.fastq.gz\n",
    "data/1kgenomes/*.bam\n",
    "```\n",
    "\n",
    "### Alignment\n",
    "\n",
    "Bowtie2 alignment Command to hgr.fa genome\n",
    "```\n",
    "#Move to 1kGenomes directory\n",
    "cd ~/Crown/data/1kgenomes/\n",
    "\n",
    "# Bowtie2 Alignment to hgr genome\n",
    "bowtie2 -x ~/Crown/resources/hgr/hgr -1 SRR794330_1.filt.fastq.gz -2 SRR794330_2.filt.fastq.gz --very-sensitive | samtools view -bS - > NA19240_hgr.bam\n",
    "\n",
    "# Sort and Indexalignment\n",
    "samtools sort NA19240_hgr.bam -o NA19240_hgr.sort.bam\n",
    "mv NA19240_hgr.sort.bam NA19240.bam\n",
    "samtools index NA19240.bam\n",
    "\n",
    "```"
   ]
  },
  {
   "cell_type": "code",
   "execution_count": 3,
   "metadata": {
    "collapsed": false
   },
   "outputs": [
    {
     "name": "stdout",
     "output_type": "stream",
     "text": [
      "71087208 + 0 in total (QC-passed reads + QC-failed reads)\r\n",
      "0 + 0 secondary\r\n",
      "0 + 0 supplimentary\r\n",
      "0 + 0 duplicates\r\n",
      "596582 + 0 mapped (0.84%:-nan%)\r\n",
      "71087208 + 0 paired in sequencing\r\n",
      "35543604 + 0 read1\r\n",
      "35543604 + 0 read2\r\n",
      "322054 + 0 properly paired (0.45%:-nan%)\r\n",
      "347818 + 0 with itself and mate mapped\r\n",
      "248764 + 0 singletons (0.35%:-nan%)\r\n",
      "0 + 0 with mate mapped to a different chr\r\n",
      "0 + 0 with mate mapped to a different chr (mapQ>=5)\r\n"
     ]
    }
   ],
   "source": [
    "samtools flagstat NA19240_hgr.bam"
   ]
  },
  {
   "cell_type": "markdown",
   "metadata": {},
   "source": [
    "## Results\n",
    "\n",
    "#### 18S U1248\n",
    "```\n",
    "chr13:1,004,904\n",
    "Total count: 626\n",
    "A      : 1  (0%,     1+,   0- )\n",
    "C      : 2  (0%,     0+,   2- )\n",
    "G      : 0\n",
    "T      : 623  (100%,     343+,   280- )\n",
    "N      : 0\n",
    "---------------\n",
    "```\n",
    "![Variation at genomic 18S U12848](../figure/20160509_NA19240_18S_U1248.png)\n",
    "```\n",
    "chr13:1,004,903\n",
    "Total count: 631\n",
    "A      : 0\n",
    "C      : 630  (100%,     347+,   283- )\n",
    "G      : 0\n",
    "T      : 1  (0%,     1+,   0- )\n",
    "N      : 0\n",
    "---------------\n",
    "DEL: 0\n",
    "INS: 1\n",
    "```\n",
    "\n",
    "\n",
    "#### Other Variants"
   ]
  },
  {
   "cell_type": "markdown",
   "metadata": {},
   "source": [
    "## Discussion\n",
    "\n",
    "At least in this person's rDNA the variant at U1248 isn't present. All together this seems like RNA samples consistently have the U1248 variation yet it's absent in DNA.\n",
    "\n",
    "This is actually quite interesting since U1248 is a 'hypermodified' uracil with problems of reverse transcription the variant is likely an artifact. While this may not be biologically 'pertinent' with respect to functional variation this means that the RNA seq experiments which have this variation present (even if poly-A selection occurs) contain true, modified, rRNA and thus the rest of the rRNA sequencing is indicitive of what mature rRNA looks like in the cell.\n",
    "\n",
    "Aquire RNA-seq from NA19240 to confirm that her RNA se  "
   ]
  }
 ],
 "metadata": {
  "kernelspec": {
   "display_name": "Bash",
   "language": "bash",
   "name": "bash"
  },
  "language_info": {
   "codemirror_mode": "shell",
   "file_extension": ".sh",
   "mimetype": "text/x-sh",
   "name": "bash"
  }
 },
 "nbformat": 4,
 "nbformat_minor": 0
}
