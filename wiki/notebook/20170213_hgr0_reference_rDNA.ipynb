{
 "cells": [
  {
   "cell_type": "markdown",
   "metadata": {},
   "source": [
    "# hgr0 reference rDNA\n",
    "```\n",
    "pi:ababaian\n",
    "files: ~/Crown/resources/hgr0/\n",
    "start: 2017 02 13\n",
    "complete : 2017 02 20\n",
    "```\n",
    "## Introduction\n",
    "\n",
    "I've gone through and 'refined' the original rDNA repeat reference. For now I'll be focusing on RNA45S and it's promoter. I won't worry about all the phasing issues and alternative haplotypes for this first round of analysis but just get a bunch of genomes/transcriptomes aligned and get a 'global' picture of the rDNA variation.\n",
    "\n"
   ]
  },
  {
   "cell_type": "markdown",
   "metadata": {
    "collapsed": true
   },
   "source": [
    "## Objective\n",
    "\n",
    "Define a reference 'rDNA' based on NA19240 for use in initial series of alignment experiments.\n"
   ]
  },
  {
   "cell_type": "markdown",
   "metadata": {},
   "source": [
    "## Materials and Methods\n",
    "\n",
    "Schematic of hgr0 reference rDNA\n",
    "``` \n",
    "                         1M                                          +43 kb\n",
    "hgr       ----------------|              U13369.1                     |---------\n",
    "                          ( RNA45S )                                ( )promoter\n",
    "\n",
    "\n",
    "\n",
    "              10k     -1kb 1M          13.5 kb\n",
    "hgr0       ---| 5s |--|prom|    RNA45S |-----------------------------------------\n",
    "```\n",
    "\n",
    "### Reference Sequences"
   ]
  },
  {
   "cell_type": "code",
   "execution_count": 2,
   "metadata": {
    "collapsed": false
   },
   "outputs": [
    {
     "name": "stdout",
     "output_type": "stream",
     "text": []
    }
   ],
   "source": [
    "cd ~/Crown/data/hgr0"
   ]
  },
  {
   "cell_type": "code",
   "execution_count": 2,
   "metadata": {
    "collapsed": false
   },
   "outputs": [
    {
     "name": "stdout",
     "output_type": "stream",
     "text": [
      ">r5s_nAlu\r\n",
      "NNNNNNNNNNNNNNNNNNNNNNNNNNNNNNNNNNNNNNNNNNNNNNNNNN\r\n",
      "NNNNNNNNNNNNNNNNNNNNNNNNNNNNNNNNNNNNNNNNNNNNNNNNNN\r\n",
      "NNNNNNNNNNNNNNNNNNNNNNNNNNNNNNNNNNNNNNNNNNNNNNNNNN\r\n",
      "NNNNNNNNNNNNNNNNNNNNNNNNNNNNNNNNNNNNNNNNNNNNNNNNNN\r\n",
      "gtgggccctgggccctgacgcctcggagcactccctgctccgagcgggcc\r\n",
      "cgatgtggtggaagctcgggagcgcgggagccgggggaaggccgcgggcc\r\n",
      "agcggctcgggggtccccgatccgagccccgcggccccgggctggcggtg\r\n",
      "tcggctgcaatccggcgggcacggccgggccgggctgggctcttggggca\r\n",
      "gccaggcgcctccttcagcGTCTACGGCCATACCACCCTGAACGCGCCCG\r\n",
      "ATCTCGTCTGATCTCGGAAGCTAAGCAGGGTCGGGCCTGGTTAGTACTTG\r\n",
      "GATGGGAGACCGCCTGGGAATACCGGGTGCTGTAGGCTTTttctttggct\r\n",
      "ttttgctgtttctttccttttcttccNNNNNNNNNNNNNNNNNNNNNNNN\r\n",
      "NNNNNNNNNNNNNNNNNNNNNNNNNNNNNNNNNNNNNNNNNNNNNNNNNN\r\n",
      "NNNNNNNNNNNNNNNNNNNNNNNNNNNNNNNNNNNNNNNNNNNNNNNNNN\r\n",
      "NNNNNNNNNNNNNNNNNNNNNNNNNNNNNNNNNNNNNNNNNNNNNNNNNN\r\n",
      "NNNNNNNNNNNNNNNNNNNNNNNNNNNNNNNNNNNNNNNNNNNNNNNNNN\r\n",
      "NNNNNNNNNNNNNNNNNNNNNNNNNNNNNNNNNNNNNNNNNNNNNNNNNN\r\n",
      "ccgcccggcctgctgtaggcttttgtggcttccccgctgcctcccttccc\r\n",
      "cccacagtcgccatgcttcccaacctcccctgactctgctccccctttac\r\n",
      "cgcccacctacacccccgccgcagccgcagccggggtcctcctgctgggg\r\n",
      "gtccgcccctactgcacgccggccgggcagcagcatcccaccgcttccgc\r\n",
      "ctcgccgccgccccgccaggagcccggctccagcctgggagggcaggggg\r\n",
      "ccggaccccaaaggcgcagccgctgggttccctgccgttcgcggtgcctt\r\n",
      "cccgctcccggaacgcccaggcgattcaattcacccatcgggcgccgtcg\r\n",
      "tcgcacccttccaaaccgggggaaggggcgggcaggggcagcgggtgcca\r\n",
      "cagacgccagccaagacgtcggctccggaacgcatgggctgctttacccg\r\n",
      "ggggaaggacattgcttcgccagccaccgggaaaacaggccctgtgcacc\r\n",
      "cgggattcccaatgccccccgcttcgtgtcgacgactccagtcccgagga\r\n",
      "ctcgccagagacccaggcctccgggcccgcccggtgccacggctcccgcc\r\n",
      "aaacgggcgggcgcgctctgcaaatctcggggcccgccgcaaggcaccca\r\n",
      "gagcacagggaggtgccaagaaaggcaggagcctacgaaacccacctcca\r\n",
      "aagcaagcaattcatccaagaaaacgcccgcctcagcgctccgttggtcc\r\n",
      "tctcgcacggaccgcctggcccccgtgttctgggcgcagcccaagccccc\r\n",
      "tccaccctatcccggcctgctcaagagggcgctgcctaacggagccgggc\r\n",
      "gcttcctctctaaggctctatcgctctcgctctctagctccctccgcctc\r\n",
      "tctcttctgggtttccccctggacctcgcgctacttttgtcgttttccct\r\n",
      "ctgtctctctgtctctctctctctctttctctgtgcctctctctttctca\r\n",
      "gcctctctgtctgtctccttccctctcgccctcccctgtctctctcgatc\r\n",
      "gctgtctctctccctccctcggtttctatctctccatccatctcgtcctt\r\n",
      "gctctccttcaagccgcgtgtgtgtgtgcgtgcgtgtgcgcgtgcgtgtg\r\n",
      "tgcgtgtgtgtctgtgtgtctgtgtgtgtgtgtgtgagtccgcgcgcgcg\r\n",
      "cgtgcgagcgcgcccgggtgtgtctgtgtgtgggggagtggatttgctcc\r\n",
      "tggtggcggtggggtgtgtctgggtttctctcaggccctctcacccgaga\r\n",
      "tcaggccgccgcctctagtgccagcccggggcaaaacagggccacccccc\r\n",
      "gacccgctacaccccacgccctcttgcccccccggccgggtcttggtcgg\r\n",
      "gacaagcgaccgtggtgggggcgttgtgagagaaaggccccgcgcggctg\r\n",
      "ggccggctgttcgccttcggccagccctgacggctctgggtgggtggggc\r\n",
      "aagagggggcctcgcaggagcccctgtgcggcgagggatccaaaacgctg\r\n",
      "cctccgcgacagggcggaggaccggagggcgtcccaggatcNNNNNNNNN\r\n",
      "NNNNNNNNNNNNNNNNNNNNNNNNNNNNNNNNNNNNNNNNNNNNNNNNNN\r\n",
      "NNNNNNNNNNNNNNNNNNNNNNNNNNNNNNNNNNNNNNNNNNNNNNNNNN\r\n",
      "NNNNNNNNNNNNNNNNNNNNNNNNNNNNNNNNNNNNNNNNNNNNNNNNNN\r\n",
      "NNNNNNNNNNNNNNNNNNNNNNNNNNNNNNNNNNNNNNNNNNNNNNNNNN\r\n"
     ]
    }
   ],
   "source": [
    "# Starting Reference Sequences\n",
    "cd ~/Crown/data/hgr0\n",
    "\n",
    "# 5s_noAlu (Alu is N-masked)\n",
    "# To be inserted starting at position 10,000\n",
    "cat 5s_nAlu.fa"
   ]
  },
  {
   "cell_type": "code",
   "execution_count": 3,
   "metadata": {
    "collapsed": false
   },
   "outputs": [
    {
     "name": "stdout",
     "output_type": "stream",
     "text": [
      ">NA19240_45S\r\n",
      "GCTGACACGCTGTCCTCTGGCGACCTGTCGCTGGAGAGGTTGGGCCTCCG\r\n",
      "GATGCGCGCGGGGCTCTGGCCTACCGGTGACCCGGCTAGCCGGCCGCGCT\r\n",
      "CCTGCTTGAGCCGCCTGCCGGGGCCCGCGGGCCTGCTGTTCTCTCGCGCG\r\n",
      "TCCGAGCGTCCCGACTCCCGGTGCCGGCCCGGGTCCGGGTCTCTGACCCA\r\n",
      "CCCGGGGGCGGCGGGGAAGGCGGCGAGGGCCACCGTGCCCCCGTGCGCTC\r\n",
      "TCCGCTGCGGGCGCCCGGGGCGGCCGCGACAACCCCACCCCGCTGGCTCC\r\n",
      "GTGCCGTGCGTGTCAGGCGTTCTCGTCTCCGCGGGGTTGTCCGCCGCCCC\r\n",
      "TTCCCCGGAGTGGGGGGTTGGCCGGAGCCGATCGGCTCGCTGGCCGGCCG\r\n",
      "GCCTCCGCTCCCGGGGGGCTCTTCGTGATCGATGTGGTGACGTCGTGCTC\r\n",
      "TCCCGGGCCGGGTCCGAGCCGCGACGGGCGAGGGGCGGACGTTCGTGGCG\r\n",
      "AACGGGACCGTCCTTCTCGCTCCGCCCCGCTGGGGTCCCCTCGTCTCTCC\r\n",
      "TCTCCCCGCCCGCCGGCGGTGCGTGTGGGAAGGCGTGGGGTGCGGACCCC\r\n",
      "GGCCCGACCTCGCCGTCCCGCCCGCCGCCTTCTGCGTCGCGGGTGCGGGC\r\n",
      "CGGCGGGGTCCTCTGACGCGGCAGACAGCCCTCGCTGTCGCCTCCAGTGG\r\n",
      "TTGTCGACTTGCGGGCGGCCCCCCTCCGCGGCGGTGGGGGTGCCGTCCCG\r\n",
      "CCGGCCCGTCGTGCTGCCCTCTCGGGGGGTTTGCGCGAGCGTCGGCTCCG\r\n",
      "CCTGGGCCCTTGCGGTGCTCCTGGAGCGCTCCGGGTTGTCCCTCAGGTGC\r\n",
      "CCGAGGCCGAACGGTGGTGTGTCGTTCCCGCCCCCGGCGCCCCCTCCTCC\r\n",
      "GGTCGCCGCCGCGGTGTCCGCGCGTGGGTCCTGAGGGAGCTCGTCGGTGT\r\n",
      "GGGGTTCGAGGCGGTTTGAGTGAGACGAGACGAGACGCGCCCCTCCCACG\r\n",
      "CGGGGAAGGGCGCCCGCCTGCTCTCGGTGAGCGCACGTCCCGTGCTCCCC\r\n",
      "TCTGGCGGGTGCGCGCGGGCCGTGTGAGCGATCGCGGTGGGTTCGGGCCG\r\n",
      "GTGTGACGCGTGCGCCGGCCGGCCGCCGAGGGGCTGCCGTTCTGCCTCCG\r\n",
      "ACCGGTCGTGTGTGGGTTGACTTCGGAGGCGCTCTGCCTCGGAAGGAAGG\r\n",
      "AGGTGGGTGGACGGGGGGGCCTGGTGGGGTTGCGCGCACGCGCGCACCGG\r\n",
      "CCGGGCCCCCGCCCTGAACGCGAACGCTCGAGGTGGCCGCGCGCAGGTGT\r\n",
      "TTCCTCGTACCGCAGGGCCCCCTCCCTTCCCCAGGCGTCCCTCGGCGCCT\r\n",
      "CTGCGGGCCCGAGGAGGAGCGGCTGGCGGGTGGGGGGAGTGTGACCCACC\r\n",
      "CTCGGTGAGAAAAGCCTTCTCTAGCGATCTGAGAGGCGTGCCTTGGGGGT\r\n",
      "ACCGGATCCCCCGGGCCGCCGCCTCTGTCTCTGCCTCCGTTATGGTAGCG\r\n",
      "CTGCCGTAGCGACCCGCTCGCAGAGGACCCTCCTCCGCTTCCCCCTCGAC\r\n",
      "GGGGTTGGGGGGGAGAAGCGAGGGTTCCGCCGGCCACCGCGGTGGTGGCC\r\n",
      "GAGTGCGGCTCGTCGCCTACTGTGGCCCGCGCCTCCCCCTTCCGAGTCGG\r\n",
      "GGGAGGATCCCGCCGGGCCGGGCCCGGCGTTCCCAGCGGGTTGGGACGCG\r\n",
      "GCGGCCGGCGGGCGGTGGGTGTGCGCGCCCGGCGCTCTGTCCGGCGCGTG\r\n",
      "ACCCCCTCCGCCGCGAGTCGGCTCTCCGCCCGCTCCCGTGCCGAGTCGTG\r\n",
      "ACCGGTGCCGACGACCGCGTTTGCGTGGCACGGGGTCGGGCCCGCCTGGC\r\n",
      "CCTGGGAAAGCGTCCCACGGTGGGGGCGCGCCGGTCTCCCGGAGCGGGAC\r\n",
      "CGGGTCGGAGGATGGACGAGAATCACGAGCGACGGTGGTGGTGGCGTGTC\r\n",
      "GGGTTCGTGGCTGCGGTCGCTCCGGGGCCCCCGGTGGCGGGGCCCCGGGG\r\n",
      "CTCGCGAGGCGGTTCTCGGTGGGGGCCGAGGGCCGTCCGGCGTCCCAGGC\r\n",
      "GGGGCGCCGCGGGACCGCCCTCGTGTCTGTGGCGGTGGGATCCCGCGGCC\r\n",
      "GTGTTTTCCTGGTGGCCCGGCCGTGCCTGAGGTTTCTCCCCGAGCCGCCG\r\n",
      "CCTCTGCGGGCTCCCGGGTGCCCTTGCCCTCGCGGTCCCCGGCCCTCGCC\r\n",
      "CGTCTGTGCCCTCTTCCCCGCCCGCCGCCCGCCGATCCTCTTCTTCCCCC\r\n",
      "CGAGCGGCTCACCGGCTTCACGTCCGTTGGTGGCCCCGCCTGGGACCGAA\r\n",
      "CCCGGCACCGCCTCGTGGGGCGCCGCCGCCGGCCACTGATCGGCCCGGCG\r\n",
      "TCCGCGTCCCCCGGCGCGCGCCTTGGGGACCGGGTCGGTGGCGCCCCGCG\r\n",
      "TGGGGCCCGGTGGGCTTCCCGGAGGGTTCCGGGGGTCGGCCTGCGGCGCG\r\n",
      "TGCGGGGGAGGAGACGGTTCCGGGGGACCGGCCGCGACTGCGGCGGCGGT\r\n",
      "GGTGGGGGGAGCCGCGGGGATCGCCGAGGGCCGGTCGGCCGCCCCGGGTG\r\n",
      "CCGCGCGGTGCCGCCGGCGGCGGTGAGGCCCCGCGCGTGTGTCCCGGCTG\r\n",
      "CGGTCGGCCGCGCTCGAGGGGTCCCCGTGGCGTCCCCTTCCCCGCCGGCC\r\n",
      "GCCTTTCTCGCGCCTTCCCCGTCGCCCCGGCCTCGCCCGTGGTCTCTCGT\r\n",
      "CTTCTCCCGGCCCGCTCTTCCGAACCGGGTCGGCGCGTCCCCCGGGTGCG\r\n",
      "CCTCGCTTCCCGGGCCTGCCGCGGCCCTTCCCCGAGGCGTCCGTCCCGGG\r\n",
      "CGTCGGCGTCGGGGAGAGCCCGTCCTCCCCGCGTGGCGTCGCCCCGTTCG\r\n",
      "GCGCGCGCGTGCGCCCGAGCGCGGCCCGGTGGTCCCTCCCGGACAGGCGT\r\n",
      "TCGTGCGACGTGTGGCGTGGGTCGACCTCCGCCTTGCCGGTCGCTCGCCC\r\n",
      "TCTCCCCGGGTCGGGGGGTGGGGCCCGGGCCGGGGCCTCGGCCCCGGTCG\r\n",
      "CGGTCCCCCGTCCCGGGCGGGGGCGGGCGCGCCGGCCGGCCTCGGTCGGC\r\n",
      "CCTCCCTTGGCCGTCGTGTGGCGTGTGCCACCCCTGCGCCCGCGCCCGCC\r\n",
      "GGCGGGGCTCGGAGCCGGGCTTCGGCCGGGCCCCGGGCCCTCGACCGGAC\r\n",
      "CGGTGCGCGGGCGCTGCGGCCGCACGGCGCGACTGTCCCCGGGCCGGGCA\r\n",
      "CCGCGGTCCGCCTCTCGCTCGCCGCCCGGACGTCGGGGCCGCCCCGCGGG\r\n",
      "GCGGGCGGAGCGCCGTCCCCGCCTCGCCGCCGCCCGCGGGCGCCGGCCGC\r\n",
      "GCGCGCGCGCGTGGCCGCCGGTCCCTCCCGGCCGCCGGGCGCGGGTCGGG\r\n",
      "CCGTCCGCCTCCTCGCGGGCGGGCGCGACGAAGAAGCGTCGCGGGTCTGT\r\n",
      "GGCGCGGGGCCCCGGTGGTCGTGTCGCGTGGGGGGCGGGTGGTTGGGGCG\r\n",
      "TCCGGTTCGCCGCGCCCCGCCCCGGCCCCACCTGTCCCGGCCGCCGCCCC\r\n",
      "CGCGCCCGCTCGCTCCCTCCCGTCCGCCCGTCCGCGGCCCGTCCGTCCGT\r\n",
      "CCGTCCGTCGTCCTCCTCGCTTGCGGGGCGCCGGGCCCGTCCTCGCGAGG\r\n",
      "CCCCCCGGCCGGCCGTCCGGCCGCGTCGGGGCCTCGCCGCGCTCTACCTT\r\n",
      "ACCTACCTGGTTGATCCTGCCAGTAGCATATGCTTGTCTCAAAGATTAAG\r\n",
      "CCATGCATGTCTAAGTACGCACGGCCGGTACAGTGAAACTGCGAATGGCT\r\n",
      "CATTAAATCAGTTATGGTTCCTTTGGTCGCTCGCTCCTCTCCTACTTGGA\r\n",
      "TAACTGTGGTAATTCTAGAGCTAATACATGCCGACGGGCGCTGACCCCCT\r\n",
      "TCGCGGGGGGGATGCGTGCATTTATCAGATCAAAACCAACCCGGTCAGCC\r\n",
      "CCTCTCCGGCCCCGGCCGGGGGGCGGGCGCCGGCGGCTTTGGTGACTCTA\r\n",
      "GATAACCTCGGGCCGATCGCACGCCCCCCGTGGCGGCGACGACCCATTCG\r\n",
      "AACGTCTGCCCTATCAACTTTCGATGGTAGTCGCCGTGCCTACCATGGTG\r\n",
      "ACCACGGGTGACGGGGAATCAGGGTTCGATTCCGGAGAGGGAGCCTGAGA\r\n",
      "AACGGCTACCACATCCAAGGAAGGCAGCAGGCGCGCAAATTACCCACTCC\r\n",
      "CGACCCGGGGAGGTAGTGACGAAAAATAACAATACAGGACTCTTTCGAGG\r\n",
      "CCCTGTAATTGGAATGAGTCCACTTTAAATCCTTTAACGAGGATCCATTG\r\n",
      "GAGGGCAAGTCTGGTGCCAGCAGCCGCGGTAATTCCAGCTCCAATAGCGT\r\n",
      "ATATTAAAGTTGCTGCAGTTAAAAAGCTCGTAGTTGGATCTTGGGAGCGG\r\n",
      "GCGGGCGGTCCGCCGCGAGGCGAGCCACCGCCCGTCCCCGCCCCTTGCCT\r\n",
      "CTCGGCGCCCCCTCGATGCTCTTAGCTGAGTGTCCCGCGGGGCCCGAAGC\r\n",
      "GTTTACTTTGAAAAAATTAGAGTGTTCAAAGCAGGCCCGAGCCGCCTGGA\r\n",
      "TACCGCAGCTAGGAATAATGGAATAGGACCGCGGTTCTATTTTGTTGGTT\r\n",
      "TTCGGAACTGAGGCCATGATTAAGAGGGACGGCCGGGGGCATTCGTATTG\r\n",
      "CGCCGCTAGAGGTGAAATTCTTGGACCGGCGCAAGACGGACCAGAGCGAA\r\n",
      "AGCATTTGCCAAGAATGTTTTCATTAATCAAGAACGAAAGTCGGAGGTTC\r\n",
      "GAAGACGATCAGATACCGTCGTAGTTCCGACCATAAACGATGCCGACCGG\r\n",
      "CGATGCGGCGGCGTTATTCCCATGACCCGCCGGGCAGCTTCCGGGAAACC\r\n",
      "AAAGTCTTTGGGTTCCGGGGGGAGTATGGTTGCAAAGCTGAAACTTAAAG\r\n",
      "GAATTGACGGAAGGGCACCACCAGGAGTGGAGCCTGCGGCTTAATTTGAC\r\n",
      "TCAACACGGGAAACCTCACCCGGCCCGGACACGGACAGGATTGACAGATT\r\n",
      "GATAGCTCTTTCTCGATTCCGTGGGTGGTGGTGCATGGCCGTTCTTAGTT\r\n",
      "GGTGGAGCGATTTGTCTGGTTAATTCCGATAACGAACGAGACTCTGGCAT\r\n",
      "GCTAACTAGTTACGCGACCCCCGAGCGGTCGGCGTCCCCCAACTTCTTAG\r\n",
      "AGGGACAAGTGGCGTTCAGCCACCCGAGATTGAGCAATAACAGGTCTGTG\r\n",
      "ATGCCCTTAGATGTCCGGGGCTGCACGCGCGCTACACTGACTGGCTCAGC\r\n",
      "GTGTGCCTACCCTACGCCGGCAGGCGCGGGTAACCCGTTGAACCCCATTC\r\n",
      "GTGATGGGGATCGGGGATTGCAATTATTCCCCATGAACGAGGAATTCCCA\r\n",
      "GTAAGTGCGGGTCATAAGCTTGCGTTGATTAAGTCCCTGCCCTTTGTACA\r\n",
      "CACCGCCCGTCGCTACTACCGATTGGATGGTTTAGTGAGGCCCTCGGATC\r\n",
      "GGCCCCGCCGGGGTCGGCCCACGGCCCTGGCGGAGCGCTGAGAAGACGGT\r\n",
      "CGAACTTGACTATCTAGAGGAAGTAAAAGTCGTAACAAGGTTTCCGTAGG\r\n",
      "TGAACCTGCGGAAGGATCATTAACGGAGCCCGGAGGGCGAGGCCCGCGGC\r\n",
      "GGCGCCGCCGCCGCCGCGCGCTTCCCTCCGCACACCCACCCCCCCACCGC\r\n",
      "GACGCGGCGCGTGCGCGGGCGGGGCCCGCGTGCCCGTTCGTTCGCTCGCT\r\n",
      "CGTTCGTTCGCCGCCCGGCCCCGCCGCCGCGAGAGCCGAGAACTCGGGAG\r\n",
      "GGAGACGGGGGGGAGAGAGAGAGAGAGAGAGAGAGAGAGAGAGAGAGAGA\r\n",
      "GAGAAAGAAGGGCGTGTCGTTGGTGTGCGCGTGTCGTGGGGCCGGCGGGC\r\n",
      "GGCGGGGAGCGGTCCCCGGCCGCGGCCCCGACGGCGTGGGTGTCGGCGGG\r\n",
      "CGCGGGGGCGGTTCTCGGCGGCGTCGCGGCGGGTCTGGGGGTCTCGGTGC\r\n",
      "CCTCCTCCCCGCCGGGGCCCGTCGTCCGGCCCCGCCGCGCCGGCTCCCCG\r\n",
      "TCTTCGGGGCCGGCCGGATTCCCGTCGCCTCCGCCGCGCCGCTCCGCGCC\r\n",
      "GCCGGGCACGGCCCCGCTCGCTCTCCCCGGCCTTCCCGCTAGGGCGTCTC\r\n",
      "GAGGGTCGGGGGCCGGACGCCGGTCCCCTCCCCCGCCTCCTCGTCCGCCC\r\n",
      "CCCCGCCGTCCAGGTACCTAGCGCGTTCCGGCGCGGAGGTTTAAAGACCC\r\n",
      "CTTGGGGGGATCGCCCGTCCGCCCGTGGGTCGGGGGCGGTGGTGGGCCCG\r\n",
      "CGGGGGAGTCCCGTCGGGAGGGGCCCGGCCCCTCCCGCGCCTCCACCGCG\r\n",
      "GACTCCGCTCCCCGGCCGGGGCCGCGCCGCCGCCGCCGCCGCGGCGGCCG\r\n",
      "TCGGGTGGGGGCTTTACCCGGCGGCCGTCGCGCGCCTGCCGCGCGTGTGG\r\n",
      "CGTGCGCCCCGCGCCGTGGGGGCGGGAACCCCCGGGCGCCTGTGGGGTGG\r\n",
      "TGTCCGCGCTCGCCCCCGCGTGGGCGGCGCGCGCCTCCCCGTGGTGTGAA\r\n",
      "ACCTTCCGACCCCTCTCCGGAGTCCGGTCCCGTTTGCTGTCTCGTCTGGC\r\n",
      "CGGCCTGAGGCAACCCCCTCTCCTCTTGGGCGGGGGGGGCGGGGGGACGT\r\n",
      "GCCGCGCCAGGAAGGGCCTCCTCCCGGTGCGTCGTCGGGAGCGCCCTCGC\r\n",
      "CAAATCGACCTCGTACGACTCTTAGCGGTGGATCACTCGGCTCGTGCGTC\r\n",
      "GATGAAGAACGCAGCTAGCTGCGAGAATTAATGTGAATTGCAGGACACAT\r\n",
      "TGATCATCGACACTTCGAACGCACTTGCGGCCCCGGGTTCCTCCCGGGGC\r\n",
      "TACGCCTGTCTGAGCGTCGCTTGCCGATCAATCGCCCCCGGGGGTGCCTC\r\n",
      "CGGGCTCCTCGGGGTGCGCGGCTGGGGGTTCCCTCGCAGGGCCCGCCGGG\r\n",
      "GGCCCTCCGTCCCCCTAAGCGCAGACCCGGCGGCGTCCGCCCTCCTCTTG\r\n",
      "CCGCCGCGCCCGCCCCTTCCCCCTCCCCCCGCGGGCCCTGCGTGGTCACG\r\n",
      "CGTCGGGTGGCGGGGGGGAGAGGGGGGCGCGCCCGGCTGAGAGAGACGGG\r\n",
      "GAGGGCGGCGCCGCCGCCGCCCGCGAAGACGGAGAGGGAAAGAGAGAGCC\r\n",
      "GGCTCGGGCCGAGTTCCCGTGGCCGCCGCCTGCGGTCCGGGTTCCTCCCT\r\n",
      "CGGGGGGCTCCCTCGCGCCGCGCGCGGCTCGGGGTTCGGGGTTCGTCGGC\r\n",
      "CCCGGCCGGGTGGAAGGTCCCGTGCCCGTCGTCGTCGTCGTCGCGCGTCG\r\n",
      "TCGGCGGTGGGGGCGTGTTGCGTGCGGTGTGGTGGTGGGGGAGGAGGAAG\r\n",
      "GCGGGTCCGGAAGGGGAAGGGTGCCGGCGGGGAGAGAGGGTCGGGGGAGC\r\n",
      "GCGTCCCGGTCGCCGCGGTTCCGCCGCCCGCCCCCGGTGGCGGCCCGGCG\r\n",
      "TCCGGCCGACCGCCGCTCCCGCGCCCCTCCTCCTCCCCGCCGCCCCTCCT\r\n",
      "CCGAGGCCCCGCCCGTCCTCCTCGCCCTCCCCGCGCGTACGCGCGCGCGC\r\n",
      "CCGCCCGCCCGGCTCGCCTCGCGGCGCGTCGGCCGGGGCCGGGAGCCCGC\r\n",
      "CCCGCGGCCCGCCCGGCCGCGCCCGTGGCCGCGGCGCCGGGGTTCGCGTG\r\n",
      "TCCCCGGCGGCGACCCGCGGGACGCCGCGGTGTCGTCCGCCGTCGCGCGC\r\n",
      "CCGCCTCCGGCTCGCGGCCGCGCCGCGCCGCGCCGGGGCCCCGTCCCGAG\r\n",
      "CTTCCGCGTCGGGGCGGGGCGGCTCCGCCGCCGCGTCCTCGGACCCGTCC\r\n",
      "CCCCGACCTCCGCGGGGGAGACGGGTCGGGGCGTGCGGCGCCCGTCCCGC\r\n",
      "CCCCGGCCCGTGCCCCTCCCTCCGGTCGTCCCGCTCCGGCGGGGCGGCGC\r\n",
      "GGGGGTGCCGTCGGCCGCGGCTCTCTCTCCCGTCGCCTCTCCCCCTCGCC\r\n",
      "GGGCCCGTCTCCCGACGGAGCGTCGGGCGGGCGGTCGGGCCGGCGCGATT\r\n",
      "CCGTCCGTCCGTCCGCCGAGCGGCCCGTCCCCCTCCGAGACGCGACCTCA\r\n",
      "GATCAGACGTGGCGACCCGCTGAATTTAAGCATATTAGTCAGCGGAGGAG\r\n",
      "AAGAAACTAACCAGGATTCCCTCAGTAACGGCGAGTGAACAGGGAAGAGC\r\n",
      "CCAGCGCCGAATCCCCGCCCCGCGGCGGGGCGCGGGACATGTGGCGTACG\r\n",
      "GAAGACCCGCTCCCCGGCGCCGCTCGTGGGGGGCCCAAGTCCTTCTGATC\r\n",
      "GAGGCCCAGCCCGTGGACGGTGTGAGGCCGGTAGCGGCCCCCGGCGCGCC\r\n",
      "GGGCCCGGGTCTTCCCGGAGTCGGGTTGCTTGGGAATGCAGCCCAAAGCG\r\n",
      "GGTGGTAAACTCCATCTAAGGCTAAATACCGGCACGAGACCGATAGTCAA\r\n",
      "CAAGTACCGTAAGGGAAAGTTGAAAAGAACTTTGAAGAGAGAGTTCAAGA\r\n",
      "GGGCGTGAAACCGTTAAGAGGTAAACGGGTGGGGTCCGCGCAGTCCGCCC\r\n",
      "GGAGGATTCAACCCGGCGGCGGGTCCGGCCGTGTCGGCGGCCCGGCGGAT\r\n",
      "CTTTCCCGCCCCCCGTTCCTCCCGACCCCTCCACCCGCCCTCCCTTCCCC\r\n",
      "CGCCGCCCCTCCTCCTCCTCCCCGGAGGGGGCGGGCTCCGGCGGGTGCGG\r\n",
      "GGGTGGGCGGGCGGGGCCGGGGGTGGGGTCGGCGGGGGACCGTCCCCCGA\r\n",
      "CCGGCGACCGGCCGCCGCCGGGCGCATTTCCACCGCGGCGGTGCGCCGCG\r\n",
      "ACCGGCTCCGGGACGGCTGGGAAGGCCCGGCGGGGAAGGTGGCTCGGGGG\r\n",
      "GCCCCGTCCGTCCGTCCGTCCTCCTCCTCCCCCGTCTCCGCCCCCCGGCC\r\n",
      "CCGCGTCCTCCCTCGGGAGGGCGCGCGGGTCGGGGCGGCGGCGGCGGCGG\r\n",
      "CGGTGGCGGCGGCGGCGGCGGCGGCGGGACCGAAACCCCCCCCGAGTGTT\r\n",
      "ACAGCCCCCCCGGCAGCAGCACTCGCCGAATCCCGGGGCCGAGGGAGCGA\r\n",
      "GACCCGTCGCCGCGCTCTCCCCCCTCCCGGCGCCCACCCCCGCGGGGAAT\r\n",
      "CCCCCGCGAGGGGGGTCTCCCCCGCGGGGGCGCGCCGGCGTCTCCTCGTG\r\n",
      "GGGGGGCCGGGCCACCCCTCCCACGGCGCGACCGCTCTCCCACCCCTCCT\r\n",
      "CCCCGCGCCCCCGCCCCGGCGACGGGGGGGGTGCCGCGCGCGGGTCGGGG\r\n",
      "GGCGGGGCGGACTGTCCCCAGTGCGCCCCGGGCGGGTCGCGCCGTCGGGC\r\n",
      "CCGGGGGAGGTTCTCTCGGGGCCACGCGCGCGTCCCCCGAAGAGGGGGAC\r\n",
      "GGCGGAGCGAGCGCACGGGGTCGGCGGCGACGTCGGCTACCCACCCGACC\r\n",
      "CGTCTTGAAACACGGACCAAGGAGTCTAACACGTGCGCGAGTCGGGGGCT\r\n",
      "CGCACGAAAGCCGCCGTGGCGCAATGAAGGTGAAGGCCGGCGCGCTCGCC\r\n",
      "GGCCGAGGTGGGATCCCGAGGCCTCTCCAGTCCGCCGAGGGCGCACCACC\r\n",
      "GGCCCGTCTCGCCCGCCGCGCCGGGGAGGTGGAGCACGAGCGCACGTGTT\r\n",
      "AGGACCCGAAAGATGGTGAACTATGCCTGGGCAGGGCGAAGCCAGAGGAA\r\n",
      "ACTCTGGTGGAGGTCCGTAGCGGTCCTGACGTGCAAATCGGTCGTCCGAC\r\n",
      "CTGGGTATAGGGGCGAAAGACTAATCGAACCATCTAGTAGCTGGTTCCCT\r\n",
      "CCGAAGTTTCCCTCAGGATAGCTGGCGCTCTCGCAGACCCGACGCACCCC\r\n",
      "CGCCACGCAGTTTTATCCGGTAAAGCGAATGATTAGAGGTCTTGGGGCCG\r\n",
      "AAACGATCTCAACCTATTCTCAAACTTTAAATGGGTAAGAAGCCCGGCTC\r\n",
      "GCTGGCGTGGAGCCGGGCGTGGAATGCGAGTGCCTAGTGGGCCACTTTTG\r\n",
      "GTAAGCAGAACTGGCGCTGCGGGATGAACCGAACGCCGGGTTAAGGCGCC\r\n",
      "CGATGCCGACGCTCATCAGACCCCAGAAAAGGTGTTGGTTGATATAGACA\r\n",
      "GCAGGACGGTGGCCATGGAAGTCGGAATCCGCTAAGGAGTGTGTAACAAC\r\n",
      "TCACCTGCCGAATCAACTAGCCCTGAAAATGGATGGCGCTGGAGCGTCGG\r\n",
      "GCCCATACCCGGCCGTCGCCGGCAGTCGAGAGTGGACGGGAGCGGCGGGG\r\n",
      "GCGGCGCGCGCGCGCGCGCGTGTGGTGTGCGTCGGAGGGCGGCGGCGGCG\r\n",
      "GCGGCGGCGGGGGTGTGGGGTCCTTCCCCCGCCCCCCCCCCCACGCCTCC\r\n",
      "TCCCCTCCTCCCGCCCACGCCCCGCTCCCCGCCCCCGGAGCCCCGCGGAC\r\n",
      "GCTACGCCGCGACGAGTAGGAGGGCCGCTGCGGTGAGCCTTGAAGCCTAG\r\n",
      "GGCGCGGGCCCGGGTGGAGCCGCCGCAGGTGCAGATCTTGGTGGTAGTAG\r\n",
      "CAAATATTCAAACGAGAACTTTGAAGGCCGAAGTGGAGAAGGGTTCCATG\r\n",
      "TGAACAGCAGTTGAACATGGGTCAGTCGGTCCTGAGAGATGGGCGAGCGC\r\n",
      "CGTTCCGAAGGGACGGGCGATGGCCTCCGTTGCCCTCGGCCGATCGAAAG\r\n",
      "GGAGTCGGGTTCAGATCCCCGAATCCGGAGTGGCGGAGATGGGCGCCGCG\r\n",
      "AGGCGTCCAGTGCGGTAACGCGACCGATCCCGGAGAAGCCGGCGGGAGCC\r\n",
      "CCGGGGAGAGTTCTCTTTTCTTTGTGAAGGGCAGGGCGCCCTGGAATGGG\r\n",
      "TTCGCCCCGAGAGAGGGGCCCGTGCCTTGGAAAGCGTCGCGGTTCCGGCG\r\n",
      "GCGTCCGGTGAGCTCTCGCTGGCCCTTGAAAATCCGGGGGAGAGGGTGTA\r\n",
      "AATCTCGCGCCGGGCCGTACCCATATCCGCAGCAGGTCTCCAAGGTGAAC\r\n",
      "AGCCTCTGGCATGTTGGAACAATGTAGGTAAGGGAAGTCGGCAAGCCGGA\r\n",
      "TCCGTAACTTCGGGATAAGGATTGGCTCTAAGGGCTGGGTCGGTCGGGCT\r\n",
      "GGGGCGCGAAGCGGGGCTGGGCGCGCGCCGCGGCTGGACGAGGCGCCGCC\r\n",
      "GCCCCCCCCACGCCCGGGGCACCCCCCTCGCGGCCCTCCCCCGCCCCACC\r\n",
      "CCGCGCGCGCCGCTCGCTCCCTCCCCACCCCGCGCCCTCTCTCTCTCTCT\r\n",
      "CTCCCCCGCTCCCCGTCCTCCCCCCTCCCCGGGGGAGCGCCGCGTGGGGG\r\n",
      "CGGCGGCGGGGGGAGAAGGGTCGGGGCGGCAGGGGCCGGCGGCGGCCCGC\r\n",
      "CGCGGGGCCCCGGCGGCGGGGGCACGGTCCCCCGCGAGGGGGGCCCGGGC\r\n",
      "ACCCGGGGGGCCGGCGGCGGCGGCGACTCTGGACGCGAGCCGGGCCCTTC\r\n",
      "CCGTGGATCGCCCCAGCTGCGGCGGGCGTCGCGGCCGCCCCCGGGGAGCC\r\n",
      "CGGCGGCGGGCGCGCGCGCCCCCCACCCCCACCCCACGTCTCGTCGCGCG\r\n",
      "CGCGTCCGCTGGGGGCGGGGAGCGGTCGGGCGGCGGCGGTCGGCGGGCGG\r\n",
      "CGGGGCGGGGCGGTTCGTCCCCCCGCCCTACCCCCCCGGCCCCGTCCGCC\r\n",
      "CCCCGTTCCCCCCTCCTCCTCGGCGCGCGGCGGCGGCGGCGGCAGGCGGC\r\n",
      "GGAGGGGCCGCGGGCCGGTCCCCCCCGCCGGGTCCGCCCCCGGGGCCGCG\r\n",
      "GTTCCGCGCGCGGCCTCGCCTCGGCCGGCGCCTAGCAGCCGACTTAGAAC\r\n",
      "TGGTGCGGACCAGGGGAATCCGACTGTTTAATTAAAACAAAGCATCGCGA\r\n",
      "AGGCCCGCGGCGGGTGTTGACGCGATGTGATTTCTGCCCAGTGCTCTGAA\r\n",
      "TGTCAAAGTGAAGAAATTCAATGAAGCGCGGGTAAACGGCGGGAGTAACT\r\n",
      "ATGACTCTCTTAAGGTAGCCAAATGCCTCGTCATCTAATTAGTGACGCGC\r\n",
      "ATGAATGGATGAACGAGATTCCCACTGTCCCTACCTACTATCCAGCGAAA\r\n",
      "CCACAGCCAAGGGAACGGGCTTGGCGGAATCAGCGGGGAAAGAAGACCCT\r\n",
      "GTTGAGCTTGACTCTAGTCTGGCACGGTGAAGAGACATGAGAGGTGTAGA\r\n",
      "ATAAGTGGGAGGCCCCCGGCGCCCCCCCGGTGTCCCCGCGAGGGGCCCGG\r\n",
      "GGCGGGGTCCGCCGGCCCTGCGGGCCGCCCGGTGAAATACCACTACTCTG\r\n",
      "ATCGTTTTTTCACTGACCCGGTGAGGCGGGGGGGCGAGCCCCGAGGGGCT\r\n",
      "CTCGCTTCTGGCGCCAAGCGCCCGGCCGCGCGCCGGCCGGGCGCGACCCG\r\n",
      "CTCCGGGGACAGTGCCAGGTGGGGAGTTTGACTGGGGCGGTACACCTGTC\r\n",
      "AAACGGTAACGCAGGTGTCCTAAGGCGAGCTCAGGGAGGACAGAAACCTC\r\n",
      "CCGTGGAGCAGAAGGGCAAAAGCTCGCTTGATCTTGATTTTCAGTACGAA\r\n",
      "TACAGACCGTGAAAGCGGGGCCTCACGATCCTTCTGACCTTTTGGGTTTT\r\n",
      "AAGCAGGAGGTGTCAGAAAAGTTACCACAGGGATAACTGGCTTGTGGCGG\r\n",
      "CCAAGCGTTCATAGCGACGTCGCTTTTTGATCCTTCGATGTCGGCTCTTC\r\n",
      "CTATCATTGTGAAGCAGAATTCACCAAGCGTTGGATTGTTCACCCACTAA\r\n",
      "TAGGGAACGTGAGCTGGGTTTAGACCGTCGTGAGACAGGTTAGTTTTACC\r\n",
      "CTACTGATGATGTGTTGTTGCCATGGTAATCCTGCTCAGTACGAGAGGAA\r\n",
      "CCGCAGGTTCAGACATTTGGTGTATGTGCTTGGCTGAGGAGCCAATGGGG\r\n",
      "CGAAGCTACCATCTGTGGGATTATGACTGAACGCCTCTAAGTCAGAATCC\r\n",
      "CGCCCAGGCGGAACGATACGGCAGCGCCGCGGAGCCTCGGTTGGCCTCGG\r\n",
      "ATAGCCGGTCCCCCGCCTGTCCCCGCCGGCGGGCCGCCCCCCCCCTCCAC\r\n",
      "GCGCCCCGCGCGCGCGGGAGGGCGCGTGCCCCGCCGCGCGCCGGGACCGG\r\n",
      "GGTCCGGTGCGGAGTGCCCTTCGTCCTGGGAAACGGGGCGCGGCCGGAAA\r\n",
      "GGCGGCCGCCCCCTCGCCCGTCACGCACCGCACGTTCGTGGGGAACCTGG\r\n",
      "CGCTAAACCATTCGTAGACGACCTGCTTCTGGGTCGGGGTTTCGTACGTA\r\n",
      "GCAGAGCAGCTCCCTCGCTGCGATCTATTGAAAGTCAGCCCTCGACACAA\r\n",
      "GGGTTTGTCCGCGCGCGCGTGCGTGCGGGGGGCCCGGCGGGGCGTGCGCG\r\n",
      "CTCGGCGCCGTCCGTCCTTCCGTTCGTCTTCCTCCCTCCCGGCCTCTCCC\r\n",
      "GCCGACCGCGGGCGTGGTGGTGGGGGTGGGGGGGAGGGCGCGCGACCCCG\r\n",
      "GTCGGCGCGCCCCGCTTCTTCGGTTCCCGCCTCCTCCCCGTTCACCGCCG\r\n",
      "GGGCGGCTCGTCCGCTCCGGGCCGGGACGGGGTCCGGGGAGCGTGGTTTG\r\n",
      "GGAGCCGCGGAGGCGGCCGCGCCGAGCCGGGCCCGTGGCCCGCCGGTCCC\r\n",
      "CGTCCCGGGGGTTGGCCGCGCGGGCCCCGGTGGGGCGGCCACCCGGGGTC\r\n",
      "CCGGCCCTCGCGCGTCCTTCCTCCTCGCTCCTCCGCACGGGTCGACCAGC\r\n",
      "AGACCGCGGGTGGCGGGCGGCGGGCGGCGAGGCCCCACGGGGCGTCCCCG\r\n",
      "CACCCGGCCGACCTCCGCTCGCGACCTCTCCTCGGTCGGGCCTCCGGGGT\r\n",
      "CGACCGCCTGCCGCCCGCGGGCGTGAGACTCAGCCGGCGTCTCGCCGTGT\r\n",
      "CC\r\n"
     ]
    }
   ],
   "source": [
    "# NA19240 corrected RNA45S\n",
    "# Inserted starting at position 1,000,001\n",
    "cat NA19240_alt45s.fa"
   ]
  },
  {
   "cell_type": "code",
   "execution_count": 3,
   "metadata": {
    "collapsed": false
   },
   "outputs": [
    {
     "name": "stdout",
     "output_type": "stream",
     "text": [
      ">NA19240_refined_promoter\r\n",
      "AACCGCGCCGTGGGTTGTCTTCTGACTCTGTCGCGGTCGAGGCAGAGACG\r\n",
      "CGTTTTGGGCACCGTTTGTGTGGGGTTGGGGCAGAGGGGCTGCGTTTTCG\r\n",
      "GCCTCGGGAAGAGCTTCTCGACTCACGGTTTCGCTTTCGCGGTCCACGGG\r\n",
      "CCGCCCTGCCAGCCGGATCTGTCTCGCTGACGTCCGCGGCGGTTGTCGGG\r\n",
      "CTCCATCTGGCGGCCGCTTTGAGATCGTGCTCTCGGCTTCCGGAGCTGCG\r\n",
      "GTGGCAGCTGCCGAGGGAGGGGACCGTCCCCGCTGTGAGCTAGGCAGAGC\r\n",
      "TCCGGAAAGCCCGCGGTCGTCAGCCCGGCTGGCCCGGTGGCGCCAGAGCT\r\n",
      "GTGGCGCGTCGCTTGTGAGTCACAGCTCTGGCGTGCAGGTTTATGTGGGG\r\n",
      "GAGAGGCTGTCGCTGCGCTTCTGGGCCCGCGGCGGGCGTGGGGCTGCCCG\r\n",
      "GGCCGGTCGACCAGCGCGCCGTAGCTCCCGAGGCCCGAGCCGCGACCCGC\r\n",
      "GGGGACCCGCCGCGCGTGGCGCGGGAGGCTGGGGACGCCCTTCCCGGCCC\r\n",
      "GGTCGCGGGTCCGCGCTCATCCTGGCCGTCTGAGGCGGCGGCCGAATTCG\r\n",
      "TTTCCGAGTCCCCGTGGGGAGCCGGGGACCGTCCCGCCCCCGTCCCCCGG\r\n",
      "GTGCCGGGGAGCGGTCCCCGGGCCGGGCCGCGGTCCCTCTGCCGCGATCC\r\n",
      "TTTCTGGCGAGTCCCCGTGCGGAGTCGGAGAGCGCTCCCTGAGCGCGCGT\r\n",
      "GCGGCCCGAGAGGTCGCGCCTGGCCGGCCTTCGGTCCCTCGTGTGTCCCG\r\n",
      "GTCGTAGGAGGGGCCGGCCGAAAATGCTTCCGGCTCCCGCTCTGGAGACA\r\n",
      "CGGGCCGGCCCCCTGCGTGTGGCACGGGCGGCCGGGAGGGCGTCCCCGGC\r\n",
      "CCGGCGCTGCTCCCGCGTGTGTCCTGGGGTTGACCAGAGGGCCCCGGGCG\r\n",
      "CTCCGTGTGTGGCTGCGATGGTGGCGTTTTTGGGGACAGGTGTCCGTGTC\r\n",
      "GCGCGTCGCCTGGGCCGGCGGCGTGGTCGGTGACGCGACCTCCCGGCCCC\r\n",
      "GGGGGAGGTATATCTTTCGCTCCGAGTCGGCATTTTGGGCCGCCGGGTTA\r\n",
      "TATT\r\n"
     ]
    }
   ],
   "source": [
    "# NA19240 Upstream promoter of RNA45S\n",
    "# Inserted /ENDING/ at position 1,000,000\n",
    "cat rRNA_Promoter_refined.fa"
   ]
  },
  {
   "cell_type": "code",
   "execution_count": 4,
   "metadata": {
    "collapsed": false
   },
   "outputs": [
    {
     "name": "stdout",
     "output_type": "stream",
     "text": [
      "58e6df397fee0615ff081e091ccddd26  hgr0_draft2.fa\r\n"
     ]
    }
   ],
   "source": [
    "## These were manually put together into\n",
    "## hgr0_draft2.fa\n",
    "#cat hgr0_draft2.fa\n",
    "md5sum hgr0_draft2.fa"
   ]
  },
  {
   "cell_type": "markdown",
   "metadata": {},
   "source": [
    "One issue in the alignments of the 5S repeat is a simple-sequence repeat of (TC)n and (TG)n between r5s:1797-2038.\n",
    "\n",
    "For this initial run, this will be masked to 'N's. I see the irony of masking a repeat when studying a region which was masked as a repeat for years.\n"
   ]
  },
  {
   "cell_type": "code",
   "execution_count": 3,
   "metadata": {
    "collapsed": false
   },
   "outputs": [
    {
     "name": "stdout",
     "output_type": "stream",
     "text": [
      ">r5s_nAlu\r\n",
      "NNNNNNNNNNNNNNNNNNNNNNNNNNNNNNNNNNNNNNNNNNNNNNNNNN\r\n",
      "NNNNNNNNNNNNNNNNNNNNNNNNNNNNNNNNNNNNNNNNNNNNNNNNNN\r\n",
      "NNNNNNNNNNNNNNNNNNNNNNNNNNNNNNNNNNNNNNNNNNNNNNNNNN\r\n",
      "NNNNNNNNNNNNNNNNNNNNNNNNNNNNNNNNNNNNNNNNNNNNNNNNNN\r\n",
      "gtgggccctgggccctgacgcctcggagcactccctgctccgagcgggcc\r\n",
      "cgatgtggtggaagctcgggagcgcgggagccgggggaaggccgcgggcc\r\n",
      "agcggctcgggggtccccgatccgagccccgcggccccgggctggcggtg\r\n",
      "tcggctgcaatccggcgggcacggccgggccgggctgggctcttggggca\r\n",
      "gccaggcgcctccttcagcGTCTACGGCCATACCACCCTGAACGCGCCCG\r\n",
      "ATCTCGTCTGATCTCGGAAGCTAAGCAGGGTCGGGCCTGGTTAGTACTTG\r\n",
      "GATGGGAGACCGCCTGGGAATACCGGGTGCTGTAGGCTTTttctttggct\r\n",
      "ttttgctgtttctttccttttcttccNNNNNNNNNNNNNNNNNNNNNNNN\r\n",
      "NNNNNNNNNNNNNNNNNNNNNNNNNNNNNNNNNNNNNNNNNNNNNNNNNN\r\n",
      "NNNNNNNNNNNNNNNNNNNNNNNNNNNNNNNNNNNNNNNNNNNNNNNNNN\r\n",
      "NNNNNNNNNNNNNNNNNNNNNNNNNNNNNNNNNNNNNNNNNNNNNNNNNN\r\n",
      "NNNNNNNNNNNNNNNNNNNNNNNNNNNNNNNNNNNNNNNNNNNNNNNNNN\r\n",
      "NNNNNNNNNNNNNNNNNNNNNNNNNNNNNNNNNNNNNNNNNNNNNNNNNN\r\n",
      "ccgcccggcctgctgtaggcttttgtggcttccccgctgcctcccttccc\r\n",
      "cccacagtcgccatgcttcccaacctcccctgactctgctccccctttac\r\n",
      "cgcccacctacacccccgccgcagccgcagccggggtcctcctgctgggg\r\n",
      "gtccgcccctactgcacgccggccgggcagcagcatcccaccgcttccgc\r\n",
      "ctcgccgccgccccgccaggagcccggctccagcctgggagggcaggggg\r\n",
      "ccggaccccaaaggcgcagccgctgggttccctgccgttcgcggtgcctt\r\n",
      "cccgctcccggaacgcccaggcgattcaattcacccatcgggcgccgtcg\r\n",
      "tcgcacccttccaaaccgggggaaggggcgggcaggggcagcgggtgcca\r\n",
      "cagacgccagccaagacgtcggctccggaacgcatgggctgctttacccg\r\n",
      "ggggaaggacattgcttcgccagccaccgggaaaacaggccctgtgcacc\r\n",
      "cgggattcccaatgccccccgcttcgtgtcgacgactccagtcccgagga\r\n",
      "ctcgccagagacccaggcctccgggcccgcccggtgccacggctcccgcc\r\n",
      "aaacgggcgggcgcgctctgcaaatctcggggcccgccgcaaggcaccca\r\n",
      "gagcacagggaggtgccaagaaaggcaggagcctacgaaacccacctcca\r\n",
      "aagcaagcaattcatccaagaaaacgcccgcctcagcgctccgttggtcc\r\n",
      "tctcgcacggaccgcctggcccccgtgttctgggcgcagcccaagccccc\r\n",
      "tccaccctatcccggcctgctcaagagggcgctgcctaacggagccgggc\r\n",
      "gcttcctctctaaggctctatcgctctcgctctctagctccctccgcctc\r\n",
      "tctcttctgggtttccccctggacctcgcgctacttttgtcgNNNNNNNN\r\n",
      "NNNNNNNNNNNNNNNNNNNNNNNNNNNNNNNNNNNNNNNNNNNNNNNNNN\r\n",
      "NNNNNNNNNNNNNNNNNNNNNNNNNNNNNNNNNNNNNNNNNNNNNNNNNN\r\n",
      "NNNNNNNNNNNNNNNNNNNNNNNNNNNNNNNNNNNNNNNNNNNNNNNNNN\r\n",
      "NNNNNNNNNNNNNNNNNNNNNNNNNNNNNNNNNNNNNNNNNNNNNNNNNN\r\n",
      "NNNNNNNNNNNNNNNNNNNNNNNNNNNNNNNNNNNNNNNNNNNNNNNNNN\r\n",
      "NNNNNNNNNNNNNNNNNNNNNNNNNNNNNNNNNNNNNNNNNNNNNNctcc\r\n",
      "tggtggcggtggggtgtgtctgggtttctctcaggccctctcacccgaga\r\n",
      "tcaggccgccgcctctagtgccagcccggggcaaaacagggccacccccc\r\n",
      "gacccgctacaccccacgccctcttgcccccccggccgggtcttggtcgg\r\n",
      "gacaagcgaccgtggtgggggcgttgtgagagaaaggccccgcgcggctg\r\n",
      "ggccggctgttcgccttcggccagccctgacggctctgggtgggtggggc\r\n",
      "aagagggggcctcgcaggagcccctgtgcggcgagggatccaaaacgctg\r\n",
      "cctccgcgacagggcggaggaccggagggcgtcccaggatcNNNNNNNNN\r\n",
      "NNNNNNNNNNNNNNNNNNNNNNNNNNNNNNNNNNNNNNNNNNNNNNNNNN\r\n",
      "NNNNNNNNNNNNNNNNNNNNNNNNNNNNNNNNNNNNNNNNNNNNNNNNNN\r\n",
      "NNNNNNNNNNNNNNNNNNNNNNNNNNNNNNNNNNNNNNNNNNNNNNNNNN\r\n",
      "NNNNNNNNNNNNNNNNNNNNNNNNNNNNNNNNNNNNNNNNNNNNNNNNNN\r\n"
     ]
    }
   ],
   "source": [
    "## simple repeat masked 5s\n",
    "cat 5s_nAlu_nSR.fa"
   ]
  },
  {
   "cell_type": "markdown",
   "metadata": {},
   "source": [
    "## Results\n",
    "\n",
    "Putting all of this together; hgr0 draft rDNA reference for alignment is below:"
   ]
  },
  {
   "cell_type": "code",
   "execution_count": 5,
   "metadata": {
    "collapsed": false
   },
   "outputs": [
    {
     "name": "stdout",
     "output_type": "stream",
     "text": [
      "4e5964cf2d536b7bad1f400d18e75993  hgr0_draft3.fa\r\n"
     ]
    }
   ],
   "source": [
    "#cat hgr0_draft3.fa\n",
    "md5sum hgr0_draft3.fa"
   ]
  },
  {
   "cell_type": "markdown",
   "metadata": {},
   "source": [
    "### Corrections (for hgr0)\n",
    "\n",
    "There is an extra 'AT' at 999,995 and 999,996. Line 20,006 changed.\n",
    "\n",
    "Line 20,017\n",
    "`AACGGGACCGTCCTTCTCGCTCCGCCCCGCTGGGGTCCCCTCGTCTCTCC` changed to\n",
    "`AACGGGACCGTCCTTCTCGCTCCGCCCCGCGGGGGTCCCCTCGTCTCTCC`\n",
    "\n",
    "Line 20,076\n",
    "`TCCGGTTCGCCGCGCCCCGCCCCGGCCCCACCTGTCCCGGCCGCCGCCCC` changed to\n",
    "`TCCGGTTCGCCGCGCCCCGCCCCGGCCCCACCGGTCCCGGCCGCCGCCCC`\n",
    "\n",
    "Line 20,153, single C insertion. (post 5.8S, pre-28S)\n",
    "`GCGTCCCGGTCGCCGCGGTTCCGCCGCCCGCCCCCGGTGGCGGCCCGGCG` changed to\n",
    "`GCGTCCCGGTCGCCGCGGTTCGCCGCCCGCCCCCGGTGGCGGCCCGGCG`\n",
    "(also have to change all subsequent lines in hgr0_draft4, but do this last.\n",
    "\n",
    "line 20,246, single C insertion.\n",
    "`GGCGGGGTCCGCCGGCCCTGCGGGCCGCCCGGTGAAATACCACTACTCTG` changed to\n",
    "`GGCGGGGTCCGCCGGCCCTGCGGGCCGCCCGGTGAAATACCACTACTCTG`\n",
    "\n",
    "#### Post 18S, AG simple repeat.\n",
    "\n",
    "There is an (AG)n simple repeat after 18S, lots of reads map here so to simplify alignments and variant analysis mask this to 'N's for hgr0\n",
    "```\n",
    "CGTTCGTTCGCCGCCCGGCCCCGCCGCCGCGAGAGCCGAGAACTCGGGAG\n",
    "GGAGACGGGGGGGAGAGAGAGAGAGAGAGAGAGAGAGAGAGAGAGAGAGA\n",
    "GAGAAAGAAGGGCGTGTCGTTGGTGTGCGCGTGTCGTGGGGCCGGCGGGC\n",
    "```\n",
    "changed to\n",
    "```\n",
    "CGTTCGTTCGCCGCCCGGCCCCGCCGCCGCGAGAGCCGAGAACTCGGGAG\n",
    "GGAGACGGGGGGGAGNNNNNNNNNNNNNNNNNNNNNNNNNNNNNNNNNNN\n",
    "NNNAAAGAAGGGCGTGTCGTTGGTGTGCGCGTGTCGTGGGGCCGGCGGGC\n",
    "```\n",
    "\n",
    "\n",
    "### Inspecting Draft 4 of hgr0\n",
    "\n",
    "Re-aligning the test files form NA19240 and manually going over the alignments I'm confident that hgr0_draft4.fa represents a good 'consensus' model for RNA45S / 5S. This can be used as starting point for analysis."
   ]
  },
  {
   "cell_type": "code",
   "execution_count": 6,
   "metadata": {
    "collapsed": false
   },
   "outputs": [
    {
     "name": "stdout",
     "output_type": "stream",
     "text": [
      "a4186427240b5491c7bc9eb2b2b4219e  hgr0_draft4.fa\r\n"
     ]
    }
   ],
   "source": [
    "#draft4\n",
    "md5sum hgr0_draft4.fa"
   ]
  },
  {
   "cell_type": "markdown",
   "metadata": {},
   "source": [
    "### Bed file (draft 3 coords). Zero-based\n",
    "```\n",
    "chr13\t10220\t10340\t5S\tcctccttcagc|GTCTACGGCCA\tTGTAGGCTTT|ttctttggctttt\n",
    "chr13\t1000000\t1013400\t45S gggttataatt|GCTGACACGCT\t[Note should read gggttatt|GCTG...]\tGGGTCGACCAGC|agaccgcgggtgg\n",
    "chr13\t1003653\t1005522\t18S tctaccttacc|TACCTGGTTGAT TGCGGAAGGATCATTA|acggagcccggaggg\n",
    "chr13\t1006615\t1006772\t5.8S cgacctgcgta|CGACTCTTAGCGG TGTCTGAGCGTCGCTT|gccgatcaatcgc\n",
    "chr13\t1007940\t1013009\t28S gtccccctccgaga|CGCGACCTCA CACAAGGGTTTGTC|cgcgcgcgcgtgc\n",
    "```\n",
    "\n",
    "### Bed file (draft 4 coords)\n",
    "\n",
    "```\n",
    "chr13\t10219\t10340\t5S\n",
    "chr13\t1000000\t1013398\t45S\n",
    "chr13\t1003653\t1005522\t18S\n",
    "chr13\t1006615\t1006772\t5.8S\n",
    "chr13\t1007939\t1013007\t28S\n",
    "```"
   ]
  },
  {
   "cell_type": "markdown",
   "metadata": {},
   "source": [
    "### Clean-up and Renaming\n",
    "\n",
    "Moved the plethora of sequences into draft_sequences. In the folder `testAlign` the bam files and assocaited bowtie2-build files from `testAlign/runcmd.sh` were deleted; just the hgr0_draft4 alignment is kept.\n",
    "\n",
    "\n",
    "`hgr0_draft4.fa` --> `hr0.fa`\n",
    "\n",
    "Initaialized and copied to `~/Crown/resources/hgr0`\n",
    "\n",
    "\n",
    "Made a GATK-compatible reference, `hgr0.gatk.fa` with no empty chromosomes.\n"
   ]
  },
  {
   "cell_type": "code",
   "execution_count": null,
   "metadata": {
    "collapsed": true
   },
   "outputs": [],
   "source": [
    "# Command to set-up reference\n",
    "cd ~/Crown/resources/\n",
    "\n",
    "samtools faidx hgr0.fa\n",
    "\n",
    "bowtie2-build hgr0.fa hgr0\n",
    "\n",
    "picard CreateSequenceDictionary R=hgr0.gatk.fa O=hgr.gatk.dict\n"
   ]
  },
  {
   "cell_type": "code",
   "execution_count": 1,
   "metadata": {
    "collapsed": false
   },
   "outputs": [
    {
     "name": "stdout",
     "output_type": "stream",
     "text": [
      "total 11M\r\n",
      "drwxrwxr-x 2 artem artem  4.0K Feb 20 20:10 .\r\n",
      "drwxrwxr-x 9 artem artem  4.0K Feb 20 19:24 ..\r\n",
      "-rw-rw-r-- 1 artem artem  4.1M Feb 20 19:36 hgr0.1.bt2\r\n",
      "-rw-rw-r-- 1 artem artem  4.0K Feb 20 19:36 hgr0.2.bt2\r\n",
      "-rw-rw-r-- 1 artem artem    71 Feb 20 19:36 hgr0.3.bt2\r\n",
      "-rw-rw-r-- 1 artem artem  4.0K Feb 20 19:36 hgr0.4.bt2\r\n",
      "-rw-rw-r-- 1 artem artem  1.1M Feb 18 14:05 hgr0.fa\r\n",
      "-rw-rw-r-- 1 artem artem   16K Feb 20 18:10 hgr0.fa.fai\r\n",
      "-rw-rw-r-- 1 artem artem 1020K Feb 20 20:09 hgr0.gatk.fa\r\n",
      "-rw-rw-r-- 1 artem artem  4.1M Feb 20 19:36 hgr0.rev.1.bt2\r\n",
      "-rw-rw-r-- 1 artem artem  4.0K Feb 20 19:36 hgr0.rev.2.bt2\r\n",
      "-rw-rw-r-- 1 artem artem   137 Feb 20 20:10 hgr.gatk.dict\r\n",
      "-rw-rw-r-- 1 artem artem   126 Feb 20 18:10 rRNA.bed\r\n"
     ]
    }
   ],
   "source": [
    "# list resources\n",
    "cd ~/Crown/resources/hgr0\n",
    "\n",
    "ls -alh"
   ]
  },
  {
   "cell_type": "markdown",
   "metadata": {},
   "source": [
    "## Discussion\n",
    "\n",
    "This sequence `hgr0` is now the first, refined prototype of the RNA45S and 5S-repeat for variant analysis. Simple repeat sequences were removed to speed up alignment and reduce file-sizes and increases processivity of a larger analysis.\n",
    "\n",
    "A sequence exactly as represented in `hgr0` may not exist in NA19240, there are many variants even within this single genome and there is no long-distance phasing information from the Illumina sequencing which means this is OK for alignment / variant detection, but further investigation is needed to reproduce what variant 45S molecules may look like.\n",
    "\n",
    "As of `hgr0` there is no alternative haplotypes for aligning. This may pose a problem for local regions of high variation where known alternative haplotype will have difficulty with alignment.\n",
    "\n",
    "For now I accept this limitation of `hgr0`, I have partial haplotypes re-built in previous notebooks, with `hgr1` the main focus will be on assembling known haplotypes and including a way of aligning to all the haplotypes simultaniously. This is a second-iteration analysis, now just align to many genomes!"
   ]
  },
  {
   "cell_type": "code",
   "execution_count": null,
   "metadata": {
    "collapsed": true
   },
   "outputs": [],
   "source": [
    "QED"
   ]
  },
  {
   "cell_type": "markdown",
   "metadata": {},
   "source": [
    "## Addendum - 170221. rDNA sequence description\n",
    "\n",
    "The secondary sequence descriptions are very helpful when interpreting rDNA variation. Re-make them for hgr0.\n",
    "\n",
    "- GC-content\n",
    "- Evolutionary Conservation\n",
    "- Shannon Entropy\n",
    "- Domain descriptions\n",
    "- Protein Contact Points\n",
    "- rRNA base-pairing\n",
    "- Sequence annotations\n",
    "\n"
   ]
  },
  {
   "cell_type": "markdown",
   "metadata": {},
   "source": [
    "### GC Content"
   ]
  },
  {
   "cell_type": "code",
   "execution_count": 5,
   "metadata": {
    "collapsed": false
   },
   "outputs": [
    {
     "name": "stdout",
     "output_type": "stream",
     "text": []
    }
   ],
   "source": [
    "CROWN='/home/artem/Crown'\n",
    "cd ~/Crown/data/rDNA_stats/hgr0/\n",
    "\n",
    "cp ~/Crown/resources/hgr0/hgr0.fa ./\n",
    "cp ~/Crown/resources/hgr0/rRNA.bed ./\n",
    "\n",
    "# cat rRNA_gc.bed\n",
    "  #5s_gc.bed\n",
    "  #chr13\t9800\t13000\t5S\n",
    "  #45s_gc.bed\n",
    "  #chr13\t998000\t1014000\t45S"
   ]
  },
  {
   "cell_type": "code",
   "execution_count": 14,
   "metadata": {
    "collapsed": false
   },
   "outputs": [
    {
     "name": "stdout",
     "output_type": "stream",
     "text": []
    }
   ],
   "source": [
    "#!/bin/bash\n",
    "# gcContent Calculator\n",
    "# for rDNA\n",
    "#\n",
    "# Calculated gc of rDNA for 30,50,75 bp windows\n",
    "\n",
    "# index =\n",
    "# chr13\t1023550\n",
    "\n",
    "WINDOW='70'\n",
    "SLIDE='1'\n",
    "NAME=\"gc.w$WINDOW\"\n",
    "\n",
    "#bedtools makewindows -g hgr0.fa.idx -w $WINDOW -s $SLIDE > $NAME.bed\n",
    "#bedtools makewindows -b rRNA_gc.bed -w $WINDOW -s $SLIDE > $NAME.bed\n",
    "\n",
    "bedtools makewindows -b 5s_gc.bed -w $WINDOW -s $SLIDE > 5s.bed\n",
    "bedtools makewindows -b 45s_gc.bed -w $WINDOW -s $SLIDE > 45s.bed\n",
    "\n",
    "\n",
    "# make start=1,000,000 + (0.5 * $WINDOW)\n",
    "echo \"fixedStep chrom=chr13 start=9835 step=$SLIDE\" > $NAME.wig\n",
    "bedtools nuc -fi hgr0.fa -bed 5s.bed | cut -f 5 - | sed 1d - >> $NAME.wig\n",
    "\n",
    "echo \"fixedStep chrom=chr13 start=998035 step=$SLIDE\" >> $NAME.wig\n",
    "bedtools nuc -fi hgr0.fa -bed 45s.bed | cut -f 5 - | sed 1d - >> $NAME.wig\n",
    "\n",
    "rm 5s.bed 45s.bed"
   ]
  }
 ],
 "metadata": {
  "kernelspec": {
   "display_name": "Bash",
   "language": "bash",
   "name": "bash"
  },
  "language_info": {
   "codemirror_mode": "shell",
   "file_extension": ".sh",
   "mimetype": "text/x-sh",
   "name": "bash"
  }
 },
 "nbformat": 4,
 "nbformat_minor": 0
}
