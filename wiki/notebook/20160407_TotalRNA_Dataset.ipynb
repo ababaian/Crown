{
 "cells": [
  {
   "cell_type": "markdown",
   "metadata": {},
   "source": [
    "# TotalRNA Datasets\n",
    "```\n",
    "pi:ababaian\n",
    "start: 2016 04 07\n",
    "complete : 2016 12 29\n",
    "```\n",
    "\n",
    "## Introduction\n",
    "Ribosomal RNA (rRNA) makes up about 80-95% of all the ribonucleic acids in a cell. Almonst no-one who does RNA-sequencing cares about rRNA so these species of RNA are systematically depleted from pretty much every modern experiment.\n",
    "\n",
    "There are two main methods in which rRNA is depleted\n",
    "1. PolyA+ Selection: in which mRNA are 'captured' using primers for the the poly-A section of messenger RNA\n",
    "    \n",
    "2. rRNA Depletion: probes targetting rRNA are hybridized and deplete those species and the \"left-over\" RNA are sequenced.\n",
    "\n",
    "Both of these methods will essentially skew the rRNA in a sample before it goes on a sequencer so to accurately measure rRNA variation neither of them could be done.\n",
    "\n",
    "##### Hypothesis / Idea\n",
    "- RNA-seq of total, non-rRNA depleted, non-PolyA selected RNA will yeild a high concentration of rRNA sequences which can be used for variant analysis\n",
    "- PolyA Selection may allow for \"fair/quantitative\" rRNA variation detection since rRNA \"carried over\" will not be biased by sequence\n",
    "- rRNA Depletion protocols will deplete *wildtype/consensus* rRNA but may allow for non-quantitative detection of rRNA variants \n",
    "\n",
    "So right away there are a few very key questions to ask. There's petabytes of RNAseq data available, but how much (or which kinds) can be used to study rRNA variation. Maybe it's neither, maybe even total RNA and what we assume to be the 80-95% rRNA isn't all really  rRNA which functions in ribosomes. I'll start to grapple this problem.\n"
   ]
  },
  {
   "cell_type": "markdown",
   "metadata": {
    "collapsed": true
   },
   "source": [
    "## Objectives\n",
    "- #### Acquire Total RNA-seq datasets"
   ]
  },
  {
   "cell_type": "markdown",
   "metadata": {},
   "source": [
    "## Methods\n",
    "#### Review Previous Notebook\n",
    "One of the  original places I looked previously was the ENCODE project. I had thought I found a K562 Total RNA data set (ENCODE accession: [wgEncodeEH000142](http://hgdownload.cse.ucsc.edu/goldenPath/hg19/encodeDCC/wgEncodeCshlLongRnaSeq/wgEncodeCshlLongRnaSeqK562CellTo))\n",
    "but after reviewing the protocols online this may not be true. I have some suspicion that at one point this was done without rRNA depletion but the current version is in fact rRNA-depleted and not suitable.\n",
    "\n",
    "#### Literature\n",
    "- [Comparative analysis of RNA sequencing methods for degraded or low-input samples. Adiconis et al., 2013](http://www.ncbi.nlm.nih.gov/pubmed/23685885)\n",
    "\n",
    "This Is pretty much the *motherload* of a study. There's a direct comparison of different RNA sequencing methods including a 'control' of no rRNA depletion or polyA selection. Those controls will be 80%+ rRNA.\n"
   ]
  },
  {
   "cell_type": "markdown",
   "metadata": {},
   "source": [
    "## Results\n",
    "\n",
    "#### Adiconis Data-set\n",
    "dir: `~/Crown/data/adaconis`\n",
    "\n",
    "Technical Replicates\n",
    "\n",
    "Accession: SRR567450\n",
    "Reads: 11.9M spots, 76 bp paired-end Illumina HiSeq2000\n",
    "Sample: K562 cell cDNA. 1000 ng fragmented RNA input. (GEO:GSM999534)\n",
    "\n",
    "Accession: SRR567450\n",
    "Reads: 10.9M spots, 76 bp paired-end Illumina HiSeq2000\n",
    "Sample: K562 cell cDNA. 1000 ng fragmented RNA input. (GEO:GSM999534)\n"
   ]
  },
  {
   "cell_type": "code",
   "execution_count": null,
   "metadata": {
    "collapsed": true
   },
   "outputs": [],
   "source": [
    "# Download Adiconis Data Set\n",
    "# using sratoolkit from NCBI\n",
    "sudo ./fastq-dump.2.5.7 --split-files -gzip SRR567450\n",
    "sudo ./fastq-dump.2.5.7 --split-files -gzip SRR567451\n"
   ]
  },
  {
   "cell_type": "markdown",
   "metadata": {},
   "source": [
    "- Moved data to to `~/Crown/data/adaconis`\n",
    "\n",
    "- Added \"data/adaconis/*\" to .gitignore\n",
    "\n",
    "#### Re-acquired 2016 04 18\n",
    "\n",
    "Used same commands\n"
   ]
  },
  {
   "cell_type": "markdown",
   "metadata": {},
   "source": [
    "## Conclusions\n",
    "#### 2016-04-14\n",
    "This will be a good data set to play around with for a few alignments and see what kind of variation I can expect from rRNA\n",
    "\n",
    "#### 2016-12-29\n",
    "Closing notes: This little experiment was done a long time ago, just going back and closing all the dates throughout my notebook.\n",
    "This dataset is still being used to 'confirm' what rRNA sequencing looks like and test aligners and such."
   ]
  }
 ],
 "metadata": {
  "kernelspec": {
   "display_name": "Bash",
   "language": "bash",
   "name": "bash"
  },
  "language_info": {
   "codemirror_mode": "shell",
   "file_extension": ".sh",
   "mimetype": "text/x-sh",
   "name": "bash"
  }
 },
 "nbformat": 4,
 "nbformat_minor": 0
}
