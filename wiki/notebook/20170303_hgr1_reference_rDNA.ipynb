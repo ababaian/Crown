{
 "cells": [
  {
   "cell_type": "markdown",
   "metadata": {},
   "source": [
    "# hgr1 Reference rDNA\n",
    "```\n",
    "pi:ababaian\n",
    "files: ~/Crown/data/hgr1/\n",
    "start: 2017 03 03\n",
    "complete : 2017 03 04\n",
    "```\n",
    "## Introduction\n",
    "\n",
    "As I was preparing the larger array of libraries from 1000 genomes data I re-read the [data use policy](http://www.internationalgenome.org/IGSR_disclaimer). The site hosts both the 1000 genomes project data which is freely available and the Human Genome Structural Variation Consortium (HGSVC) data, which is currently under embargo. This includes the NA19240 data [I used to make](./20170213_hgr0_reference_rDNA.ipynb) `hgr0` which sucks. This is something I need to check in the future but regardless, there is lots of available data which can be freely used: Genome in a Bottle and Illumina Platinum Pedigree are two such projects with open data.\n",
    "\n",
    "Anyways, I guess the gentleman thing to do here is use public data and restart. As such the index genome will now be utah `NA12878`, I'll be using the [Illumina platinum pedigree](http://dx.doi.org/10.1101/gr.210500.116) data which is WGS pcr-free at 50x for the trio.\n",
    "\n",
    "I know what exactly I have to do this time though so it should be faster. I'll have to remake the rDNA stats though `-_-\n",
    "\n"
   ]
  },
  {
   "cell_type": "markdown",
   "metadata": {
    "collapsed": true
   },
   "source": [
    "## Objective\n",
    "\n",
    "Define a reference 'rDNA' based on NA12878 for use in initial series of alignment experiments.\n"
   ]
  },
  {
   "cell_type": "markdown",
   "metadata": {},
   "source": [
    "## Materials and Methods\n",
    "\n",
    "Schematic of hgr1 reference rDNA\n",
    "``` \n",
    "                         1M                                          +43 kb\n",
    "hgr       ----------------|              U13369.1                     |---------\n",
    "                          ( RNA45S )                                ( )promoter\n",
    "\n",
    "\n",
    "\n",
    "              10k     -1kb 1M          13.5 kb\n",
    "hgr0       ---| 5s |--|prom|    RNA45S |-----------------------------------------\n",
    "```\n",
    "\n",
    "### Reference Sequences\n",
    "\n",
    "- The 5S and promoter sequence was directly taken from hgr0.\n",
    "- `hgr.fa` reference sequence, Accesion: U13369.1 \n",
    "\n",
    "### Index Data\n",
    "\n",
    "- High Coverage WGS. 1kg\n",
    "- This was part of hgr_pilot and is already done.\n",
    "\n",
    "``` NA12878 NA12878\tSRR622457\tCEU\tftp://ftp.sra.ebi.ac.uk/vol1/fastq/SRR622/SRR622457/SRR622457_1.fastq.gz\tftp://ftp.sra.ebi.ac.uk/vol1/fastq/SRR622/SRR622457/SRR622457_2.fastq.gz\n",
    "```\n",
    "\n",
    "- WGS, PCR-free. Illumina Platinum\n",
    "- https://www.illumina.com/platinumgenomes.html\n",
    "\n",
    "```NA12878_pp\tNA12878\tERR194147\tCEU\tftp://ftp.sra.ebi.ac.uk/vol1/fastq/ERR194/ERR194147/ERR194147_1.fastq.gz\tftp://ftp.sra.ebi.ac.uk/vol1/fastq/ERR194/ERR194147/ERR194147_2.fastq.gz\n",
    "\n",
    "NA12891_pp\tNA12891\tERR194160\tCEU\tftp://ftp.sra.ebi.ac.uk/vol1/fastq/ERR194/ERR194160/ERR194160_1.fastq.gz\tftp://ftp.sra.ebi.ac.uk/vol1/fastq/ERR194/ERR194160/ERR194160_2.fastq.gz\n",
    "\n",
    "NA12892_pp\tNA12892\tERR194161\tCEU\tftp://ftp.sra.ebi.ac.uk/vol1/fastq/ERR194/ERR194161/ERR194161_1.fastq.gz\tftp://ftp.sra.ebi.ac.uk/vol1/fastq/ERR194/ERR194161/ERR194161_2.fastq.gz\n",
    "```\n",
    "\n",
    "#### CEPH 1463 Pedigree\n",
    "This is actually pretty cool because there is sequencing for the extended pedigree. Should include these data in analysis.\n",
    "\n",
    "![NA12878 Pedigree. CEPH 1463](../figure/20170304_na12878_pedigree.png)\n",
    "From: [Illumina platinum pedigree](http://dx.doi.org/10.1101/gr.210500.116) NA128**\n"
   ]
  },
  {
   "cell_type": "markdown",
   "metadata": {},
   "source": [
    "### Drafting hgr1\n",
    "\n",
    "#### Draft 1\n",
    "\n",
    "Starting with hgr.fa sequence. `NA12878_pcr` was used as the initial index and fasta sequence was edited to match the consensus from the aligned reads.\n",
    "\n",
    "Note: This dataset `SRR622457` isn't really PCR-free, there is substantial GC-bias which makes certain regions difficult to interpret. Coverage drops from ~10,000x to ~100x and the error rate appears to be higher. This is an older illumina sequencing set but large regions of the reference could still be corrected.\n",
    "\n",
    "Output sequence: `hgr1_d1.fa`.\n",
    "\n",
    "Perform realignment in `~/Crown/data/hgr1/d1/`\n",
    "\n",
    "\n",
    "#### Re-alignment\n",
    "\n",
    "Extract the aligned reads for re-alignment\n",
    "```\n",
    "samtools sort -n NA12878_pcr.45s.bam -o nsort.bam \n",
    "bam2fastx -q -NAQP -o na12878_reads.fq nsort.bam   \n",
    "```\n",
    "\n",
    "Prepare draft reference sequence. 1) Remove all fasta headers manually from file. 2) Refold the file to standard width. Add-back `>chr13` header. 3) Index genome\n",
    "```\n",
    "cat hgr1_draft_1.fa | tr '\\n' ' ' | sed 's/ //g' - | fold -w 50 > hgr1_draft1_w50.fa\n",
    "samtools faidx hgr1_draft1_w50.fa  \n",
    "\n",
    "samtools faidx hgr1_draft1_w50.fa    \n",
    "bowtie2-build hgr1_draft1_w50.fa hgr1_d1  \n",
    "```\n",
    "\n",
    "Re-align reads to the draft reference sequence to look for errors/improved consensus\n",
    "```\n",
    "bowtie2 --very-sensitive-local -x hgr1_d1 -1 na12878_reads.1.fq -2 na12878_reads.2.fq | samtools view -bS - > re_aligned_unsorted.bam\n",
    "\n",
    "samtools sort re_aligned_unsorted.bam -o re_aligned.bam\n",
    "samtools index re_aligned.bam\n",
    "```\n",
    "\n",
    "#### Draft 2\n",
    "\n",
    "Perform the same steps as in Draft 1. Plat. genomes will be re-aligned to draft 2 for further refinement, especially over GC-rich regions.\n",
    "\n",
    "The na12878_pp.bam genome was completed successfully (see below). This was used as a secondary reference sequence to refine the sequence to draft 3.\n",
    "\n",
    "#### Draft 3 CG\n",
    "\n",
    "Testing adding 150 'C' and 150 'G' reads to the begining of the file. This seems to be a common source of error in some regions; a region which is CG rich gets reads which are polyC or polyG alignign over them and skewing results. Possibly adding a polyC - polyG sequence will hybridize against it.\n",
    "\n",
    "```\n",
    "bowtie2 --very-sensitive-local -x hgr1_d3cg -1 na12878_pp.1.fq -2 na12878_pp.2.fq | samtools view -bS - > re_aligned_unsorted_cg.bam\n",
    "\n",
    "samtools sort re_aligned_unsorted_cg.bam -o na12878_pp_d3cg.bam\n",
    "samtools index na12878_pp_d3cg.bam\n",
    "```\n",
    "\n",
    "For Draft 4 / hgr1, there were a couple of SNV changes made. otherise it's done!\n"
   ]
  },
  {
   "cell_type": "code",
   "execution_count": 1,
   "metadata": {
    "collapsed": false
   },
   "outputs": [
    {
     "name": "stdout",
     "output_type": "stream",
     "text": [
      "498146050141bfdcaa039844c1edd74a  hgr1.fa\r\n",
      "1334c8cb69101aefab6242bf0387d01c  hgr1_d4.fa\r\n"
     ]
    }
   ],
   "source": [
    "cd ~/Crown/data/hgr1/\n",
    "\n",
    "md5sum hgr1.fa # with other chromosomes (empty)\n",
    "md5sum hgr1_d4.fa # without other chromosomes ( = gatk version)"
   ]
  },
  {
   "cell_type": "markdown",
   "metadata": {},
   "source": [
    "### PP genome alignments\n",
    "\n",
    "Since `SRR622457` isn't neccesarily the best quality; re-align the platinum genomes to hgr.fa to allow for better drafting.\n",
    "\n",
    "I've also re-worked the pipeline script: `1kg_align_v0.sh` to bypass some very time-expensive alignment steps. There isn't really a need for whole (100G+) bam files to be aligned when I'm interested in a subset of them. Bypassing this substantially reduces time and memory requirements.\n",
    "\n",
    "- Running NA12878 and NA12891 on ec2 against hgr for use in drafting. Will keep instances operational and fastq files on them to allow for rapid  re-alignment to hgr1.fa once it's made. =D\n",
    "\n",
    "`1kgpilot_2.sh`"
   ]
  },
  {
   "cell_type": "code",
   "execution_count": null,
   "metadata": {
    "collapsed": true
   },
   "outputs": [],
   "source": [
    "#!/bin/bash\n",
    "# 1kgpilot_2\n",
    "# DNS: ec2-52-34-12-139.us-west-2.compute.amazonaws.com\n",
    "# AMI: crown-170220 - ami-66129306\n",
    "# EC2: c4.2xlarge (8cpu / 15 gb)\n",
    "# Storage: 1000 Gb\n",
    "# Start: \n",
    "# Alignment done: \n",
    "# Align.subset done: \n",
    "# End:\n",
    "#\n",
    "# CMD:\n",
    "# ec2-52-34-12-139.us-west-2.compute.amazonaws.com\n",
    "# sh 1kgpilot_2.sh NA12878_pp NA12878 ERR194147 CEU ftp://ftp.sra.ebi.ac.uk/vol1/fastq/ERR194/ERR194147/ERR194147_1.fastq.gz ftp://ftp.sra.ebi.ac.uk/vol1/fastq/ERR194/ERR194147/ERR194147_2.fastq.gz\n",
    "\n",
    "# ec2-52-27-70-31.us-west-2.compute.amazonaws.com\n",
    "# sh 1kgpilot_2.sh NA12891_pp NA12891 ERR194160 CEU ftp://ftp.sra.ebi.ac.uk/vol1/fastq/ERR194/ERR194160/ERR194160_1.fastq.gz ftp://ftp.sra.ebi.ac.uk/vol1/fastq/ERR194/ERR194160/ERR194160_2.fastq.gz\n",
    "\n",
    "\n",
    "# Control Panel -------------------------------\n",
    "# CPU\n",
    "\tTHREADS='7'\n",
    "\n",
    "# Sequencing Data\n",
    "\tLIBRARY=$1 # Library/ File name\n",
    "\tFASTQ1=$5\n",
    "\tFASTQ2=$6\n",
    "\n",
    "    # File-names\n",
    "    FQ1=$(basename $FASTQ1)\n",
    "    FQ2=$(basename $FASTQ2)\n",
    "\n",
    "# Read Group Data\n",
    "\tRGSM=$2   # Sample. Patient Identifer\n",
    "\tRGID=$3 # Read Group ID. Accession Number\n",
    "\tRGLB=$LIBRARY # Library Name. Accession Number\n",
    "\tRGPL='ILLUMINA'  # Sequencing Platform.\n",
    "\tRGPO=$4 # Patient Population\n",
    "\t# Extract Sequencing Run Info\n",
    "\t#  RGPU=$(gzip -dc $FQ1 | head -n1 - | cut -f1 -d':' | cut -f2 -d' ')\n",
    "\n",
    "\n",
    "# Initialize wordir ---------------------------\n",
    "\n",
    "# Make working directory\n",
    "  mkdir -p align; cd align\n",
    "\n",
    "# Copy hgr genome and create bowtie2 index\n",
    "  cp ~/resources/hgr_45s.fa ./\n",
    "  samtools faidx hgr_45s.fa\n",
    "  \n",
    "  bowtie2-build hgr_45s.fa hgr\n",
    "  \n",
    "# Download Genome Sequencing Data\n",
    "  wget $FASTQ1\n",
    "  wget $FASTQ2\n",
    "\n",
    "    # Extract Sequencing Run Info\n",
    "    RGPU=$(gzip -dc $FQ1| head -n1 - | cut -f1 -d':' | cut -f2 -d' ')\n",
    "\n",
    "# Primary Alignment -------------------------\n",
    "\n",
    "# Bowtie2: align to genome\n",
    "\n",
    "bowtie2 --very-sensitive-local -p $THREADS --rg-id $RGID --rg LB:$RGLB --rg SM:$RGSM \\\n",
    "--rg PL:$RGPL --rg PU:$RGPU -x hgr -1 $FQ1 -2 $FQ2 | samtools view -bS - > aligned_unsorted.bam\n",
    "\n",
    "#rm $FQ1 $FQ2 # Remove fastq files to save space\n",
    "\n",
    "# Sort alignment file\n",
    "#  samtools sort -@ $THREADS aligned_unsorted.bam aligned\n",
    "#  samtools index aligned.bam\n",
    "#  rm aligned_unsorted.bam\n",
    "\n",
    "# Calcualte library flagstats\n",
    "  samtools flagstat aligned_unsorted.bam > aligned_unsorted.flagstat\n",
    "  \n",
    "# Read Subset ------------------------------\n",
    "# Extract mapped reads, and their unmapped pairs\n",
    "\n",
    "  # Extract Header\n",
    "  samtools view -H aligned_unsorted.bam > align.header.tmp\n",
    "\n",
    "  # Unmapped reads with mapped pairs\n",
    "  # Extract Mapped Reads\n",
    "  # and their unmapped pairs\n",
    "  samtools view -b -F 4 aligned_unsorted.bam > align.F4.bam #mapped\n",
    "  samtools view -b -f 4 -F 8 aligned_unsorted.bam > align.f4F8.bam #unmapped pairs\n",
    "  \n",
    "  # Extract just the 45S unit\n",
    "  #aws s3 cp s3://crownproject/resources/rDNA_45s.bed ./\n",
    "  #samtools view -b -L rDNA_45s.bed align.F4.bam > align.F4.45s.bam\n",
    "  \n",
    "  # What are the mapped readnames\n",
    "  samtools view align.F4.bam | cut -f1 - > read.names.tmp\n",
    "  \n",
    "  # Extract mapped reads\n",
    "  samtools view align.F4.bam | grep -Ff read.names.tmp - > align.F4.tmp.sam\n",
    "\n",
    "  \n",
    "  # Extract cases of read pairs mapped on edge of region of interest\n",
    "  # -------|======= R O I ======| ----------\n",
    "  # read:                  ====---====\n",
    "  samtools view align.F4.bam | grep -Ff read.names.tmp - > align.F4.tmp.sam\n",
    "\n",
    "  # Complete mapped reads list\n",
    "  #cut -f1 align.F4.tmp.sam > read.names.45s.long.tmp\n",
    "\n",
    "  # Extract unmapped reads with a mapped pair\n",
    "  samtools view align.f4F8.bam | grep -Ff read.names.tmp - > align.f4F8.tmp.sam\n",
    "\n",
    "  # Re-compile bam file\n",
    "  cat align.header.tmp align.F4.tmp.sam align.f4F8.tmp.sam | samtools view -bS - > align.hgr.tmp.bam\n",
    "    samtools sort align.hgr.tmp.bam align.hgr\n",
    "    samtools index align.hgr.bam\n",
    "    samtools flagstat align.hgr.bam > align.hgr.flagstat\n",
    "    \n",
    "  # Read Counts: align.hgr0.bam (NA19240_pcr)\n",
    "    # 651340 + 0 in total (QC-passed reads + QC-failed reads)\n",
    "    # 0 + 0 duplicates\n",
    "    # 614264 + 0 mapped (94.31%:-nan%)\n",
    "    # 651340 + 0 paired in sequencing\n",
    "    # 325670 + 0 read1\n",
    "    # 325670 + 0 read2\n",
    "    # 166576 + 0 properly paired (25.57%:-nan%)\n",
    "    # 577188 + 0 with itself and mate mapped\n",
    "    # 37076 + 0 singletons (5.69%:-nan%)\n",
    "    # 0 + 0 with mate mapped to a different chr\n",
    "    # 0 + 0 with mate mapped to a different chr (mapQ>=5)\n",
    "  \n",
    "  rm *tmp* align.F4.bam align.f4F8.bam # Clean-up\n",
    "\n",
    "# Rename the total Bam Files\n",
    "  mv aligned_unsorted.bam $LIBRARY.bam\n",
    "  mv aligned_unsorted.bam.bai $LIBRARY.bam.bai\n",
    "  mv aligned_unsorted.flagstat $LIBRARY.flagstat\n",
    "\n",
    "# Rename the hgr Bam files\n",
    "  mv align.hgr.bam $LIBRARY.hgr.bam\n",
    "  mv align.hgr.bam.bai $LIBRARY.hgr.bam.bai\n",
    "  mv align.hgr.flagstat $LIBRARY.hgr.flagstat\n",
    "  \n",
    "# Primary VCF ----------------------------\n",
    "\n",
    "# GATK variant calling over 45S region\n",
    "#  aws s3 cp s3://crownproject/resources/hgr.gatk.fa ./\n",
    "#  aws s3 cp s3://crownproject/resources/hgr.gatk.fa.fai ./\n",
    "#  aws s3 cp s3://crownproject/resources/hgr.gatk.dict ./\n",
    "  \n",
    "#  java -Xmx12G -jar /home/ubuntu/software/GenomeAnalysisTK.jar \\\n",
    "#  -R hgr.gatk.fa -T HaplotypeCaller \\\n",
    "#  -ploidy 2 --max_alternate_alleles 6 \\\n",
    "#  -I $LIBRARY.bam -o $LIBRARY.hgr.vcf\n",
    "   # Memory issues, restrict to 45S region only\n",
    "     # -ploidy 100, 50, 20 failed... do 2 and analyze 45S further\n",
    "     \n",
    "# Upload final output files to S3\n",
    " \n",
    "# Alignments (Full)\n",
    " #aws s3 cp $LIBRARY.bam s3://crownproject/1kg_hgr0/\n",
    " #aws s3 cp $LIBRARY.bam.bai s3://crownproject/1kg_hgr0/\n",
    " aws s3 cp $LIBRARY.flagstat s3://crownproject/1kg_pilot/\n",
    "\n",
    "# Alignments (Aligned)\n",
    "  aws s3 cp $LIBRARY.hgr.bam s3://crownproject/1kg_pilot/\n",
    "  aws s3 cp $LIBRARY.hgr.bam.bai s3://crownproject/1kg_pilot/\n",
    "  aws s3 cp $LIBRARY.hgr.flagstat s3://crownproject/1kg_pilot/\n",
    "\n",
    "# VCF\n",
    " aws s3 cp $LIBRARY.hgr.vcf s3://crownproject/1kg_pilot/\n",
    " aws s3 cp $LIBRARY.hgr.vcf.idx s3://crownproject/1kg_pilot/\n",
    " \n",
    "# Shutdown and Terminate instance\n",
    "EC2ID=$(ec2metadata --instance-id)\n",
    "#aws ec2 terminate-instances --instance-ids $EC2ID\n",
    "\n",
    "# Script complete"
   ]
  },
  {
   "cell_type": "markdown",
   "metadata": {},
   "source": [
    "#### Standard vs. PCR-free alignment comparison\n",
    "\n",
    "Standard Illumina\n",
    "![NA12878 Standard](../figure/20170304_na12878_pcr_18S.png)\n",
    "\n",
    "PCR-Free Platinum Genome\n",
    "![NA12878 Plat. Genome. PCR Free](../figure/20170304_na12878_pp_18S.png)"
   ]
  },
  {
   "cell_type": "markdown",
   "metadata": {},
   "source": [
    "### hgr1.fa Reference sequence\n",
    "\n",
    "Reference sequence complete using NA12878 as an index."
   ]
  },
  {
   "cell_type": "markdown",
   "metadata": {},
   "source": []
  },
  {
   "cell_type": "markdown",
   "metadata": {},
   "source": [
    "### rDNA Stats for hgr1\n",
    "\n",
    "This is a bit of a head-ache to do but I need to re-generate the rDNA stats for this genome. I'll do this when I need something boring and trivial to work on. For now let's get aligning."
   ]
  },
  {
   "cell_type": "markdown",
   "metadata": {},
   "source": [
    "#### hgr1 BED file\n",
    "#### hgr0 Bed file (draft 4 coords). Zero-based\n",
    "```\n",
    "chr13\t10220\t10340\t5S\tcctccttcagc|GTCTACGGCCA\tTGTAGGCTTT|ttctttggctttt\n",
    "chr13\t1000000\t1013400\t45S gggttataatt|GCTGACACGCT\t[Note should read gggttatt|GCTG...]\tGGGTCGACCAGC|agaccgcgggtgg\n",
    "chr13\t1003653\t1005522\t18S tctaccttacc|TACCTGGTTGAT TGCGGAAGGATCATTA|acggagcccggaggg\n",
    "chr13\t1006615\t1006772\t5.8S cgacctgcgta|CGACTCTTAGCGG TGTCTGAGCGTCGCTT|gccgatcaatcgc\n",
    "chr13\t1007940\t1013009\t28S gtccccctccgaga|CGCGACCTCA CACAAGGGTTTGTC|cgcgcgcgcgtgc\n",
    "```\n",
    "\n",
    "#### rRNA Bed file for hgr1\n",
    "\n",
    "```\n",
    "chr13\t10219\t10340\t5S\n",
    "chr13\t1000000\t1013408\t45S\n",
    "chr13\t1003660\t1005529\t18S\n",
    "chr13\t1006622\t1006779\t5.8S\n",
    "chr13\t1007947\t1013018\t28S\n",
    "```"
   ]
  },
  {
   "cell_type": "code",
   "execution_count": 5,
   "metadata": {
    "collapsed": false
   },
   "outputs": [
    {
     "name": "stdout",
     "output_type": "stream",
     "text": [
      "Warning: the index file is older than the FASTA file.\r\n"
     ]
    }
   ],
   "source": [
    "## Sequence Extraction (hgr1)\n",
    "\n",
    "mkdir -p ~/Crown/data/rDNA_stats/hgr1\n",
    "mkdir -p ~/Crown/data/rDNA_stats/hgr1/seq\n",
    "\n",
    "cd ~/Crown/data/rDNA_stats/hgr1/seq\n",
    "\n",
    "cp ~/Crown/resources/hgr1/hgr1.fa ./\n",
    "cp ~/Crown/resources/hgr1/rDNA.bed ./\n",
    "\n",
    "bedtools getfasta -fi hgr1.fa -bed rDNA.bed -fo FASTA.tmp -name\n",
    "\n",
    "fastaexplode FASTA.tmp\n",
    "\n",
    "rm FASTA.tmp"
   ]
  },
  {
   "cell_type": "code",
   "execution_count": 6,
   "metadata": {
    "collapsed": false
   },
   "outputs": [
    {
     "name": "stdout",
     "output_type": "stream",
     "text": []
    }
   ],
   "source": [
    "## Sequence Annotation\n",
    "cd ~/Crown/data/rDNA_stats/hgr1/\n",
    "mkdir -p annot; cd annot\n",
    "\n",
    "cp ~/Crown/resources/hgr1/rDNA.bed ./\n",
    "cp ~/Crown/resources/hgr1/rDNA.gtf ./"
   ]
  },
  {
   "cell_type": "code",
   "execution_count": 8,
   "metadata": {
    "collapsed": false
   },
   "outputs": [
    {
     "name": "stdout",
     "output_type": "stream",
     "text": []
    }
   ],
   "source": [
    "## GC Content Wig Initialize\n",
    "cd ~/Crown/data/rDNA_stats/hgr1/\n",
    "mkdir -p gc; cd gc\n",
    "\n",
    "# cat rRNA_gc.bed\n",
    "  #5s_gc.bed\n",
    "echo \"chr13 9800 13000 5S\" > 5s_gc.bed\n",
    "\n",
    "  #45s_gc.bed\n",
    "echo \"chr13 998000 1014000 45S\" > 45s_gc.bed\n",
    "\n",
    "echo 'chr13 1023550' > hgr1.fa.idx\n",
    "cp ~/Crown/resources/hgr1/rDNA.bed ./\n",
    "\n",
    "cp ../seq/hgr1.fa ./"
   ]
  },
  {
   "cell_type": "code",
   "execution_count": 13,
   "metadata": {
    "collapsed": false
   },
   "outputs": [
    {
     "name": "stdout",
     "output_type": "stream",
     "text": []
    }
   ],
   "source": [
    "#!/bin/bash\n",
    "# gcContent Calculator\n",
    "# for rDNA\n",
    "#\n",
    "# Calculated gc of rDNA for 30,50,75 bp windows\n",
    "\n",
    "# index =\n",
    "# chr13\t1023550\n",
    "\n",
    "WINDOW='70'\n",
    "SLIDE='1'\n",
    "NAME=\"gc.w$WINDOW\"\n",
    "\n",
    "#bedtools makewindows -g hgr0.fa.idx -w $WINDOW -s $SLIDE > $NAME.bed\n",
    "#bedtools makewindows -b rRNA_gc.bed -w $WINDOW -s $SLIDE > $NAME.bed\n",
    "\n",
    "bedtools makewindows -b 5s_gc.bed -w $WINDOW -s $SLIDE > 5s.bed\n",
    "bedtools makewindows -b 45s_gc.bed -w $WINDOW -s $SLIDE > 45s.bed\n",
    "\n",
    "\n",
    "# make start=1,000,000 + (0.5 * $WINDOW)\n",
    "echo \"fixedStep chrom=chr13 start=9835 step=$SLIDE\" > $NAME.wig\n",
    "bedtools nuc -fi hgr1.fa -bed 5s.bed | cut -f 5 - | sed 1d - >> $NAME.wig\n",
    "\n",
    "echo \"fixedStep chrom=chr13 start=998035 step=$SLIDE\" >> $NAME.wig\n",
    "bedtools nuc -fi hgr1.fa -bed 45s.bed | cut -f 5 - | sed 1d - >> $NAME.wig\n",
    "\n",
    "rm 5s.bed 45s.bed"
   ]
  },
  {
   "cell_type": "code",
   "execution_count": 14,
   "metadata": {
    "collapsed": false
   },
   "outputs": [
    {
     "name": "stdout",
     "output_type": "stream",
     "text": [
      "rm: cannot remove 'hgr1.fa.ix': No such file or directory\r\n"
     ]
    }
   ],
   "source": [
    "# clean-up\n",
    "rm hgr1.fa hgr1.fa.fai hgr1.fa.idx *.bed"
   ]
  },
  {
   "cell_type": "code",
   "execution_count": null,
   "metadata": {
    "collapsed": true
   },
   "outputs": [],
   "source": [
    "## Protein / BP Contacts\n",
    "\n",
    "## pending"
   ]
  }
 ],
 "metadata": {
  "kernelspec": {
   "display_name": "Bash",
   "language": "bash",
   "name": "bash"
  },
  "language_info": {
   "codemirror_mode": "shell",
   "file_extension": ".sh",
   "mimetype": "text/x-sh",
   "name": "bash"
  }
 },
 "nbformat": 4,
 "nbformat_minor": 0
}
