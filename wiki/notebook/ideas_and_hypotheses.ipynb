{
 "cells": [
  {
   "cell_type": "markdown",
   "metadata": {},
   "source": [
    "## Ideas and Hypothesis\n",
    "\n",
    "### Control Experiments\n",
    "    - Align the reference hg38 genome to hgr to see how much pseudo-rDNA sequence exists in the reference, possibly filter variant positions if they bonafide exist in most human genomes and are not true rDNA variants (likely a source of error from Illumina data)\n",
    "    - Use RepeatMasker annotation and create a secondary 'rDNA masked genome' if this seems to be a major issue.\n",
    "\n",
    "### *Evolutionary Alignments*\n",
    "    - Generate a 'bed loop' file to show base-pairing between rDNA sequences. Done for 18S.\n",
    "    - Conservation plot for human vs. chimp (old/newworld monkeys)\n",
    "    \n",
    "### *Variant Calling* \n",
    "#### Structural\n",
    "    - Use the pacbio alignnments to do structural variation calls.\n",
    "    - Set-up LUMPY software/GATK alignment to do SV calling from illumina\n",
    "    \n",
    "#### Point\n",
    "    - Rapidly align 1kg wgs data to hgr and retrieve vcf files for it (automate on ec2 machines)\n",
    "    - Align cancer transcriptomes to hgr and do variant calling: DLBCL // Colorectal Carcinoma\n",
    "    \n",
    "### *Consensus rDNA genome*\n",
    "    - Derive a consensus sequence and variants from NA12878 for future alignments (graph-based aligners?)\n",
    "    - Develop a method for rapidly aligning 1kg data to hgr and do automated variant calling and analysis"
   ]
  }
 ],
 "metadata": {
  "kernelspec": {
   "display_name": "Bash",
   "language": "bash",
   "name": "bash"
  },
  "language_info": {
   "codemirror_mode": "shell",
   "file_extension": ".sh",
   "mimetype": "text/x-sh",
   "name": "bash"
  }
 },
 "nbformat": 4,
 "nbformat_minor": 0
}
