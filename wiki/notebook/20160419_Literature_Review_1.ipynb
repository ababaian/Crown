{
 "cells": [
  {
   "cell_type": "markdown",
   "metadata": {},
   "source": [
    "# Literature Review - rRNA biogenesis and Evolution\n",
    "```\n",
    "pi:ababaian\n",
    "start: 2016 04 19\n",
    "complete : 2016 12 29\n",
    "```"
   ]
  },
  {
   "cell_type": "markdown",
   "metadata": {
    "collapsed": true
   },
   "source": [
    "**Noncoding RNAs in Eukaroyotic Ribosome Biogenesis and Function** (Review)\n",
    "\n",
    "*Denis Lafontaine, 2015. Nat Structure and Mol Bio*\n",
    "\n",
    "\n",
    "![Ribosome Biogenesis Figure 1](../figure/20160419 1_ribosomeBiogenesis.png)\n",
    "(Figure 1 from above review)\n",
    "\n",
    "### Ribosome Biogenesis\n",
    "1. **Transcription of Components**\n",
    "    - rRNA: 47S Precursor rRNA transcription (Pol I) in nucleolus\n",
    "    - rRNA: 5S precursor rRNA transcription (Pol III) in nucleoplasm\n",
    "    - Ribosomal Proteins (rp): 80 rp and another >250 assembly factors transcribed (Pol II)\n",
    "\n",
    "2. **Processing of pre-rRNA**\n",
    "    -  47S: ::5' ETS ::: 18S ::: ITS1 :: 5.8S :: ITS2 ::: 28S ::: 3' ETS ::\n",
    "    - see Figure 2\n",
    "    - 5' and 3' External Transcribed Spacers (ETSs) and Internal Transcribed Spacers 1 & 2 (ITS1,2) are removed from 47S in a step-wise manner\n",
    "    - Combination of endo- and exo-ribonucleolytic digestions in two pathways (yeast: exoRNase Rat1-Rai1 or Rrp17)\n",
    "    \n",
    "3. **Modifications**\n",
    "    - snoRNA: act on pre-rRNA through watson-crick base-pairing. Drive RNA modifications via recruitment of proteins in the conserved boxes\n",
    "        - box C/D (60-200 nt): Fibrilliarin (FBL) -->\n",
    "        - box H/ACA (120-250 nt): Dyskerin (DKC1) --> pseudouridylation\n",
    "        - box MRP (268 nt): +10 proteins MRP.\n",
    "    - rRNA Modications: Cluster near functional ribosomal sites.\n",
    "        - Methylation of riboses. x102. [Ref 51] Hypo 2'-O methylation in aggressive breast cancer line \n",
    "        - Pseudouridinylation (uridine isomer). x93\n",
    "        - Base modifications (~10x)\n",
    "4. **Assembly**\n",
    "    - >286 trans-acting Assembly Factors hold ribosomal components together as units are added sequentially\n",
    "5. **Transport**\n",
    "6. **Quality Control & Surveillance**\n",
    "\n",
    "\n",
    "### Ribosomopathy \n",
    "\n",
    "1. DKC1 mutants\n",
    "    - Patient cells have decreased affinity for IRES; less translational fidelity\n",
    "2. Cancer\n",
    "    - Inverse correlation between FBL and p53\n",
    "    - Altered expression of snoRNA and their protein components\n",
    "    \n",
    "    \n",
    "### Notes\n",
    "\n",
    "- Much of the focus appears to be on heterogeneity of the ribosome or rRNA at the level of modification. There's not much consideration for primary sequence variations.\n"
   ]
  },
  {
   "cell_type": "markdown",
   "metadata": {},
   "source": [
    "**Evolution of the ribosome at atomic resolution**\n",
    "\n",
    "*Petrov et al., 2014. PNAS*\n",
    "\n",
    "- Evolution of expansion segements across species and domains of life\n",
    "- Variation occurs away from the Peptidyl transferase center (PTC)\n",
    "- For yeast, there is a really good description of which rRNA positions bind to proteins\n",
    "- The most relevant info here is a detailed description of the secondary and tertiary structure of rRNA in humans\n",
    "\n",
    "### rRNA secondary Structure (main)\n",
    "\n",
    "![Large Subunit Map](../figure/20160426_H_sapiens_LSU.png)\n",
    "\n",
    "![Small Subunit Map](../figure/20160426_H_sapiens_SSU.png)\n",
    "\n",
    "Use these maps to position variants and additional figures in  `~/Crown/resources/structure/apollo_secondary` should help narrow the focus on which bases are involved in structure\n",
    "\n",
    "### rRNA Alignments (Evolutionary)\n",
    "\n",
    "`~/Crown/data/ribozone_alignments`\n",
    "\n",
    "Downloaded alignment of 135 rRNA LSU or SSU rRNA sequences from all domains of life (from this publication). Additionally extracted and re-aligned only eukaryotic sequences to one another\n",
    "```\n",
    "cat euk_SSU | clustalo -i - -o euk_SSU_rRNA.fa\n",
    "\n",
    "cat euk_LSU | clustalo -i - -o euk_LSU_rRNA.fa\n",
    "```\n",
    "\n",
    "It's possible to use these alignments to at which positions are variable in cancer AND are evolutionary conserved. A highly conserved position which changes in cancer (but not normally variable) would be strong evidence for gain-of-fuction oncogene mutations or loss-of-regulation oncogenic mutations.\n",
    "\n",
    "### Notes\n",
    "\n",
    "While modestly interesting and containing many useful data the objective of this paper (to reconstitute an ancestral ribosome) may be too diverse to be of direct use. It may be worth considering 'reversion' mutations in cancer in which a more primative state of rRNA is taken but this would be highly speculative."
   ]
  },
  {
   "cell_type": "markdown",
   "metadata": {},
   "source": [
    "**Differential Stoichiometry among Core Ribosomal Proteins**\n",
    "\n",
    "*Petrov et al., 2014. PNAS*\n"
   ]
  }
 ],
 "metadata": {
  "kernelspec": {
   "display_name": "Bash",
   "language": "bash",
   "name": "bash"
  },
  "language_info": {
   "codemirror_mode": "shell",
   "file_extension": ".sh",
   "mimetype": "text/x-sh",
   "name": "bash"
  }
 },
 "nbformat": 4,
 "nbformat_minor": 0
}
