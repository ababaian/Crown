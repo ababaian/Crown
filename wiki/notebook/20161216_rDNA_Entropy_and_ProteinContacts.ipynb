{
 "cells": [
  {
   "cell_type": "markdown",
   "metadata": {},
   "source": [
    "# Entropy and Protein Contacts in 45S\n",
    "```\n",
    "pi:ababaian\n",
    "start: 2016 12 12\n",
    "complete : 2016 12 16\n",
    "```\n",
    "## Introduction\n",
    "\n",
    "On the [RiboVision](http://apollo.chemistry.gatech.edu/RiboVision/) website, there is information about which nucleotides within 18S, 5.8S and 28S are in contact with proteins based on the atomic structure of the ribosome. As well there is the shannon-entropy for each nucleotide based on a pan-life alignment (same alignment the conservation tracks used).\n",
    "\n",
    "I found that you can export this data as a csv file listing each nucleotide and it's domain contacts / shannon entropy. I parsed this data to bed/wig files for viewing in IGV.\n",
    "\n",
    "There is also nucleotide base-pairing data amongst 45S (when I refer to 45S in this context I mean the sum of 18S + 5.8S and 28S and excluding transcribed spacers). This data is in the 'riboVision format' which will be converted to ['arc' format for IGV](https://software.broadinstitute.org/software/igv/node/284) viewing. "
   ]
  },
  {
   "cell_type": "markdown",
   "metadata": {
    "collapsed": true
   },
   "source": [
    "## Materials and Methods - Entropy + Protein Contacts\n",
    "\n",
    "Raw CSV data was downloaded from RiboVision website (Dec 12th 2016)\n",
    "* Shannon Entropy: RibovisionDataTable_LSU_protein.csv // RibovisionDataTable_SSU_protein.csv\n",
    "* Protein Contacts: RibovisionDataTable_LSU_protein.csv // RibovisionDataTable_SSU_protein.csv\n",
    "\n",
    "CSV files were imported into .xls and manually parsed to match hgr based on a clustalx rDNA.fa and rvis_XS.fa alignments.\n",
    "\n",
    "Note: Ribovision 18S has two 1bp deletion relative to hgr which need to be manually\n",
    "accounted for.\n",
    "\n",
    "\trvis_18S:g.1639_1640insG\n",
    "\trvis_18S:g.1646_1647insG\n",
    "\n",
    "Note: Ribovision 28S had multiple indels relative to hgr which were manually accounted for in the xls files.\n",
    "\n",
    "Score for bed file was set to 100* Shannon Entropy for the bed files\n",
    "\n",
    "\n",
    "### Relative Start Positions - hgr to rvis\n",
    "\n",
    "| Unit          | hgr             | RVis   |\n",
    "| ------------- |:---------------:| :----- |\n",
    "| 18S           | chr13:1,003,657 | 18S:1  |\n",
    "| 5.8S          | chr13:1,006,623 | 5.8S:1 |\n",
    "| 28S           | chr13:1,007,935 | 28S:1  |\n"
   ]
  },
  {
   "cell_type": "markdown",
   "metadata": {},
   "source": [
    "## Materials and Methods - Nucleotide Base Pairing\n",
    "\n",
    "Raw CSV data downloaded from Ribovision website (Dec 16th 2016)\n",
    "\n",
    "* RiboVisionInteractionDataTable_LSU.csv, RiboVisionInteractionDataTable_SSU.csv\n",
    "\n",
    "```\n",
    "Residue_i\tResidueName_i\tResidue_j\tResidueName_j\tInt_Type\n",
    "18S:4\tC\t18S:655\tA\tncHS\n",
    "18S:4\tC\t18S:19\tA\tncWW\n",
    "18S:4\tC\t18S:20\tG\tncWW\n",
    "18S:5\tU\t18S:19\tA\tcWW\n",
    "18S:6\tG\t18S:18\tC\tcWW\n",
    "18S:6\tG\t18S:601\tG\tncSS\n",
    "18S:6\tG\t18S:621\tC\tntSS\n",
    "18S:7\tG\t18S:17\tC\tcWW\n",
    "18S:8\tU\t18S:1196\tA\tcWH\n",
    "18S:8\tU\t18S:14\tC\tncWW\n",
    "18S:8\tU\t18S:15\tU\tntHW\n",
    "18S:10\tG\t18S:1201\tU\tcWW\n",
    "18S:11\tA\t18S:1357\tA\tncSS\n",
    "18S:11\tA\t18S:1200\tA\tncWW\n",
    "18S:11\tA\t18S:1199\tA\tncWW\n",
    "...\n",
    "```\n",
    "converted to arc format (example)\n",
    "```\n",
    "track graphType=arc\n",
    "chr1 10 25 stemloop1\n",
    "chr1 11 24 stemloop1\n",
    "chr1 12 23 stemloop1\n",
    "chr1 13 22 stemloop1\n",
    "chr1 14 21 stemloop1\n",
    "chr1 15 20 stemloop1\n",
    "```\n",
    "\n",
    "Again, using .xls, I parsed the data into .bed (arc) format for 18S. Doing this for 28S is a bit more tricky and will require some thinking. I will come back to this later if/when the 28S data is needed. For now I'll wrap this up."
   ]
  },
  {
   "cell_type": "markdown",
   "metadata": {},
   "source": [
    "## Discussion\n",
    "\n",
    "Final output saved to `~/Crown/data/rDNA_stats/entropy_protContacts/`\n",
    "\n",
    "* `entropy_45S.wig`\n",
    "* `proteinContacts_45S.bed`\n",
    "\n",
    "These tracks were loaded into IGV, I modified a few of the other 'standard' tracks I use to create a new standard session file. View below.\n",
    "\n",
    "![Standard IGV View](../figure/20161216_Standard_IGV_view.png)\n",
    "\n",
    "\n",
    "This should help significanly with 'interpreting' variations which are significant vs. those which are more common or happen in 'uninteresting' areas of the rna.\n",
    "\n",
    "\n",
    "![18S Secondary Structure](../figure/20161216_18S_bp.png)"
   ]
  }
 ],
 "metadata": {
  "kernelspec": {
   "display_name": "Bash",
   "language": "bash",
   "name": "bash"
  },
  "language_info": {
   "codemirror_mode": "shell",
   "file_extension": ".sh",
   "mimetype": "text/x-sh",
   "name": "bash"
  }
 },
 "nbformat": 4,
 "nbformat_minor": 0
}
