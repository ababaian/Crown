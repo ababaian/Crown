{
 "cells": [
  {
   "cell_type": "markdown",
   "metadata": {},
   "source": [
    "# Adiconis First Alignments\n",
    "```\n",
    "pi:ababaian\n",
    "start: 2016 04 16\n",
    "complete : 2016 04 28\n",
    "```"
   ]
  },
  {
   "cell_type": "markdown",
   "metadata": {
    "collapsed": true,
    "heading_collapsed": true
   },
   "source": [
    "## Objective\n",
    "* Align the acquired Adiconis K562 data to rRNA\n"
   ]
  },
  {
   "cell_type": "markdown",
   "metadata": {
    "heading_collapsed": true
   },
   "source": [
    "## Methods\n",
    "\n",
    "### Build HGR Index\n",
    "\n",
    "```\n",
    "cd ~/Crown/resources/hgr\n",
    "bowtie2-build hgr.fa hgr\n",
    "```\n",
    "### SRR567450 Alignment \n",
    "\n",
    "```\n",
    "cd ~/Crown/data/adaconis/totalRNA_1\n",
    "\n",
    "tophat2 --rg-id adiconis_1 --rg-sample k562 ~/Crown/resources/hgr/hgr SRR567450_1.fastq.gz SRR567450_2.fastq.gz\n",
    "```\n",
    "Run started: 2016-04-14 16:41:16\n",
    "Run ended: 2016-04-14 17:56:53\n",
    "\n",
    "### SRR567451 Alignment \n",
    "\n",
    "```\n",
    "cd ~/Crown/data/adaconis/totalRNA_1\n",
    "\n",
    "tophat2 --rg-id adiconis_1 --rg-sample k562 ~/Crown/resources/hgr/hgr SRR567451_1.fastq.gz SRR567451_2.fastq.gz\n",
    "```\n",
    "Run started: 2016-04-15 09:59:03\n",
    "Run ended: 2016-04-14 11:04:40\n",
    "\n",
    "### Redo Alignments: Accidently deleted - 0418\n",
    "\n",
    "Accidently deleted the above alignments and fastq files when trying to add them to the git repository. Note:  Don't use `git rm -f <file>` to unstage a file '-_-\n",
    "\n",
    "Regenerating using the same commands and re-aligning. Old files were deleted.\n",
    "\n",
    "2016-04-18 17:21:55 both runs complete."
   ]
  },
  {
   "cell_type": "markdown",
   "metadata": {},
   "source": [
    "## Results\n",
    "\n",
    "### Flagstats for files\n",
    "\n",
    "\n",
    "### First Impressions\n",
    "\n",
    "To take a rough overview of the data IGV was used. I'm having trouble viewing the data, especially over regions of mature rRNA (18S or 28S). Make sure to 'downsample' the reads in View > Preferences > Reads according to your computer. I'm using Max: 1000, per window: 50.\n",
    "\n",
    "The experiment most certainly worked in the way one would imagine.\n"
   ]
  },
  {
   "cell_type": "code",
   "execution_count": 12,
   "metadata": {
    "collapsed": false
   },
   "outputs": [
    {
     "name": "stdout",
     "output_type": "stream",
     "text": [
      "17141165 + 0 in total (QC-passed reads + QC-failed reads)\r\n",
      "46794 + 0 secondary\r\n",
      "0 + 0 supplimentary\r\n",
      "0 + 0 duplicates\r\n",
      "17141165 + 0 mapped (100.00%:-nan%)\r\n",
      "17094371 + 0 paired in sequencing\r\n",
      "8723515 + 0 read1\r\n",
      "8370856 + 0 read2\r\n",
      "1984966 + 0 properly paired (11.61%:-nan%)\r\n",
      "14505026 + 0 with itself and mate mapped\r\n",
      "2589345 + 0 singletons (15.15%:-nan%)\r\n",
      "0 + 0 with mate mapped to a different chr\r\n",
      "0 + 0 with mate mapped to a different chr (mapQ>=5)\r\n",
      "6718791 + 0 in total (QC-passed reads + QC-failed reads)\r\n",
      "0 + 0 secondary\r\n",
      "0 + 0 supplimentary\r\n",
      "0 + 0 duplicates\r\n",
      "0 + 0 mapped (0.00%:-nan%)\r\n",
      "6718791 + 0 paired in sequencing\r\n",
      "3183066 + 0 read1\r\n",
      "3535725 + 0 read2\r\n",
      "0 + 0 properly paired (0.00%:-nan%)\r\n",
      "0 + 0 with itself and mate mapped\r\n",
      "0 + 0 singletons (0.00%:-nan%)\r\n",
      "0 + 0 with mate mapped to a different chr\r\n",
      "0 + 0 with mate mapped to a different chr (mapQ>=5)\r\n"
     ]
    }
   ],
   "source": [
    "# Alignments to rDNA\n",
    "# K562 TotalRNA 1 file\n",
    "cd ~/Crown/data/adaconis/totalRNA1\n",
    "echo \"Mapped Reads\"\n",
    "samtools flagstat accepted_hits.bam\n",
    "echo \"Unmapped Reads\"\n",
    "samtools flagstat unmapped.bam"
   ]
  },
  {
   "cell_type": "markdown",
   "metadata": {},
   "source": [
    "### Total RNA1 File\n",
    "Total Reads: 23,859,956\n",
    "Aligned Reads (rRNA): 17,141,165\n",
    "Unmapped Reads: 6,718,791\n",
    "\n",
    "rRNA Reads Mapped: **71.84%**"
   ]
  },
  {
   "cell_type": "code",
   "execution_count": 13,
   "metadata": {
    "collapsed": false
   },
   "outputs": [
    {
     "name": "stdout",
     "output_type": "stream",
     "text": [
      "Mapped Reads\r\n",
      "15722488 + 0 in total (QC-passed reads + QC-failed reads)\r\n",
      "156708 + 0 secondary\r\n",
      "0 + 0 supplimentary\r\n",
      "0 + 0 duplicates\r\n",
      "15722488 + 0 mapped (100.00%:-nan%)\r\n",
      "15565780 + 0 paired in sequencing\r\n",
      "7937614 + 0 read1\r\n",
      "7628166 + 0 read2\r\n",
      "1943754 + 0 properly paired (12.49%:-nan%)\r\n",
      "13116446 + 0 with itself and mate mapped\r\n",
      "2449334 + 0 singletons (15.74%:-nan%)\r\n",
      "0 + 0 with mate mapped to a different chr\r\n",
      "0 + 0 with mate mapped to a different chr (mapQ>=5)\r\n",
      "Unmapped Reads\r\n",
      "6246124 + 0 in total (QC-passed reads + QC-failed reads)\r\n",
      "0 + 0 secondary\r\n",
      "0 + 0 supplimentary\r\n",
      "0 + 0 duplicates\r\n",
      "0 + 0 mapped (0.00%:-nan%)\r\n",
      "6246124 + 0 paired in sequencing\r\n",
      "2968338 + 0 read1\r\n",
      "3277786 + 0 read2\r\n",
      "0 + 0 properly paired (0.00%:-nan%)\r\n",
      "0 + 0 with itself and mate mapped\r\n",
      "0 + 0 singletons (0.00%:-nan%)\r\n",
      "0 + 0 with mate mapped to a different chr\r\n",
      "0 + 0 with mate mapped to a different chr (mapQ>=5)\r\n"
     ]
    }
   ],
   "source": [
    "# Alignments to rDNA\n",
    "# TotalRNA 2 file\n",
    "cd ~/Crown/data/adaconis/totalRNA2\n",
    "echo \"Mapped Reads\"\n",
    "samtools flagstat accepted_hits.bam\n",
    "echo \"Unmapped Reads\"\n",
    "samtools flagstat unmapped.bam"
   ]
  },
  {
   "cell_type": "markdown",
   "metadata": {},
   "source": [
    "### Total RNA2 File\n",
    "Total Reads: 21,968,612\n",
    "Aligned Reads (rRNA): 15,722,488\n",
    "Unmapped Reads: 6,246,124\n",
    "\n",
    "rRNA Reads Mapped: **71.57%**"
   ]
  },
  {
   "cell_type": "markdown",
   "metadata": {
    "heading_collapsed": true
   },
   "source": [
    "## Discussion\n",
    "#### 2016-12-29\n",
    "Closing experiment: further analysis in 20160428_1_Variant_Calling."
   ]
  }
 ],
 "metadata": {
  "kernelspec": {
   "display_name": "Bash",
   "language": "bash",
   "name": "bash"
  },
  "language_info": {
   "codemirror_mode": "shell",
   "file_extension": ".sh",
   "mimetype": "text/x-sh",
   "name": "bash"
  }
 },
 "nbformat": 4,
 "nbformat_minor": 0
}
