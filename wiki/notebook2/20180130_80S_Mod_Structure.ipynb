{
 "cells": [
  {
   "cell_type": "markdown",
   "metadata": {},
   "source": [
    "# 80S Ribosome w/ Modification Structure Analysis\n",
    "```\n",
    "pi:ababaian\n",
    "files: ~/Crown/data2/6EK0/\n",
    "start: 2018 01 30\n",
    "complete : YYYY MM DD\n",
    "```\n",
    "## Introduction\n",
    "\n",
    "A cryo-EM structure of the human 80S Ribosome with RNA modifications in place was recently published [Natchiar et al.](https://www.ncbi.nlm.nih.gov/pubmed/?term=29143818).\n",
    "\n"
   ]
  },
  {
   "cell_type": "markdown",
   "metadata": {
    "collapsed": true
   },
   "source": [
    "## Objective\n",
    "\n",
    "- Examine the conformation of macpPsi in the 80S ribosome structure.\n"
   ]
  },
  {
   "cell_type": "markdown",
   "metadata": {},
   "source": [
    "## Materials and Methods\n",
    "\n",
    "- Pymol\n",
    "- [6EK0 CIF](https://www.rcsb.org/structure/6EK0)\n"
   ]
  },
  {
   "cell_type": "markdown",
   "metadata": {},
   "source": [
    "## Results / Discussion\n",
    "\n",
    "### The conformation of macp{Psi}\n",
    "\n",
    "![macpPsi + RPS16](../../data2/6EK0/plot/macpPsi_RPS16_electrostatic.png)\n",
    "![macpPsi P-site](../../data2/6EK0/plot/macp_Psite.png)\n",
    "\n",
    "The conformation of 1248.macp \n",
    "\n",
    "### RPS16 Mutations { V100L / V100M }\n",
    "\n",
    "![RPS16 Mutation](../../data2/6EK0/plot/rps16_COSMIC.png)\n",
    "![RPS16 V100L](../../data2/6EK0/plot/20180130_RPS16_V100L.png)\n",
    "\n",
    "11 patients have a point mutation at V100L; it's right at the interface to RACK1 (yellow), an inhibitor of translation.\n",
    "\n",
    "###\n"
   ]
  }
 ],
 "metadata": {
  "kernelspec": {
   "display_name": "Bash",
   "language": "bash",
   "name": "bash"
  },
  "language_info": {
   "codemirror_mode": "shell",
   "file_extension": ".sh",
   "mimetype": "text/x-sh",
   "name": "bash"
  }
 },
 "nbformat": 4,
 "nbformat_minor": 1
}
