{
 "cells": [
  {
   "cell_type": "markdown",
   "metadata": {},
   "source": [
    "# snoRNA - SNORA13 Expression in TCGA\n",
    "```\n",
    "pi:ababaian\n",
    "files: ~/Crown/data2/SNORA13/\n",
    "start: 2018 11 13\n",
    "complete : 2018 .. ..\n",
    "```\n",
    "## Introduction\n",
    "\n",
    "The snoRNA: [SNORA13 or ACA13](https://www.genecards.org/cgi-bin/carddisp.pl?gene=SNORA13) (snR35 in yeast) is the snoRNA which guides the pseudouridiylation of 18S.1248.U. The transcript of origin for this snoRNA is EPB41LA asRNA1 (ENST00000413221.6) which is ubiquitous. \n",
    "\n",
    "![ACA13 target](../../data2/SNORA13/ACA13.gif)\n",
    "\n",
    "From: [snoRNABase](https://www-snorna.biotoul.fr/plus.php?id=ACA13)\n",
    "\n",
    "```\n",
    ">ACA13\n",
    "agcCTTTGTGTTGCCCATTCACTTTGGAAActagtgaatgtggtgtcaaaaaa\n",
    "ggcgtaaattaaacgctttgcagccttttcctgcccttaaatttgataccttt\n",
    "ggtgtaggagctgcataagtaacagtt\n",
    "```\n",
    "\n",
    "[RFAM Entry](http://rfam.xfam.org/clan/CL00028)\n",
    "\n",
    "[Genecard](https://www.genecards.org/cgi-bin/carddisp.pl?gene=SNORA13)\n"
   ]
  },
  {
   "cell_type": "markdown",
   "metadata": {},
   "source": [
    "## [SNORic Database](http://bioinfo.life.hust.edu.cn/SNORic/)\n",
    "\n",
    "Ref: [A Pan-cancer Analysis of the Expression and Clinical Relevance of Small Nucleolar RNAs in Human Cancer.](http://www.cell.com/cell-reports/fulltext/S2211-1247(17)31533-4)\n",
    "\n",
    "*Hypothesis:* The hypo-macp phenotype seen in TCGA-COAD, TCGA-LUAD, TCGA-LUSC, TCGA-BRCA is caused by a depletion of the guiding SNORA13. Therefore there is a hypo-macp-SNORA13 anticorrelation as measured by Spearman Correleation co-efficient. \n",
    "\n",
    "From the SNORic Database; downloaded the TCGA-COAD snoRNA [Expression Matrix](http://bioinfo.life.hust.edu.cn/SNORic/static/download/type.COAD.expression.matrix) (2018-11-13).\n",
    "\n",
    "\n",
    "![snora13 vs. 1248.macp](../../data2/SNORA13/tcga-coad_snora13.png)\n",
    "\n",
    "### Analysis in GraphPad Prism 5\n",
    "Data: `COAD_SNORA13_macp.xlsx`\n",
    "\n",
    "```\n",
    "Number of XY Pairs\t38\n",
    "Spearman r\t0.2439\n",
    "  95% confidence interval\t-0.09202 to 0.5299\n",
    "  \n",
    "P value (two-tailed)\t0.1401\n",
    "  P value summary\tns\n",
    "  Exact or approximate P value?\tGaussian Approximation\n",
    "  Is the correlation significant? (alpha=0.05)\tNo\n",
    "```\n",
    "\n",
    "### Conclusion\n",
    "\n",
    "Reject the hypothesis, SNORA13 levels do not correlate significantly (r = 0.2439 n.s) with the hypo-macp phenotype. If anything, SNORA13 increases in hypo-macp COAD cancer cells. \n"
   ]
  }
 ],
 "metadata": {
  "kernelspec": {
   "display_name": "Bash",
   "language": "bash",
   "name": "bash"
  },
  "language_info": {
   "codemirror_mode": "shell",
   "file_extension": ".sh",
   "mimetype": "text/x-sh",
   "name": "bash"
  }
 },
 "nbformat": 4,
 "nbformat_minor": 1
}
