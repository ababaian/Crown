{
 "cells": [
  {
   "cell_type": "markdown",
   "metadata": {},
   "source": [
    "# TCGA Fungal Contamination Classifier\n",
    "```\n",
    "pi:ababaian\n",
    "files: ~/Crown/data2/fungi/\n",
    "start: 2018 11 22\n",
    "complete : YYYY MM DD\n",
    "```\n",
    "## Introduction\n",
    "\n",
    "In the course of the `GOAT` project, performing rRNA mutational analysis, a sub-set of patients have shown to be contaiminated with fungal rRNA.\n",
    "\n",
    "- TCGA-BRCA, TCGA-A7-A0DC\n",
    "- TCGA-BRCA, TCGA-A7-A13G\n",
    "- TCGA-LUAD, TCGA-44-2665"
   ]
  },
  {
   "cell_type": "markdown",
   "metadata": {
    "collapsed": true
   },
   "source": [
    "## Objective\n"
   ]
  },
  {
   "cell_type": "markdown",
   "metadata": {},
   "source": [
    "## Materials and Methods\n"
   ]
  },
  {
   "cell_type": "markdown",
   "metadata": {},
   "source": [
    "## Results\n"
   ]
  },
  {
   "cell_type": "markdown",
   "metadata": {},
   "source": [
    "## Discussion\n"
   ]
  }
 ],
 "metadata": {
  "kernelspec": {
   "display_name": "Bash",
   "language": "bash",
   "name": "bash"
  },
  "language_info": {
   "codemirror_mode": "shell",
   "file_extension": ".sh",
   "mimetype": "text/x-sh",
   "name": "bash"
  }
 },
 "nbformat": 4,
 "nbformat_minor": 1
}
