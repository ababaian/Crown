{
 "cells": [
  {
   "cell_type": "markdown",
   "metadata": {},
   "source": [
    "# TCGA COAD Survival Curve\n",
    "```\n",
    "pi:ababaian\n",
    "files: ~/Crown/data2/\n",
    "start: ~2018 04\n",
    "complete : 2018 06 19\n",
    "```\n",
    "## Introduction\n",
    "\n",
    "Together with J.Lever, analyze TCGA COAD data for hypo-modification phenotype and correlate to patient survival. If loss of this modification is oncogenic (observed at a high rate) then a functional outcome of this would be a 'hit' and poor patient survival.\n",
    "\n",
    "### Hypothesis\n",
    "\n",
    "CRC tumours with the oncogenic deficiency in 18S.1248.macp modification as measured by RNA-seq compared to normal controls are predictive of poor overall patient survival.\n"
   ]
  },
  {
   "cell_type": "markdown",
   "metadata": {},
   "source": [
    "## Materials and Methods\n",
    "\n",
    "1. The CRC analysis scripts (for rRNA alignment and variant calling) were provided to J.lever, he has access to TCGA data and could analyze the samples.\n",
    "\n",
    "2. Jake provided a TSV file containing SampleID, survival data, and allele frequecienes for 1248.U. From this macp modification levels are inferred.\n",
    "\n",
    "```\n",
    "sampleid\tdays_to_last_follow_up\tdays_to_death\tnormalA\tnormalC\tnormalG\tnormalT\tdiseasedA\tdiseasedC\tdiseasedG\tdiseasedT\tN_RAF\tD_RAF\n",
    "TCGA-AZ-6605\tnull\t159\t51\t555\t70\t688\t33\t403\t57\t753\t50.4398826979\t60.4333868379\n",
    "TCGA-AZ-6603\tnull\t899\t26\t283\t46\t388\t22\t379\t45\t835\t52.2207267833\t65.1834504294\n",
    "TCGA-AA-3655\t1856\tnull\t99\t1007\t152\t1318\t40\t407\t53\t1395\t51.1645962733\t73.6147757256\n",
    "...\n",
    "```\n",
    "\n",
    "3. Reference allele frequency ( Reference Allele Depth / Total Allele Depth) was calculated per patient and the change in RAF (dRAF) between normal-cancer was calculated. Samples were arranged in ascending order by dRAF.\n",
    "\n",
    "4.  The top+bottom 1/2, 1/3, 1/4 of the samples were grouped and survival was compared between \"Normo-macp\" and \"Hypo-macp\" samples.\n",
    "\n",
    "\n",
    "\n",
    "### Data\n",
    "\n",
    "In table `1248.macp_survival_curve_41pairs.xlsx` and `CRC_macp_41pairs.pzf`\n"
   ]
  },
  {
   "cell_type": "markdown",
   "metadata": {},
   "source": [
    "## Results + Discussion\n",
    "\n",
    "![COAD41 VAF](../../data2/crc_survival/20180619_TCGA_41COAD_VAF.png)\n",
    "\n",
    "Wilcoxen Matched Rank test, p < 0.0001. 3/41 samples had decrease in RAF in cancer, showing a very strong skew towards hypo-modification in COAD/CRC. The phenotype in this data set appears to be substantially stronger then observed in CRC 1-4 which is ~44%\n",
    "\n",
    "![COAD41 Survival Curve](../../data2/crc_survival/20180619_TCGA_41COAD_Survival.png)\n",
    "\n",
    "There is no difference in patient overall survival between the two groups, if anything the hypo-macp phenotype patients have slightly better outcome.\n",
    "\n",
    "This refutes the initial hypothesis at least for this data set. It will be worth repeating on a data set which has a clearer segreation between normo-macp and hypo-macp cancers like that seen in CRC1-4 although this answer is quite definitive.\n"
   ]
  }
 ],
 "metadata": {
  "kernelspec": {
   "display_name": "Bash",
   "language": "bash",
   "name": "bash"
  },
  "language_info": {
   "codemirror_mode": "shell",
   "file_extension": ".sh",
   "mimetype": "text/x-sh",
   "name": "bash"
  }
 },
 "nbformat": 4,
 "nbformat_minor": 1
}
