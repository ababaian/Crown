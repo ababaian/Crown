{
 "cells": [
  {
   "cell_type": "markdown",
   "metadata": {},
   "source": [
    "# SYNCRIP + SNHG5 And Ribosome Dysregulation\n",
    "```\n",
    "pi:ababaian\n",
    "files: ~/Crown/data2/SNORA13\n",
    "start: 2018 11 22\n",
    "complete : \n",
    "```\n",
    "## Introduction\n",
    "\n",
    "This paper recently came out: [Deletion 6q Drives T-cell Leukemia Progression by Ribosome Modulation](http://cancerdiscovery.aacrjournals.org/content/early/2018/11/21/2159-8290.CD-17-0831.full-text.pdf)\n",
    "\n",
    "The main finding appears to be that the 6q14- recurrent in T-ALL, leads to loss of SYNCRIP (hnRNP-Q) and SNHG5 (hosting SNORD50A and SNORD50B). The associated ribosome dysregulation results in a shift to monosomes and perturbed ribosome functionality which together, act oncogenically in the context of a synthetic T-ALL model (Tal1-TG, Lmo1-TG + Notch1).\n",
    "\n"
   ]
  },
  {
   "cell_type": "markdown",
   "metadata": {
    "collapsed": true
   },
   "source": [
    "## Objective\n",
    "\n",
    "Measure the levels of (Firebrowse RSEM) SYNCRIP + SNHG5 in TCGA-COAD cohort to see if there is a spearman correlation with the hypo-macp phenotype.\n",
    "\n"
   ]
  },
  {
   "cell_type": "markdown",
   "metadata": {},
   "source": [
    "## Results\n",
    "\n",
    "From Firebrowse, downloaded the expression values for `TCGA-COAD` cohort: \n",
    "```\n",
    "http://firebrowse.org/api/v1/Samples/mRNASeq?format=tsv&gene=SYNCRIP&cohort=COAD&protocol=RSEM&page=1&page_size=250&sort_by=cohort\n",
    "```\n",
    "and\n",
    "```\n",
    "http://firebrowse.org/api/v1/Samples/mRNASeq?format=tsv&gene=SNHG5&cohort=COAD&protocol=RSEM&page=1&page_size=2000&sort_by=cohort\n",
    "```\n",
    "\n",
    "#### SYNCRIP vs. MACP modification\n",
    "\n",
    "![SYNCRIP plot](../../data2/SNORA13/tcga-coad_syncrip.png)\n",
    "\n",
    "```\n",
    "For COAD Normal\n",
    "Number of XY Pairs\t128\t40\n",
    "Spearman r\t-0.04470\t-0.3921\n",
    "  95% confidence interval\t-0.2215 to 0.1350\t-0.6328 to -0.08229\n",
    "P value (two-tailed)\t0.6164\t0.0123\n",
    "  P value summary\tns\t*\n",
    "  Exact or approximate P value?\tGaussian Approximation\tGaussian Approximation\n",
    "  Is the correlation significant? (alpha=0.05)\tNo\tYes\n",
    "  \n",
    "```\n",
    "\n",
    "There is no correlation between SYNCRIP and 1248 VAF in the data for TCGA-COAD. There is a slight inverse correlation in normal cells, perhaps a response to proliferation and production of ribosomes. That is to say if the mild hypo-macp is a marker of proliferation.\n",
    "\n",
    "\n",
    "#### SNHG5 vs. MACP modification\n",
    "\n",
    "![SNHG5 plot](../../data2/SNORA13/tcga-coad_snhg5.png)\n",
    "```\n",
    "For COAD Normal\n",
    "Number of XY Pairs\t128\t40\n",
    "Spearman r\t-0.01917\t0.1411\n",
    "  95% confidence interval\t-0.1971 to 0.1600\t-0.1875 to 0.4413\n",
    "P value (two-tailed)\t0.8300\t0.3852\n",
    "  P value summary\tns\tns\n",
    "  Exact or approximate P value?\tGaussian Approximation\tGaussian Approximation\n",
    "  Is the correlation significant? (alpha=0.05)\tNo\tNo\n",
    "```"
   ]
  },
  {
   "cell_type": "markdown",
   "metadata": {},
   "source": [
    "## Discussion\n"
   ]
  }
 ],
 "metadata": {
  "kernelspec": {
   "display_name": "Bash",
   "language": "bash",
   "name": "bash"
  },
  "language_info": {
   "codemirror_mode": "shell",
   "file_extension": ".sh",
   "mimetype": "text/x-sh",
   "name": "bash"
  }
 },
 "nbformat": 4,
 "nbformat_minor": 1
}
