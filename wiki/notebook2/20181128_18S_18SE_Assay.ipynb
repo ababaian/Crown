{
 "cells": [
  {
   "cell_type": "markdown",
   "metadata": {},
   "source": [
    "# 18S : 18SE Assay\n",
    "```\n",
    "pi:ababaian\n",
    "files: /home/artem/Desktop/Crown/data2/tcga_analysis/18SE_Assay\n",
    "start: 2018 11 28\n",
    "complete : YYYY MM DD\n",
    "```\n",
    "## Introduction\n",
    "\n",
    "The 1248.U modification to 1248.macpPsi is a late modification in the maturation of 18S rRNA. It occurs in the cytoplasm (presumably) before 80S assembly (otherwise it wouldn't be accesible to TSR3).\n",
    "\n",
    "One hypothesis which could explain the hypo-macp phenotype is that there is a defect in rRNA biogenesis which results in substantial increases in the levels of pre-mature 18S rRNA accumulating in the cell. This would have to happen to quite extreme levels to see the extent of hypo-macp which is seen in cancers like CRC (upto 95+% unmodified), which would imply that there is a greater proportion of pre-rRNA than ther is mature rRNA. Maybe this is possible, maybe it's not but it will be possible to measure the rate of 18S biogenesis by comparing the coverage of 18S to it's precursor 18S-E which includes an ~80 bp 3' extension.\n",
    "\n"
   ]
  },
  {
   "cell_type": "markdown",
   "metadata": {
    "collapsed": true
   },
   "source": [
    "## Objective\n",
    "\n",
    "Create a rapid pipeline to measure 18S coverage and 18S-E coverage. For the TCGA cohorts, compare the 18S:18SE ratio to macp-modification levels.\n",
    "\n",
    "### Hypothesis\n",
    "\n",
    "The hypo-macp phenotype (decrease in VAF at 18S.1248 U) is the result of the accumulation of pre-rRNA and will correlate positively, and linearly (Pearson correlation) with the ratio of 18SE : 18S.\n",
    "\n",
    "The mild hypo-macp phenotype in some normal libraries will correlate with higher 18SE.\n",
    "\n",
    "The hypo-macp phenotype in cancer libraries will correlate with higher 18SE.\n",
    "\n"
   ]
  },
  {
   "cell_type": "markdown",
   "metadata": {},
   "source": [
    "## Materials and Methods\n",
    "\n",
    "\n",
    "### rRNA Precursor Coordinates\n",
    "\n",
    "End coordinates for 18S-E taken from [PMC3632142](https://www.ncbi.nlm.nih.gov/pmc/articles/PMC3632142/) and 21S from [PMC3017594](https://www.ncbi.nlm.nih.gov/pmc/articles/PMC3017594/).\n",
    "\n",
    "\n",
    "```\n",
    "   |----------------------------------------45S Unit--------------------------------------------|\n",
    "   \n",
    "...|-------|=========18S======|--E-----------|==5.8S=|-------|========28S===================|---|...\n",
    "     5 ETS                           ITS1               ITS2                                 3 ETS\n",
    "   \n",
    "                                       32S   |----------------------------------------------|\n",
    "                                       \n",
    "     21S-C |----------------------------|\n",
    "     \n",
    "     18S-E |------------------***|\n",
    "     \n",
    "```\n",
    "\n",
    "\n",
    "The `rRNA.bed`\n",
    "\n",
    "```\n",
    "chr13\t10219\t10340\t5S\n",
    "chr13\t1000000\t1013408\t45S\n",
    "chr13\t1003660\t1005529\t18S\n",
    "chr13\t1006622\t1006779\t5.8S\n",
    "chr13\t1007947\t1013018\t28S\n",
    "chr13\t1006622\t1013018\t32S\n",
    "chr13\t1003660\t1003683\t21C\n",
    "chr13\t1003660\t1005608\t18SE\n",
    "chr13\t1005529\t1005608\t18SE_frag\n",
    "```\n"
   ]
  },
  {
   "cell_type": "code",
   "execution_count": 41,
   "metadata": {},
   "outputs": [
    {
     "name": "stdout",
     "output_type": "stream",
     "text": [
      "bedtools v2.26.0\r\n"
     ]
    }
   ],
   "source": [
    "# Testing bedtools\n",
    "## Workspace\n",
    "WORKDIR='/home/artem/Desktop/Crown/data2/tcga_analysis/18SE_Assay'\n",
    "cd $WORKDIR\n",
    "\n",
    "#test data\n",
    "#ln -s ~/Desktop/var/TCGA-22-4593-01A.hgr1.bam ./\n",
    "#ln -s ~/Desktop/var/TCGA-22-4593-01A.hgr1.bam.bai ./\n",
    "#ln -s ~/Desktop/var/TCGA-22-4593-11A.hgr1.bam ./\n",
    "#ln -s ~/Desktop/var/TCGA-22-4593-11A.hgr1.bam.bai ./\n",
    "\n",
    "bedtools --version"
   ]
  },
  {
   "cell_type": "code",
   "execution_count": 13,
   "metadata": {},
   "outputs": [
    {
     "name": "stdout",
     "output_type": "stream",
     "text": [
      "chr13\t10219\t10340\t5S\t198\t357\r\n",
      "chr13\t1000000\t1013408\t45S\t2563659\t4624354\r\n",
      "chr13\t1003660\t1005529\t18S\t408048\t1355474\r\n",
      "chr13\t1006622\t1006779\t5.8S\t4690\t19402\r\n",
      "chr13\t1007947\t1013018\t28S\t2128864\t3245891\r\n",
      "chr13\t1006622\t1013018\t32S\t2136068\t3266217\r\n",
      "chr13\t1003660\t1003683\t21C\t5929\t24012\r\n",
      "chr13\t1003660\t1005608\t18SE\t408252\t1355511\r\n",
      "chr13\t1005529\t1005608\t18SE_frag\t1381\t272\r\n",
      "113\r\n"
     ]
    }
   ],
   "source": [
    "# Test multiBamCov program (gives total coverage only)\n",
    "start=`date +%s`\n",
    "\n",
    "  multiBamCov -split -bams $(ls *.bam) -bed rRNA.bed\n",
    "  \n",
    "  \n",
    "end=`date +%s`\n",
    "runtime=$(($end-$start))\n",
    "echo \"\\\\n Runtime (s): $runtime\""
   ]
  },
  {
   "cell_type": "code",
   "execution_count": 44,
   "metadata": {},
   "outputs": [
    {
     "name": "stdout",
     "output_type": "stream",
     "text": [
      "rm: cannot remove 'test2.tmp': No such file or directory\r\n",
      "rm: cannot remove 'tmp': No such file or directory\r\n",
      "Runtime (s): 58\r\n"
     ]
    }
   ],
   "source": [
    "# #!/bin/bash\n",
    "#\n",
    "# bamCov.sh < BAMLIST FILE >\n",
    "#\n",
    "\n",
    "# Test genomeCoverageBed in serial (per base output)\n",
    "start=`date +%s`\n",
    "\n",
    "# BAMLIST=$(cat $1)\n",
    "BAMLIST=$(ls *.bam)\n",
    "#START_COORD='1003660'\n",
    "#END_COORD='1005608'\n",
    "\n",
    "rm test2.tmp # if it exists\n",
    "\n",
    "for FILE in $BAMLIST\n",
    "do\n",
    "  genomeCoverageBed -d -split -ibam $FILE > test.tmp\n",
    "  \n",
    "  # cut coverage column only for 18S-E coordinates\n",
    "  if [ -e test2.tmp ]\n",
    "  then\n",
    "    sed -n 1003660,1005608p test.tmp | cut -f3 - | paste test2.tmp - > test3.tmp\n",
    "  else\n",
    "    sed -n 1003660,1005608p test.tmp | cut -f3 - > test3.tmp\n",
    "  fi\n",
    "    \n",
    "  mv test3.tmp test2.tmp\n",
    "  \n",
    "done\n",
    "\n",
    "echo $BAMLIST | tr '\\n' '\\t' > header.tmp\n",
    "cat header.tmp test2.tmp | sed 's/bam\\t/bam\\n/g' - > 18SE.coverage.tsv\n",
    "\n",
    "rm tmp\n",
    "\n",
    "end=`date +%s`\n",
    "runtime=$(($end-$start))\n",
    "echo \"Runtime (s): $runtime\""
   ]
  },
  {
   "cell_type": "code",
   "execution_count": null,
   "metadata": {},
   "outputs": [],
   "source": [
    "# Launch crown-tcga instance\n",
    "# crown-tcga-181124 (ami-053dfb448b82492ac)\n",
    "## REMOTE:\n",
    "\n",
    "# Installing bedtools on REMOTE\n",
    "cd ~/software/\n",
    "wget https://github.com/arq5x/bedtools2/releases/download/v2.27.1/bedtools-2.27.1.tar.gz\n",
    "\n",
    "tar -xvf bedtools-2.27.1.tar.gz\n",
    "make\n",
    "\n",
    "cd ~/bin/\n",
    "ln -s /home/ubuntu/software/bedtools2/bin/* ./"
   ]
  },
  {
   "cell_type": "code",
   "execution_count": 39,
   "metadata": {},
   "outputs": [
    {
     "name": "stdout",
     "output_type": "stream",
     "text": []
    }
   ],
   "source": [
    "## vim ~/scripts/bamCov.sh {insert}\n",
    "## cd tcga\n",
    "\n",
    "### RUN1------------------------------\n",
    "## screen\n",
    "## ls TCGA-COA*/*.bam > coad.list\n",
    "##\n",
    "## bash ~/scripts/bamCov.sh coad.list\n",
    "### runtime: 14296\n",
    "### aws s3 cp 18SE.coverage.tsv s3://crownproject/tcga/181128_18SE/18SE.coverage.coad.tsv\n",
    "\n",
    "### RUN2------------------------------\n",
    "## screen\n",
    "## mkdir run2; cd run2\n",
    "## ls ../TCGA-[BC]*/*.bam > bc.list\n",
    "## bash ~/scripts/bamCov.sh bc.list\n",
    "### runtime: 13625\n",
    "### aws s3 cp 18SE.coverage.tsv s3://crownproject/tcga/181128_18SE/18SE.coverage.r2.tsv\n",
    "\n",
    "### RUN3------------------------------\n",
    "## screen\n",
    "## mkdir run3; cd run3\n",
    "## ls ../TCGA-[DEHK]*/*.bam > dehk.list\n",
    "## bash ~/scripts/bamCov.sh dehk.list\n",
    "### runtime: 7859\n",
    "### aws s3 cp 18SE.coverage.tsv s3://crownproject/tcga/181128_18SE/18SE.coverage.r3.tsv\n",
    "\n",
    "### RUN4------------------------------\n",
    "## screen\n",
    "## mkdir run4; cd run4\n",
    "## ls ../TCGA-[LPRST]*/*.bam > lt.list\n",
    "## bash ~/scripts/bamCov.sh lt.list\n",
    "### runtime: 29781\n",
    "### aws s3 cp 18SE.coverage.tsv s3://crownproject/tcga/181128_18SE/18SE.coverage.r4.tsv\n",
    "\n",
    "## ls */*.bam > bam.list\n",
    "##\n",
    "## bash ~/scripts/bamCov.sh bam.list\n",
    "\n",
    "## Requires: ~16h for complete set\n",
    "\n",
    "## paste run2/18SE.coverage.tsv run3/18SE.coverage.tsv run4/18SE.coverage.tsv > 18SE.coverage.all.tsv\n",
    "## gzip 18SE.coverage.all.tsv\n",
    "## aws s3 cp 18SE.coverage.all.tsv.gz s3://crownproject/tcga/181128_18SE/\n",
    "\n"
   ]
  },
  {
   "cell_type": "markdown",
   "metadata": {},
   "source": [
    "## Results\n",
    "\n",
    "Analysis R Markdown file: `~/Crown/data2/tcga_analysis/18SE_Assay/18SE.rmd`\n",
    "\n",
    "For 457 `01A` cases (red), with 40 paired `11A` control cases (blue) and 19 other `01B, 01C or 06A` (green).\n",
    "\n",
    "\n",
    "### Calculated using 18S Tail Region\n",
    "Using: \n",
    "```\n",
    "# Coordinates\n",
    "xy_18 = c(1850:1869) # 18S tail region\n",
    "xy_E  = c(1870:1949) # 18S-E unique region\n",
    "\n",
    "SE_ratio = coverage(xy_E) / coverage(xy_18)\n",
    "```\n",
    "\n",
    "#### Coverage vs. VAF\n",
    "![Coverage vs. VAF](../../data2/tcga_analysis/18SE_Assay/plots/coad_cov_v_vaf.png)\n",
    "\n",
    "There doesn't appear to be an association with cancerA `01A` library coverage at 18S tail region and the variant allele frequency (VAF) at 18S.1248U. Notably the `01B/C` libraries have higher coverage and consistantly very low VAF (near 5%) which suggests these samples are chemically distinct the the rest. I cannot find what the exact distinction between 01A and 01B library preperation is (if it is library prep), even within the same patient there is discordance in VAF, all B libraries are ultra-low VAF.\n",
    "\n",
    "Focusing on only `01A` libraries, there is a discontinuity in the data along the diagonal between cov = 9 and VAF = 40, with seemingly two clusters of data on either side of this line. Comparing `01A` libraries to the normal control `11A` libraries, it appears as though `01A and 11A` data is continuously distributed, with `01A` showing lower VAF values and slightly elevated coverage, although the cancer range of coverage at normo-VAF levels is greater then normal range, suggesting higher variability in the cancer data.\n",
    "\n",
    "#### SE Ratio vs. VAF\n",
    "![SE Ratio vs. VAF](../../data2/tcga_analysis/18SE_Assay/plots/coad_se_v_vaf)\n",
    "\n",
    "Calculating 18S-E / 18S Ratio, the majority of `01A` libraries show a low ratio (>0.25) which is consistant with normal 18S rRNA processing. This includes a large bulk of samples which are low-VAF (hypo-macp). This excludes that hypo-macp is a result of 18S rRNA biogenesis deficiency in CRC.\n",
    "\n",
    "Notably, there is a sub-set of libraries, both in normo-macp and hypo-macp range (arb. cut-off VAF = 40%) which have SE_ratio elevavtion which is consistent with a ribosome biogenesis deficiency phenotype. It is possible this is simply a carry-over of pre-rRNA in library preperation although the lack of association with macp-modification suggests this is not the case (also check other 18S rRNA modifications perhaps?).\n",
    "\n",
    "Note: SE-ratio is calculated using the tail region of 18S, this is why the ratio can approach or exceed 1.0.\n"
   ]
  },
  {
   "cell_type": "markdown",
   "metadata": {},
   "source": [
    "### Calculated using entire 18S coverage\n",
    "\n",
    "Using: \n",
    "```\n",
    "# Coordinates\n",
    "xy_18 = c(1:1869)    # 18S whole\n",
    "xy_E  = c(1870:1949) # 18S-E unique region\n",
    "\n",
    "SE_ratio = coverage(xy_E) / coverage(xy_18)\n",
    "```\n",
    "\n",
    "#### Coverage vs. VAF\n",
    "![Coverage vs. VAF](../../data2/tcga_analysis/18SE_Assay/plots/coad_cov18S_v_vaf.png)\n",
    "\n",
    "Same trend as above, there does not appear to be a correlation between VAF and mean coverage over the entire 18S.\n",
    "\n",
    "#### SE Ratio vs. VAF\n",
    "![SE Ratio vs. VAF](../../data2/tcga_analysis/18SE_Assay/plots/coad_se18S_v_vaf.png)\n",
    "\n",
    "This plot is log-scaled 18S-E tail to 18S ratio. There is a distinct correlation here between 18S-E and VAF. Note the 'shadow' of high 18S-E libraries which have higher (shift left) modification. This is consistant with libraries which have comparable levels of modification (x-axis) but higher relative levels of 18S-E (precursor accumulation) than the majority of libraries. The reasoning for this can be that these are very-late stage biogenesis defects, or perhaps the exonucleases responsible for 18S-E processing is disrupted but ribogenesis continues. Parsing out the difference between these populations at RNA-seq expression level may be of significant interest.\n",
    "\n",
    "\n"
   ]
  },
  {
   "cell_type": "markdown",
   "metadata": {},
   "source": [
    "## Discussion\n"
   ]
  }
 ],
 "metadata": {
  "kernelspec": {
   "display_name": "Bash",
   "language": "bash",
   "name": "bash"
  },
  "language_info": {
   "codemirror_mode": "shell",
   "file_extension": ".sh",
   "mimetype": "text/x-sh",
   "name": "bash"
  }
 },
 "nbformat": 4,
 "nbformat_minor": 1
}
