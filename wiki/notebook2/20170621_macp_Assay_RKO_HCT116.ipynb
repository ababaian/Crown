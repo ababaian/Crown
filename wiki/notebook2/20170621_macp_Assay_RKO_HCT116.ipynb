{
 "cells": [
  {
   "cell_type": "markdown",
   "metadata": {},
   "source": [
    "# MACP Assay - RKO, HCT116 CRC Lines\n",
    "```\n",
    "pi:ababaian\n",
    "files: ~/Crown/data2/macp/\n",
    "start: 2016 06 08\n",
    "complete : YYYY MM DD\n",
    "```\n",
    "## Introduction\n",
    "\n",
    "[ Why RKO and HCT116 ]\n"
   ]
  },
  {
   "cell_type": "markdown",
   "metadata": {
    "collapsed": true
   },
   "source": [
    "## Objective\n",
    "\n",
    "- Is there a measurable MACP-phenotype under controlled/identical extraction and conversion conditions\n",
    "- ...\n"
   ]
  },
  {
   "cell_type": "markdown",
   "metadata": {},
   "source": [
    "## Materials and Methods\n",
    "\n",
    "..."
   ]
  },
  {
   "cell_type": "markdown",
   "metadata": {},
   "source": [
    "## Cell Culture\n",
    "\n",
    "### p1 Thawing Cells -- 170608\n",
    "\n",
    "From Box 293G (FL) two vials taken\n",
    "- 7F : HCT116 Cells (FL). '2/11/15'\n",
    "- 6A : RKO Cells (FL). '17-4-14, 2x10^6 cells'\n",
    "\n",
    "Cells thawed rapidly in 37'C bath, entire vials placed into 5 mL prewarmed media in T-25 flask. Designated p1 with respect to aquisition.\n",
    "\n",
    "Media changed for fresh media next AM.\n",
    "\n",
    "Using previous DMEM media (15% FBS, 2mM Glutamine)\n",
    "\n",
    "### p2 -- 170611\n",
    "\n",
    "#### RKO\n",
    "- Wash cells with 5 ml warm PBS\n",
    "- 1.5 mL Trypsin EDTA added, incubated ~15 minutes at 37'C\n",
    "- Diluted cell suspension into 8.5 mL media\n",
    "- Cell Count (5 + 5 squares, 1:1 dilution in Trypan Blue)\n",
    "    * 96 + 87 => 3.66 e5 cells/mL\n",
    "- 4.0 mL of suspension added to 6.0 mL media in T-75 flask\n",
    "\n",
    "#### HCT116\n",
    "- Wash cells with 5 ml warm PBS\n",
    "- 1.5 mL Trypsin EDTA added, incubated ~5 minutes at 37'C\n",
    "- Diluted cell suspension into 8.5 mL media\n",
    "- Cell Count (5 squares, 1:1)\n",
    "    * 358 => 1.432 e6 cells/mL\n",
    "- 1.05 mL suspension added to 8.95 mL media in T-75 flask\n",
    "\n",
    "Media exchanged - 170614\n",
    "\n",
    "### p3 -- 170617\n",
    "\n",
    "#### RKO\n",
    "- Wash cells with 10 ml warm PBS\n",
    "- Passaged as above\n",
    "- 3 mL of Trypsin added to T-75. Cells significantly clumped around an extracellular matrix of some sort. A large number were this 'clump' which was difficult to dissociate via pipetting. Possibly extracellular DNA (add DNase?).\n",
    "- 10 mL Cell supsension created.\n",
    "- Count: (5+5sq) 28(3) + 26(1) (1:1) => 1.08 e5 cells\n",
    "- all 10 mL used for p3 in T-75\n",
    "\n",
    "- Cell 'clump' in Trypsin was further pipetted to dissociate cells\n",
    "- 7 mL second cell supsension count: 20 + 16 => 7.2 e4 cells/mL\n",
    "- 1 mL (72k cells) plated into 6 out of 12-well plate.\n",
    "\n",
    "#### HCT116\n",
    "- Wash cells with 10 ml warm PBS\n",
    "- Passaged as above (3 mL Trypsin)\n",
    "- Count (5+5sq, 1:1): 391 + 617 => 2.01 e6 cells/mL\n",
    "- 358 uL plated into 10 mL for p3 in T-75\n",
    "- Three additional 10 mm dishes were seeded for use as above.\n",
    "\n",
    "- Cell suspension diluted with media\n",
    "- Count (5+5sq, 1:1): 29 + 24 => 1.06e5 cell/mL\n",
    "- 1 mL (72k cells) plated into 6 out of 12-well plate.\n",
    "\n",
    "Media exchanged - 170620"
   ]
  },
  {
   "cell_type": "markdown",
   "metadata": {},
   "source": [
    "## Antibiotic Treatment\n",
    "\n",
    "### Initial Test - Hygromycin B -- 170617\n",
    "\n",
    "- RKO and HCT116 cells seeded in 12-well plate at 72k / 105k cells/well respectively\n",
    "- Hygromycin B solution (20 mg/mL in PBS) from 4'C fridge in DM lab\n",
    "\n",
    "| [Hygromycin B] | Diluent (Stock) | Dilutent (Media) |\n",
    "|----------------|-----------------|------------------|\n",
    "| 2000 ug / mL   | 400 ul Stock    | 3.6 mL           |\n",
    "| 200  ug / mL   | 400 ul above    | 3.6 mL           |\n",
    "| 20   ug / mL   | 400 ul above    | 3.6 mL           |\n",
    "| 2    ug / mL   | 400 ul above    | 3.6 mL           |\n",
    "| 0.2  ug / mL   | 400 ul above    | 3.6 mL           |\n",
    "| 0    ug / mL   | 0               | 3.6 mL           |\n",
    "\n",
    "- Added 1 mL of the above solutions to wells\n",
    "\n",
    "Cell Plating:\n",
    "\n",
    "|   | 1 | 2 | 3 | 4 |\n",
    "|---|---|---|---|---|\n",
    "| A |RKO   |RKO   |HCT116   |HCT116   |\n",
    "| B |RKO   |RKO   |HCT116   |HCT116   |\n",
    "| C |RKO   |RKO   |HCT116   |HCT116   |\n",
    "\n",
    "\n",
    "Hygromycin B Tx:\n",
    "\n",
    "|   | 1 | 2 | 3 | 4 |\n",
    "|---|---|---|---|---|\n",
    "| A |1000   |100   |1000   |100   |\n",
    "| B |10     |1     |10     |1     |\n",
    "| C |0.1    |0     |0.1    |0     |\n",
    "\n",
    "\n",
    "#### 48 hours post treatment\n",
    "Qualitatively RKO cells seem less effected than HCT116 cells (resistent?)\n",
    "Both high (1000 ug/mL) treatment cells seem to be doing poorly, they are round/unattached.\n",
    "\n",
    "#### 72 hours post treatment\n",
    "There is a noticable yellowing in media color in HCT166 B/C rows (\\<10 ug/mL) and not in the remaining wells.\n",
    "\n",
    "Both high treatment cells are dead/dying visible. RKO cells at 100 ug/mL look healthier than their repsective HCT116 counterparts, probably closer to the 10 ug/mL HCT116 cells with a slight effect. This is the opposite of what was expected.\n",
    "\n",
    "Overall this 'overshot' the dilution for HyB, the useful or IC50 range seems to be between 1000 ug and 100 ug. Repeat with more dilutions at the higher concentrations and with a method to assess quantitatively.\n",
    "\n",
    "The expected hypersensitivity of hypo-MACP (RKO cells) is not observed, if anything these cells are more resistent to HyB than the HCT116 cell counterparts.\n",
    "\n",
    "### Cycloheximide Stock Solution Prep -- 170620\n",
    "\n",
    "From Veena in PS lab I got a powdered stock of Cycloheximide.\n",
    "- Sigma Cat# C7698-G, Lot # MKBR7099V Pcode 1001802701\n",
    "\n",
    "- Weighed empty microfuge tube: 0.99306 g\n",
    "- Added CHX: 1.16190 g\n",
    "- 0.16884 g CHX powder\n",
    "\n",
    "- To make 150 mg /mL Stock solution of CHX\n",
    "- Added 168.84 mg CHX to 1125.6 uL DMSO (0.22 uM filtered)\n",
    "- Vortex to mix\n",
    "- Resuspended CHX 0.22 uM filitered, created 11x 100 uL aliquotes\n",
    "- Frozen at -20'C with other 'Antibiotics'"
   ]
  },
  {
   "cell_type": "markdown",
   "metadata": {},
   "source": [
    "## Results\n"
   ]
  },
  {
   "cell_type": "markdown",
   "metadata": {},
   "source": [
    "## Discussion\n"
   ]
  }
 ],
 "metadata": {
  "kernelspec": {
   "display_name": "Bash",
   "language": "bash",
   "name": "bash"
  },
  "language_info": {
   "codemirror_mode": "shell",
   "file_extension": ".sh",
   "mimetype": "text/x-sh",
   "name": "bash"
  }
 },
 "nbformat": 4,
 "nbformat_minor": 1
}
