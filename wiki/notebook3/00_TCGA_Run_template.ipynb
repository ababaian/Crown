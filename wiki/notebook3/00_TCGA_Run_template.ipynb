{
 "cells": [
  {
   "cell_type": "markdown",
   "metadata": {},
   "source": [
    "# TCGA2 - XXXX\n",
    "```\n",
    "pi:ababaian\n",
    "files: ~/Crown/data2/tcga2_#_xxxx/\n",
    "start: 2019 05 07\n",
    "complete : YYYY MM DD\n",
    "```\n",
    "## Introduction\n",
    "\n",
    "Details about this cohort/analysis group.\n"
   ]
  },
  {
   "cell_type": "markdown",
   "metadata": {
    "collapsed": true
   },
   "source": [
    "## Objective\n",
    "\n",
    "1. Align this set of TCGA seq data to the `hgr1` reference sequence for further analysis\n"
   ]
  },
  {
   "cell_type": "markdown",
   "metadata": {},
   "source": [
    "## Matererials and Methods"
   ]
  },
  {
   "cell_type": "markdown",
   "metadata": {},
   "source": [
    "### Data Initialization\n"
   ]
  },
  {
   "cell_type": "markdown",
   "metadata": {},
   "source": [
    "From the GDC/TCGA website, this cohort of data was selected with the following filter command.\n",
    "\n",
    "```\n",
    "cases.project.project_id in [\"TCGA-COAD\"] and files.data_format in [\"BAM\"] and ...\n",
    "```\n",
    "\n",
    "The `Sample Sheet`, `File Manifest`, and `Biospecimen` data for this selection was downloaded. This is stored in `$PWD\\metadata`\n",
    "\n",
    "In the `TCGA_File_Selection.xlsx` spreadsheet, this set of files was filtered/parsed to\n",
    "\n",
    "1. Remove files already aligned in the `tcga1` set, as defined in `~/Crown/data2/tcga2_pilot/tcga1_filelist.bamlist`\n",
    "\n",
    "2. If there is a technical replicate of the same sample, they will share a SampleID (`TCGA-XX-####-01A`), add a replicate suffix to make naming unique downstream (`TCGA-XX-####-01Ax`) where x = {a,b,c...}\n",
    "\n",
    "\n",
    "The output of this parsing is copied to the input file: `tcga2_XXXX_input.txt`"
   ]
  },
  {
   "cell_type": "markdown",
   "metadata": {},
   "source": [
    "### Scripts and Localization"
   ]
  },
  {
   "cell_type": "markdown",
   "metadata": {},
   "source": [
    "#### 1 - Localization"
   ]
  },
  {
   "cell_type": "code",
   "execution_count": null,
   "metadata": {},
   "outputs": [],
   "source": [
    "WORKDIR='/home/artem/Crown/data2/tcga2_n_xxxx'\n",
    "cd $WORKDIR\n",
    "ls\n",
    "\n",
    "# Amazon AWS S3 Home URL\n",
    "S3URL='s3://crownproject/tcga2'"
   ]
  },
  {
   "cell_type": "code",
   "execution_count": null,
   "metadata": {},
   "outputs": [],
   "source": [
    "INPUT='input_tcga2.txt'\n",
    "\n",
    "cat $INPUT"
   ]
  },
  {
   "cell_type": "markdown",
   "metadata": {},
   "source": [
    "#### 2 - Script Versions"
   ]
  },
  {
   "cell_type": "code",
   "execution_count": null,
   "metadata": {},
   "outputs": [],
   "source": [
    "cd $WORKDIR\n",
    "# Echo scripts to be used for this analysis for version control.\n",
    "# Note these need to be manually copied to the $WORKDIR\n",
    "\n",
    "cat hgr1_align_v3.tcga.sh\n",
    "echo \n",
    "echo\n",
    "cat queenB.sh\n",
    "echo \n",
    "echo\n",
    "cat droneB.sh\n",
    "echo \n",
    "echo "
   ]
  },
  {
   "cell_type": "markdown",
   "metadata": {},
   "source": [
    "## Results - TCGA2 Pilot Run\n",
    "\n"
   ]
  },
  {
   "cell_type": "markdown",
   "metadata": {},
   "source": [
    "#### 3 - Copy local to S3"
   ]
  },
  {
   "cell_type": "code",
   "execution_count": null,
   "metadata": {},
   "outputs": [],
   "source": [
    "# Local Folder Operations -----------------------------\n",
    "# LOCAL:\n",
    "cd $WORKDIR\n",
    "\n",
    "#NOTE For pilot run, AWS s3 shutdown commented out. Re-upload hgr1 script upon full run\n",
    "\n",
    "aws s3 cp queenB.sh $S3URL/scripts/\n",
    "aws s3 cp droneB.sh $S3URL/scripts/\n",
    "aws s3 cp hgr1_align_v3.tcga.sh $S3URL/scripts/\n",
    "aws s3 cp $INPUT $S3URL/scripts/\n",
    "aws s3 cp ../../gdc.token.txt $S3URL/scripts/gdc.token\n"
   ]
  },
  {
   "cell_type": "markdown",
   "metadata": {},
   "source": [
    "#### 4 - Launch and run master EC2 node"
   ]
  },
  {
   "cell_type": "code",
   "execution_count": null,
   "metadata": {},
   "outputs": [],
   "source": [
    "# Remote EC2 Instance Operations ----------------------\n",
    "\n",
    "# Remote:\n",
    "# Manually open an Amazon Linux 2 AMI\n",
    "# ami-061392db613a6357b\n",
    "# t2.micro\n",
    "#\n",
    "# ssh login:\n",
    "# ssh -i \"crown.pem\" ec2-user@PUBLICDNS\n",
    "#\n",
    "\n",
    "# Commands on EC2 machine to set-up AWS\n",
    "# enter personal login info:\n",
    "\n",
    "# REMOTE:\n",
    "#aws configure\n",
    "  # AWS Key ID\n",
    "  # AWS Secret Key ID\n",
    "  # Region: us-west-2\n",
    "  \n",
    "# Copy local run files to S3 and download them on EC2\n",
    "\n",
    "# REMOTE:\n",
    "# aws s3 cp --recursive s3://crownproject/tcga2/scripts/ ./\n",
    "#\n",
    "# mv <KEY>.pem ~/.ssh/\n",
    "# chmod 400 ~/.ssh/<KEY>.pem\n",
    "\n",
    "# REMOTE:\n",
    "# Open logging screen and being launchign EC2 instances\n",
    "# screen -L\n",
    "# \n",
    "# bash queenB.sh input_tcga2.txt\n",
    "#\n",
    "# aws s3 cp screenlog.0 s3://crownproject/tcga2/logs/tcga2_pilot.log\n",
    "\n",
    "aws s3 cp s3://crownproject/tcga2/logs/tcga2_pilot.log ./\n",
    "cat tcga2_pilot.log\n",
    "\n",
    "# Run completed successfully"
   ]
  },
  {
   "cell_type": "markdown",
   "metadata": {},
   "source": [
    "## Discussion\n",
    "\n",
    "Notes about run.\n",
    "\n"
   ]
  },
  {
   "cell_type": "markdown",
   "metadata": {},
   "source": [
    "### Errors / Debugging\n"
   ]
  }
 ],
 "metadata": {
  "kernelspec": {
   "display_name": "Bash",
   "language": "bash",
   "name": "bash"
  },
  "language_info": {
   "codemirror_mode": "shell",
   "file_extension": ".sh",
   "mimetype": "text/x-sh",
   "name": "bash"
  }
 },
 "nbformat": 4,
 "nbformat_minor": 1
}
