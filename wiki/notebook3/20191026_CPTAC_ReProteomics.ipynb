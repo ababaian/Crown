{
 "cells": [
  {
   "cell_type": "markdown",
   "metadata": {},
   "source": [
    "# CPTAC Proteomics Re-Analysis\n",
    "```\n",
    "pi:ababaian\n",
    "files: ~/Crown/data/..\n",
    "start: 2019 10 26\n",
    "complete : YYYY MM DD\n",
    "```\n",
    "## Introduction\n",
    "\n",
    "Loo\n"
   ]
  },
  {
   "cell_type": "markdown",
   "metadata": {
    "collapsed": true
   },
   "source": [
    "## Objective\n",
    "\n",
    "For the CPTAC-CRC proteomics data, compare translation quality in cancer vs. normal and hypo- vs. normo-macp cancers for a set of proteins.\n",
    "\n",
    "- [ ] Measure alternative start site selection\n",
    "- [ ] Measure amino acid misincorporation\n",
    "- [ ] Measure frame-shifting\n"
   ]
  },
  {
   "cell_type": "markdown",
   "metadata": {},
   "source": [
    "## Materials and Methods\n",
    "\n"
   ]
  },
  {
   "cell_type": "markdown",
   "metadata": {
    "heading_collapsed": true
   },
   "source": [
    "### Proteomic Data Analysis\n",
    "From `Vasaikar et al., 2019`\n"
   ]
  },
  {
   "cell_type": "markdown",
   "metadata": {
    "hidden": true
   },
   "source": [
    "```\n",
    "Label-free Proteomics Data Analysis\n",
    "\n",
    "Label-free shotgun proteomic analyses of the colon tumor samples were done according to the methods described previously(Zhang et al., 2014), with two changes. First, 6 concatenated basic reverse phase LC fractions were prepared from tryptic digestsusing the same instrumentation described previously. Second, LC-MS/MS analyses were done with a ThermoFisher QExactiveMS instrument. LC-MS/MS shotgun proteomics of the concatenated fraction samples were carried out on a Q Exactive mass spec-trometer (ThermoFisher Scientific) equipped with an Easy nLC-1000 (ThermoFisher Scientific) and a Nanoflex source (ThermoFisherScientific). A 2mL injection volume of peptides were separated on a PicoFrit (New Objective, Woburn, MA) column (75mmIDx110 mm, 10mm ID tip) packed with ReproSil-Pur C18-AQ resin (3mm particle size and 120 A ̊pore size). Peptides were eluted at aflow rate of 300 nL/min, and the mobile phase solvents consisted of water containing 0.1% formic acid (solvent A) and acetonitrilecontaining 0.1% formic acid (solvent B).A 100-minute gradient was performed, consisting of the following: 0\u00015 min, increase to 5% B; 5-90 min, 5\u000135% B; 90-93 min,90% B; 93-100 min, 90% B and held at 90% B for 7 min before returning to the initial conditions of 2% B. Mass spectra were acquiredover the scan range ofm/z300-1800 at a resolution of 70,000 (AGC target 3 x106and 64 ms max injection time). Data-dependentscans of the top 20 most abundant ions were selected for fragmentation with HCD using an isolation width of 2m/z, 27% normalizedcollision energy and a resolution of 17,500 (AGC target 2 x105and 100 ms max injection time). Dynamic exclusion was set to 60 s.\n",
    "\n",
    "The raw MS data were converted to MGF and mzML files using ProteoWizard (version 3.0.10462). The MS/MS data were searched by three search engines (MyriMatch version 2.2.10165, X!Tandem version Alanine 2017.02.01, and MS-GF+ version 2017.01.13) through IPeak (Wen et al., 2014, 2015) against the RefSeq protein database (03/29/2017, 45929 sequences + 245 contaminant se-quences) with decoy sequences. The following parameters were set for database searching: Carbamidomethyl (C) was specified as afixed modification. Oxidation (M) and Deamidated (NQ) were specified as variable modifications. The precursor mass tolerance forprotein identification on MS was 10 ppm, and the product ion tolerance for MS/MS was 0.05 Da. Full cleavage by trypsin was used,with up to two missed cleavages permitted. The results from the three search engines were then integrated by IPeak, which is a toolthat combines multiple search engine results. To optimize the number of proteins identified we applied a very stringent filter at 0.1%PSM FDR. Then the protein inference was performed and 1% FDR was controlled using the ‘‘picked’’ protein FDR approach (Savitskiet al., 2015). To rescue high quality PSMs that were excluded by the stringent PSM FDR threshold, we relaxed the PSM FDR thresholdto 1% for the confidently identified proteins.Spectral count data were filtered by removing proteins with zero counts in all samples and quantile-normalized using the R pack-age preprocessCore (version 1.42.0,https://github.com/bmbolstad/preprocessCore). We further filtered low abundant proteins withaverage raw count < 1.4 as we did previously (Zhang et al., 2014). The normalized and filtered counts were then log2 transformed fordownstream analysis.\n",
    "```\n",
    "\n",
    "```\n",
    "Protein Extraction and Tryptic Digestion for TMT Analysis\n",
    "\n",
    "For TMT analysis, the tumor and normal colon tissue samples were obtained as OCT-embedded tissue curls through the CPTACBiospecimen Core Resource. Approximately 100 mg of each of the samples were first subjected to OCT removal procedure bysequential rinsing in 70% ethanol, nanopure water, and 100% ethanol. The tissue samples were then homogenized separately in600mL of lysis buffer (8 M urea, 100 mM NH4HCO3, pH 7.8, 75 mM NaCl, 1 mM EDTA, 10 mM NaF, Sigma phosphatase inhibitorcocktail 2, Sigma phosphatase inhibitor cocktail 3, and 20mM PUGNAc). Lysates were precleared by centrifugation at 16,500 gfor 5 min at 4\u000eC and protein concentrations were determined by BCA assay (Pierce). Proteins were reduced with 5 mM dithiothreitolfor 1 h at 37\u000eC, and subsequently alkylated with 10 mM iodoacetamide for 45 min at 25\u000eC in the dark. Samples were diluted 1:2 with100 mM NH4HCO3, 1 mM CaCl2and digested with sequencing grade modified trypsin (Promega) at 1:50 enzyme-to-substrate ratio.After 3 h of digestion at 37\u000eC, samples were diluted 1:4 with the same buffers and another aliquot of the same amount of trypsin wasadded to the samples and further incubated at 25\u000eC overnight (\u001816 h). The digested samples were then acidified with 100% formicacid to 1% formic acid in the final sample solution. Tryptic peptides were desalted on reversed phase C18 SPE columns (Waters tC18SepPak, 200mg) and dried using Speed-Vac.\n",
    "\n",
    "TMT-10 Labeling of Peptides\n",
    "\n",
    "Desalted peptides from each sample were labeled with 10-plex Tandem Mass Tag (TMT) reagents according to the manufacturer’sinstructions (ThermoScientific). Peptides (300mg) from each of the samples were dissolved in 300mL of 50 mM HEPES, pH 8.5, andmixed with 3 units of TMT reagent that was dissolved freshly in 123mL of anhydrous acetonitrile. Channel 131 was used for labelingthe internal reference sample (pooled from all tumor and normal samples with equal contribution) throughout the sample analysis.After 1 h incubation at RT, 24mL of 5% hydroxylamine was added and incubated for 15 min at RT to quench the reaction. Peptideslabeled by different TMT reagents were then mixed, dried using Speed-Vac, reconstituted with 3% acetonitrile, 0.1% formic acid andwere desalted on C18 SPE columns (Waters tC18 SepPak, 200mg).\n",
    "\n",
    "\n",
    "Peptide Fractionation by Basic Reversed-phase Liquid Chromatography\n",
    "\n",
    "Approximately 2.5 mg of 10-plex TMT labeled sample was separated on a Waters reversed phase XBridge C18 column (250 mm34.6 mm column containing 5-mm particles, and a 4.6 mm320 mm guard column) using an Agilent 1200 HPLC System. After thesample loading, the C18 column was washed for 35 min with solvent A (5 mM ammonium formate, pH 10.0), before applying a100-min LC gradient with solvent B (5 mM ammonium formate, pH 10, 90% acetonitrile). The LC gradient started with a linear in-crease of solvent A to 10% B in 6 min, then linearly increased to 30% B in 86 min, 10 min to 43% B, 5 min to 55% B and another8 min back to 100% B. The flow rate was 0.5 mL/min. A total of 96 fractions were collected into a 96 well plate throughout the LCgradient. These fractions were concatenated into 12 fractions by combining 8 fractions that are 12 fractions apart (i.e., combiningfractions #1, #13, #25, #37, #49, #61, #73, and #85; #2, #14, #26, #38, #50, #62, #74, and #86; and so on). For proteome analysis,5% of each concatenated fraction was dried down and re-suspended in 2% acetonitrile, 0.1% formic acid to a peptide concentrationof 0.1mg/mL for LC-MS/MS analysis. The rest of the concatenated fractions (95%) were further concatenated into 6 fractions bycombining two concatenated fractions (i.e., combining concatenated fractions #1 and #7; #2 and #8; and so on), dried down, andsubjected to immobilized metal affinity chromatography (IMAC) for phosphopeptide enrichment\n",
    "```\n",
    "\n",
    "```\n",
    "LC-MS/MS for TMT Global Proteome Analysis\n",
    "\n",
    "The global proteome fractions were separated using a nanoAquity UPLC system (Waters Corporation) by reversed-phase HPLC. Theanalytical column was manufactured in-house using ReproSil-Pur 120 C18-AQ 1.9mm stationary phase (Dr. Maisch GmbH) and slurrypacked into a 30-cm length of 360mm o.d. x 75mm i.d. fused silica containing a 3-mm sol-gel frit. The trapping column wasmanufactured in-house using Jupiter 300 C18 5-mm stationary phase (Phenomenex) and slurry packed into a 4-cm length of360mm o.d. x 150mm i.d. fused silica with the final column being sol-gel fritted on both ends. The analytical column was heatedto 50\u000eC using an AgileSLEEVE column heater (Analytical Sales and Services, Inc.). The analytical column was equilibrated to 95%Mobile Phase A (MP A, 0.1% formic acid in water) and 5% Mobile Phase B (MP B, 0.1% formic acid in acetonitrile) and maintainedat a constant column flow of 200 nL/min. The sample injected (5-mL) was trapped using 100% MP A for 10 min at flow rate of 3mL/minbefore being placed in-line with the analytical column and subjected to the gradient profile (min: %MP B): 0:5, 1:8, 44:15, 85:30,94:55, 102:70, 105:95, 108:95, 115:5, 150:5.MS analysis was performed using a Q-Exactive Plus mass spectrometer (Thermo Scientific, San Jose, CA). Electrospray voltage(2.2 kV) was applied at a carbon composite union (Valco Instruments Co. Inc.) between the analytical column and electrospray emitter(chemically etched 360-mm o.d. x 20-mm i.d.). The ion transfer tube was set at 250\u000eC. Following a 15-min delay from the end of sampletrapping, Orbitrap precursor spectra (AGC 1x106) were collected from 300-1800 m/z for 120 minutes at a resolution of 70K along withthe top 12 data dependent Orbitrap HCD MS/MS spectra at a resolution of 35K (AGC 1x105) and max ion time of 100 msec. Massesselected for MS/MS were isolated at a width of 0.7 m/z and fragmented using a normalized collision energy of 32%. Peptide matchwas set to ‘Preferred’, exclude isotopes was set to ‘on’, and charge state screening was enabled to reject unassigned 1+, 7+, 8+, and> 8+ ions with a dynamic exclusion time of 20 s to discriminate against previously analyzed ions.\n",
    "```\n",
    "\n",
    "```\n",
    "Trypsin Specificity:\n",
    "\n",
    "Trypsin cleaves peptides on the C-terminal side of lysine and arginine amino acid residues. If a proline residue is on the carboxyl side of the cleavage site, the cleavage will not occur. If an acidic residue is on either side of the cleavage site, the rate of hydrolysis has been shown to be slower.\n",
    "```\n"
   ]
  },
  {
   "cell_type": "markdown",
   "metadata": {},
   "source": [
    "### Data\n",
    "\n",
    "- Paper [Vasaikar et al.](https://www.cell.com/action/showPdf?pii=S0092-8674%2819%2930292-2)\n",
    "- Download mzML data on [CPTAC Website](https://cptac-data-portal.georgetown.edu/cptac/s/S037)\n",
    "- Downloaded pilot mzML data from `01CPTAC_COprospective_Proteome_PNNL_20170123`\n",
    "\n",
    "\n",
    "### Software\n",
    "\n",
    "- The `iPeak` software appears to be renamed to `ProteoAnnotator` at [link](http://www.proteoannotator.org/) - [zip](http://www.proteoannotator.org/datasets/releases/ProteoAnnotator-1.7.86.zip) [test data](http://www.proteoannotator.org/datasets/releases/pa_test.zip)\n",
    "\n",
    "- [MS-GF+ v. 2019.07.03](https://github.com/MSGFPlus/msgfplus/releases) - [zip](https://github.com/MSGFPlus/msgfplus/releases/download/v2019.07.03/MSGFPlus_v20190703.zip) [docs](https://msgfplus.github.io/msgfplus/MSGFPlus.html)\n",
    "\n",
    "- The `PGA` package in R [link](https://bioconductor.org/packages/release/bioc/vignettes/PGA/inst/doc/PGA.pdf) may also be a way of accomplishing this.\n",
    "\n",
    "- There is `RforProteomics` which I will walk-through and see if this is feasible. [link](https://www.bioconductor.org/packages/release/data/experiment/vignettes/RforProteomics/inst/doc/RforProteomics.html)\n",
    "\n",
    "- SearchGui Links: [User Defined Modifications](https://github.com/compomics/searchgui#user-defined-modifications) [CommandLine Interface](https://github.com/compomics/searchgui/wiki/SearchCLI)\n"
   ]
  },
  {
   "cell_type": "markdown",
   "metadata": {},
   "source": [
    "## Results\n"
   ]
  },
  {
   "cell_type": "markdown",
   "metadata": {},
   "source": [
    "## Discussion\n"
   ]
  }
 ],
 "metadata": {
  "kernelspec": {
   "display_name": "Bash",
   "language": "bash",
   "name": "bash"
  },
  "language_info": {
   "codemirror_mode": "shell",
   "file_extension": ".sh",
   "mimetype": "text/x-sh",
   "name": "bash"
  }
 },
 "nbformat": 4,
 "nbformat_minor": 1
}
