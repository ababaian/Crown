{
 "cells": [
  {
   "cell_type": "markdown",
   "metadata": {},
   "source": [
    "# Crown  - Amazon EC2 Instance Update (AMI)\n",
    "```\n",
    "pi:ababaian\n",
    "files: ~/Crown/data/..\n",
    "start: 2019 05 07\n",
    "complete : YYYY MM DD\n",
    "```\n",
    "## Introduction\n",
    "\n",
    "EC2 has a feature called \"Enhanced Network Adaptor\" (ENA), this gives access to a new set of instance types (C5, X5...) which may have faster networking and are currently cheapter to run.\n",
    "\n",
    "The following scripts are for the initialization of an updated AMI (and some software upgrades), hopefully will improve analysis.\n",
    "\n",
    "[ ON HOLD THIS MIGHT NOT REALLY BE NECCESARY / WORTH THE UPDATE ]\n"
   ]
  },
  {
   "cell_type": "markdown",
   "metadata": {
    "collapsed": true
   },
   "source": [
    "## Objective\n"
   ]
  },
  {
   "cell_type": "markdown",
   "metadata": {},
   "source": [
    "## Materials and Methods\n"
   ]
  },
  {
   "cell_type": "code",
   "execution_count": null,
   "metadata": {},
   "outputs": [],
   "source": [
    "# Setting up X-server on EC2\n",
    "# Launch Crown AMI on T2.Large\n",
    "\n",
    "# ssh -i \"~/.ssh/<key.pem>\" ubuntu@ec2-34-214-32-151.us-west-2.compute.amazonaws.com\n",
    "\n",
    "\n",
    "## REMOTE COMMANDS:\n",
    "## Kill apt processes for update\n",
    "\n",
    "#ps -A | grep apt\n",
    "#sudo kill -9 741\n",
    "\n",
    "## Update\n",
    "#sudo apt-get update\n",
    "#sudo apt-get install ubuntu-desktop\n",
    "\n",
    "#sudo apt-get install vnc4server\n",
    "#sudo apt-get install x11vnc\n",
    "#x11vnc -storepasswd\n",
    "#sudo apt-get install gnome-core gnome-session-flashback gnome-session-wayland\n",
    "## select lightdm\n",
    "\n",
    "\n",
    "#vncserver\n",
    "#vncserver -kill :1  #(to get the default xstartup file)\n",
    "\n",
    "#"
   ]
  },
  {
   "cell_type": "markdown",
   "metadata": {},
   "source": [
    "edit $HOME/.vnc/xstartup to look like this:\n",
    "\n",
    "```\n",
    "#!/bin/sh\n",
    "\n",
    "# Uncomment the following two lines for normal desktop:\n",
    "unset SESSION_MANAGER\n",
    "#exec /etc/X11/xinit/xinitrc\n",
    "gnome-session --session=gnome-classic &\n",
    "\n",
    "[ -x /etc/vnc/xstartup ] && exec /etc/vnc/xstartup\n",
    "[ -r $HOME/.Xresources ] && xrdb $HOME/.Xresources\n",
    "xsetroot -solid grey\n",
    "vncconfig -iconic &\n",
    "#x-terminal-emulator -geometry 80×24+10+10 -ls -title “$VNCDESKTOP Desktop” &\n",
    "#x-window-manager &\n",
    "```"
   ]
  },
  {
   "cell_type": "code",
   "execution_count": null,
   "metadata": {},
   "outputs": [],
   "source": [
    "## ON REMOTE:\n",
    "\n",
    "## Set pw for ubuntu user (admin)\n",
    "sudo passwd ubuntu\n",
    "\n",
    "## reboot system\n",
    "sudo reboot\n",
    "\n",
    "## Launch x11 VNC\n",
    "#sudo x11vnc -xkb -noxrecord -noxfixes -noxdamage -localhost -display :0 -auth /var/run/lightdm/root/:0 -usepw\n",
    "sudo x11vnc -xkb -localhost -display :0 -auth /var/run/lightdm/root/:0 -usepw\n",
    "\n",
    "\n",
    "\n",
    "## ON LOCAL:\n",
    "\n",
    "## Open SSH Tunnel with port forwarding from local to remote\n",
    "ssh -i \"~/.ssh/<key>.pem\" -L 5901:localhost:5901 ubuntu@<EC2 PUBLIC DNS>\n",
    "\n",
    "ssh -i \"~/.ssh/<key>.pem\" -L 5901:localhost:5901 ubuntu@<EC2 PUBLIC DNS>\n",
    "\n",
    "ssh -i \"~/.ssh/CrownKey.pem\" -L 5901:localhost:5901 ubuntu@ec2-52-43-112-212.us-west-2.compute.amazonaws.com\n",
    "\n",
    "## NEW LOCAL TERMINAL:\n",
    "vncviewer localhost:1"
   ]
  },
  {
   "cell_type": "markdown",
   "metadata": {},
   "source": [
    "## Results\n"
   ]
  },
  {
   "cell_type": "markdown",
   "metadata": {},
   "source": [
    "## Discussion\n"
   ]
  }
 ],
 "metadata": {
  "kernelspec": {
   "display_name": "Bash",
   "language": "bash",
   "name": "bash"
  },
  "language_info": {
   "codemirror_mode": "shell",
   "file_extension": ".sh",
   "mimetype": "text/x-sh",
   "name": "bash"
  }
 },
 "nbformat": 4,
 "nbformat_minor": 1
}
