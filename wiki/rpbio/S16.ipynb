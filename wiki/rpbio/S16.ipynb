{
 "cells": [
  {
   "cell_type": "markdown",
   "metadata": {},
   "source": [
    "# RPS16 ( uS9 )\n",
    "\n",
    "## Interaction with S5\n",
    "\n",
    "- RPS5 N-terminal domain (NTD) interacts with RPS16 C-terminal tail (CTT)\n",
    "\n",
    "- RPS5/16 mediates Ternary Complex interaction (eIF2 - GTP - Met_tRNAi)\n",
    "Using *GCN4* ORF reporter construct [Review](https://www.ncbi.nlm.nih.gov/pubmed/16153175) to assay for translational re-initiation via uORFs. RPS5 residues 24-46 (CTD loop) are neccesary for efficient re-initiation (specifically) to take place.\n",
    "\n",
    "- RPS5_NTD or RPS16_CTT hydrolizes eIF2-GTP in TC\n",
    "\n",
    "- RPS16 interacts with P-site Met_tRNAi\n",
    "\n",
    "- Yeast: RPS5 K45 <--> RPS16 F46\n",
    "\n",
    "[Ghosh et al., 2014](https://www.ncbi.nlm.nih.gov/pubmed/24948608)\n",
    "\n",
    "![3JAQ Structure P-site](figure/rps16_pic.png)\n",
    "\n",
    "In the [yeast 40S PIC Structure 3JAQ](http://www.rcsb.org/structure/3JAQ) you can see the terminal RPS16 R143 interacting with P-site initiator tRNA. Adjacent to this position is U1191 (1190 in structure) which may interact with tRNA C34.\n"
   ]
  }
 ],
 "metadata": {
  "kernelspec": {
   "display_name": "R",
   "language": "R",
   "name": "ir"
  },
  "language_info": {
   "codemirror_mode": "r",
   "file_extension": ".r",
   "mimetype": "text/x-r-source",
   "name": "R",
   "pygments_lexer": "r",
   "version": "3.3.1"
  }
 },
 "nbformat": 4,
 "nbformat_minor": 2
}
